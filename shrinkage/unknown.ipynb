{
 "cells": [
  {
   "cell_type": "code",
   "execution_count": 4,
   "id": "f0bba7f1-cd47-4ca0-a0f0-a0e9d4bcda30",
   "metadata": {},
   "outputs": [],
   "source": [
    "import numpy as np\n",
    "import torch\n",
    "import torchvision\n",
    "from torch.utils.data import DataLoader\n",
    "import torch.nn as nn\n",
    "import torchvision.transforms as transforms\n",
    "import torch.optim as optim\n",
    "import torch.nn.functional as functional\n",
    "import matplotlib.pyplot as plt\n",
    "from tqdm import tqdm"
   ]
  },
  {
   "cell_type": "code",
   "execution_count": 2,
   "id": "5c7f8965-e16b-4c50-ac7e-67b383cb14bb",
   "metadata": {},
   "outputs": [
    {
     "name": "stdout",
     "output_type": "stream",
     "text": [
      "Files already downloaded and verified\n",
      "Files already downloaded and verified\n"
     ]
    }
   ],
   "source": [
    "transform = transforms.Compose([\n",
    "    transforms.ToTensor(),\n",
    "    transforms.Normalize((0.4914, 0.4822, 0.4465), (0.247, 0.243, 0.261))\n",
    "])\n",
    "\n",
    "batch_size = 64\n",
    "\n",
    "trainset = torchvision.datasets.CIFAR10(root='./data', train=True, download=True, transform=transform)\n",
    "trainloader = torch.utils.data.DataLoader(trainset, batch_size=batch_size, shuffle=True)\n",
    "\n",
    "testset = torchvision.datasets.CIFAR10(root='./data', train=False, download=True, transform=transform)\n",
    "testloader = torch.utils.data.DataLoader(testset, batch_size=batch_size, shuffle=False)\n",
    "\n",
    "classes = ('plane', 'car', 'bird', 'cat', 'deer', 'dog', 'frog', 'horse', 'ship', 'truck')"
   ]
  },
  {
   "cell_type": "code",
   "execution_count": 23,
   "id": "a7f33c49-471c-46c1-8556-f0b448493176",
   "metadata": {},
   "outputs": [],
   "source": [
    "def test(model, testloader):\n",
    "    model.eval()\n",
    "\n",
    "    correct = 0\n",
    "    total = 0\n",
    "\n",
    "    with torch.no_grad():\n",
    "        for data in testloader:\n",
    "            images, labels = data[0], data[1]\n",
    "            outputs = model(images)\n",
    "            _, predicted = torch.max(outputs.data, 1)\n",
    "            total = total + labels.size(0)\n",
    "            correct = correct + (predicted == labels).sum().item()\n",
    "\n",
    "    acc = correct / total\n",
    "\n",
    "    return acc\n"
   ]
  },
  {
   "cell_type": "code",
   "execution_count": 5,
   "id": "75a640d1-5ead-4922-8c89-ed1ae8fdc9bc",
   "metadata": {},
   "outputs": [],
   "source": [
    "class miniAlexNet(nn.Module):\n",
    "    def __init__(self, num_classes: int = 10) -> None:\n",
    "        super().__init__()\n",
    "        self.features = nn.Sequential(\n",
    "            nn.Conv2d(3, 96, kernel_size=5, stride=3, padding=2),\n",
    "            nn.ReLU(),\n",
    "            nn.MaxPool2d(kernel_size=3, stride=1, padding=1),\n",
    "            nn.Conv2d(96, 256, kernel_size=5, stride=3, padding=2),\n",
    "            nn.ReLU(),\n",
    "            nn.MaxPool2d(kernel_size=3, stride=1, padding=1)\n",
    "        )\n",
    "        self.classifier = nn.Sequential(\n",
    "            nn.Linear(256 * 4 * 4, 384),\n",
    "            nn.ReLU(),\n",
    "            nn.Linear(384, 192),\n",
    "            nn.ReLU(),\n",
    "            nn.Linear(192, num_classes)\n",
    "        )\n",
    "\n",
    "    def forward(self, x: torch.Tensor) -> torch.Tensor:\n",
    "        x = self.features(x)\n",
    "        x = torch.flatten(x, 1)\n",
    "        x = self.classifier(x)\n",
    "        return x"
   ]
  },
  {
   "cell_type": "code",
   "execution_count": 6,
   "id": "4289c37a-95af-406a-bd8f-20d9241f3cd7",
   "metadata": {},
   "outputs": [],
   "source": [
    "seed = 726\n",
    "torch.manual_seed(seed)\n",
    "model = miniAlexNet()"
   ]
  },
  {
   "cell_type": "code",
   "execution_count": 7,
   "id": "27cf41f0-92f4-4c62-a2e4-1804231a0769",
   "metadata": {},
   "outputs": [],
   "source": [
    "criterion = nn.CrossEntropyLoss()\n",
    "learning_rate = 0.0001\n",
    "optimizer = optim.SGD(model.parameters(), lr=learning_rate, momentum=0.9)"
   ]
  },
  {
   "cell_type": "code",
   "execution_count": 8,
   "id": "0850a7f1-babf-4675-ad25-7974a1e89685",
   "metadata": {},
   "outputs": [
    {
     "name": "stderr",
     "output_type": "stream",
     "text": [
      "Epoch 1/100 [Training]: 100%|████| 782/782 [01:10<00:00, 11.12it/s, loss=2.2871]\n",
      "Epoch 1/100 [Testing]: 100%|██████████████████| 157/157 [00:11<00:00, 13.26it/s]\n"
     ]
    },
    {
     "name": "stdout",
     "output_type": "stream",
     "text": [
      "epoch 1 finished, test accuracy: 0.1177\n"
     ]
    },
    {
     "name": "stderr",
     "output_type": "stream",
     "text": [
      "Epoch 2/100 [Training]: 100%|████| 782/782 [01:10<00:00, 11.12it/s, loss=2.2448]\n",
      "Epoch 2/100 [Testing]: 100%|██████████████████| 157/157 [00:11<00:00, 13.32it/s]\n"
     ]
    },
    {
     "name": "stdout",
     "output_type": "stream",
     "text": [
      "epoch 2 finished, test accuracy: 0.2029\n"
     ]
    },
    {
     "name": "stderr",
     "output_type": "stream",
     "text": [
      "Epoch 3/100 [Training]: 100%|████| 782/782 [01:10<00:00, 11.13it/s, loss=2.1657]\n",
      "Epoch 3/100 [Testing]: 100%|██████████████████| 157/157 [00:11<00:00, 13.27it/s]\n"
     ]
    },
    {
     "name": "stdout",
     "output_type": "stream",
     "text": [
      "epoch 3 finished, test accuracy: 0.2567\n"
     ]
    },
    {
     "name": "stderr",
     "output_type": "stream",
     "text": [
      "Epoch 4/100 [Training]: 100%|████| 782/782 [01:11<00:00, 11.01it/s, loss=2.0600]\n",
      "Epoch 4/100 [Testing]: 100%|██████████████████| 157/157 [00:12<00:00, 12.71it/s]\n"
     ]
    },
    {
     "name": "stdout",
     "output_type": "stream",
     "text": [
      "epoch 4 finished, test accuracy: 0.2815\n"
     ]
    },
    {
     "name": "stderr",
     "output_type": "stream",
     "text": [
      "Epoch 5/100 [Training]: 100%|████| 782/782 [01:12<00:00, 10.73it/s, loss=1.9573]\n",
      "Epoch 5/100 [Testing]: 100%|██████████████████| 157/157 [00:12<00:00, 12.77it/s]\n"
     ]
    },
    {
     "name": "stdout",
     "output_type": "stream",
     "text": [
      "epoch 5 finished, test accuracy: 0.3070\n"
     ]
    },
    {
     "name": "stderr",
     "output_type": "stream",
     "text": [
      "Epoch 6/100 [Training]: 100%|████| 782/782 [01:12<00:00, 10.74it/s, loss=1.8793]\n",
      "Epoch 6/100 [Testing]: 100%|██████████████████| 157/157 [00:12<00:00, 12.70it/s]\n"
     ]
    },
    {
     "name": "stdout",
     "output_type": "stream",
     "text": [
      "epoch 6 finished, test accuracy: 0.3340\n"
     ]
    },
    {
     "name": "stderr",
     "output_type": "stream",
     "text": [
      "Epoch 7/100 [Training]: 100%|████| 782/782 [01:12<00:00, 10.72it/s, loss=1.8087]\n",
      "Epoch 7/100 [Testing]: 100%|██████████████████| 157/157 [00:12<00:00, 12.73it/s]\n"
     ]
    },
    {
     "name": "stdout",
     "output_type": "stream",
     "text": [
      "epoch 7 finished, test accuracy: 0.3514\n"
     ]
    },
    {
     "name": "stderr",
     "output_type": "stream",
     "text": [
      "Epoch 8/100 [Training]: 100%|████| 782/782 [01:12<00:00, 10.73it/s, loss=1.7421]\n",
      "Epoch 8/100 [Testing]: 100%|██████████████████| 157/157 [00:12<00:00, 12.69it/s]\n"
     ]
    },
    {
     "name": "stdout",
     "output_type": "stream",
     "text": [
      "epoch 8 finished, test accuracy: 0.3806\n"
     ]
    },
    {
     "name": "stderr",
     "output_type": "stream",
     "text": [
      "Epoch 9/100 [Training]: 100%|████| 782/782 [01:12<00:00, 10.78it/s, loss=1.6838]\n",
      "Epoch 9/100 [Testing]: 100%|██████████████████| 157/157 [00:12<00:00, 12.74it/s]\n"
     ]
    },
    {
     "name": "stdout",
     "output_type": "stream",
     "text": [
      "epoch 9 finished, test accuracy: 0.3934\n"
     ]
    },
    {
     "name": "stderr",
     "output_type": "stream",
     "text": [
      "Epoch 10/100 [Training]: 100%|███| 782/782 [01:12<00:00, 10.80it/s, loss=1.6343]\n",
      "Epoch 10/100 [Testing]: 100%|█████████████████| 157/157 [00:12<00:00, 12.70it/s]\n"
     ]
    },
    {
     "name": "stdout",
     "output_type": "stream",
     "text": [
      "epoch 10 finished, test accuracy: 0.4168\n"
     ]
    },
    {
     "name": "stderr",
     "output_type": "stream",
     "text": [
      "Epoch 11/100 [Training]: 100%|███| 782/782 [01:12<00:00, 10.78it/s, loss=1.5897]\n",
      "Epoch 11/100 [Testing]: 100%|█████████████████| 157/157 [00:12<00:00, 12.73it/s]\n"
     ]
    },
    {
     "name": "stdout",
     "output_type": "stream",
     "text": [
      "epoch 11 finished, test accuracy: 0.4243\n"
     ]
    },
    {
     "name": "stderr",
     "output_type": "stream",
     "text": [
      "Epoch 12/100 [Training]: 100%|███| 782/782 [01:12<00:00, 10.78it/s, loss=1.5534]\n",
      "Epoch 12/100 [Testing]: 100%|█████████████████| 157/157 [00:12<00:00, 12.72it/s]\n"
     ]
    },
    {
     "name": "stdout",
     "output_type": "stream",
     "text": [
      "epoch 12 finished, test accuracy: 0.4385\n"
     ]
    },
    {
     "name": "stderr",
     "output_type": "stream",
     "text": [
      "Epoch 13/100 [Training]: 100%|███| 782/782 [01:12<00:00, 10.79it/s, loss=1.5201]\n",
      "Epoch 13/100 [Testing]: 100%|█████████████████| 157/157 [00:12<00:00, 12.71it/s]\n"
     ]
    },
    {
     "name": "stdout",
     "output_type": "stream",
     "text": [
      "epoch 13 finished, test accuracy: 0.4422\n"
     ]
    },
    {
     "name": "stderr",
     "output_type": "stream",
     "text": [
      "Epoch 14/100 [Training]: 100%|███| 782/782 [01:12<00:00, 10.80it/s, loss=1.4916]\n",
      "Epoch 14/100 [Testing]: 100%|█████████████████| 157/157 [00:12<00:00, 12.70it/s]\n"
     ]
    },
    {
     "name": "stdout",
     "output_type": "stream",
     "text": [
      "epoch 14 finished, test accuracy: 0.4599\n"
     ]
    },
    {
     "name": "stderr",
     "output_type": "stream",
     "text": [
      "Epoch 15/100 [Training]: 100%|███| 782/782 [01:11<00:00, 10.89it/s, loss=1.4629]\n",
      "Epoch 15/100 [Testing]: 100%|█████████████████| 157/157 [00:11<00:00, 13.26it/s]\n"
     ]
    },
    {
     "name": "stdout",
     "output_type": "stream",
     "text": [
      "epoch 15 finished, test accuracy: 0.4736\n"
     ]
    },
    {
     "name": "stderr",
     "output_type": "stream",
     "text": [
      "Epoch 16/100 [Training]: 100%|███| 782/782 [01:10<00:00, 11.07it/s, loss=1.4374]\n",
      "Epoch 16/100 [Testing]: 100%|█████████████████| 157/157 [00:11<00:00, 13.17it/s]\n"
     ]
    },
    {
     "name": "stdout",
     "output_type": "stream",
     "text": [
      "epoch 16 finished, test accuracy: 0.4739\n"
     ]
    },
    {
     "name": "stderr",
     "output_type": "stream",
     "text": [
      "Epoch 17/100 [Training]: 100%|███| 782/782 [01:10<00:00, 11.08it/s, loss=1.4124]\n",
      "Epoch 17/100 [Testing]: 100%|█████████████████| 157/157 [00:11<00:00, 13.19it/s]\n"
     ]
    },
    {
     "name": "stdout",
     "output_type": "stream",
     "text": [
      "epoch 17 finished, test accuracy: 0.4931\n"
     ]
    },
    {
     "name": "stderr",
     "output_type": "stream",
     "text": [
      "Epoch 18/100 [Training]: 100%|███| 782/782 [01:10<00:00, 11.04it/s, loss=1.3919]\n",
      "Epoch 18/100 [Testing]: 100%|█████████████████| 157/157 [00:11<00:00, 13.15it/s]\n"
     ]
    },
    {
     "name": "stdout",
     "output_type": "stream",
     "text": [
      "epoch 18 finished, test accuracy: 0.5039\n"
     ]
    },
    {
     "name": "stderr",
     "output_type": "stream",
     "text": [
      "Epoch 19/100 [Training]: 100%|███| 782/782 [01:10<00:00, 11.02it/s, loss=1.3669]\n",
      "Epoch 19/100 [Testing]: 100%|█████████████████| 157/157 [00:11<00:00, 13.14it/s]\n"
     ]
    },
    {
     "name": "stdout",
     "output_type": "stream",
     "text": [
      "epoch 19 finished, test accuracy: 0.5107\n"
     ]
    },
    {
     "name": "stderr",
     "output_type": "stream",
     "text": [
      "Epoch 20/100 [Training]: 100%|███| 782/782 [01:10<00:00, 11.03it/s, loss=1.3466]\n",
      "Epoch 20/100 [Testing]: 100%|█████████████████| 157/157 [00:11<00:00, 13.14it/s]\n"
     ]
    },
    {
     "name": "stdout",
     "output_type": "stream",
     "text": [
      "epoch 20 finished, test accuracy: 0.5092\n"
     ]
    },
    {
     "name": "stderr",
     "output_type": "stream",
     "text": [
      "Epoch 21/100 [Training]: 100%|███| 782/782 [01:11<00:00, 10.87it/s, loss=1.3258]\n",
      "Epoch 21/100 [Testing]: 100%|█████████████████| 157/157 [00:11<00:00, 13.23it/s]\n"
     ]
    },
    {
     "name": "stdout",
     "output_type": "stream",
     "text": [
      "epoch 21 finished, test accuracy: 0.5264\n"
     ]
    },
    {
     "name": "stderr",
     "output_type": "stream",
     "text": [
      "Epoch 22/100 [Training]: 100%|███| 782/782 [01:11<00:00, 10.95it/s, loss=1.3052]\n",
      "Epoch 22/100 [Testing]: 100%|█████████████████| 157/157 [00:11<00:00, 13.18it/s]\n"
     ]
    },
    {
     "name": "stdout",
     "output_type": "stream",
     "text": [
      "epoch 22 finished, test accuracy: 0.5253\n"
     ]
    },
    {
     "name": "stderr",
     "output_type": "stream",
     "text": [
      "Epoch 23/100 [Training]: 100%|███| 782/782 [01:10<00:00, 11.04it/s, loss=1.2864]\n",
      "Epoch 23/100 [Testing]: 100%|█████████████████| 157/157 [00:11<00:00, 13.15it/s]\n"
     ]
    },
    {
     "name": "stdout",
     "output_type": "stream",
     "text": [
      "epoch 23 finished, test accuracy: 0.5326\n"
     ]
    },
    {
     "name": "stderr",
     "output_type": "stream",
     "text": [
      "Epoch 24/100 [Training]: 100%|███| 782/782 [01:11<00:00, 10.96it/s, loss=1.2670]\n",
      "Epoch 24/100 [Testing]: 100%|█████████████████| 157/157 [00:12<00:00, 13.08it/s]\n"
     ]
    },
    {
     "name": "stdout",
     "output_type": "stream",
     "text": [
      "epoch 24 finished, test accuracy: 0.5319\n"
     ]
    },
    {
     "name": "stderr",
     "output_type": "stream",
     "text": [
      "Epoch 25/100 [Training]: 100%|███| 782/782 [01:10<00:00, 11.03it/s, loss=1.2489]\n",
      "Epoch 25/100 [Testing]: 100%|█████████████████| 157/157 [00:11<00:00, 13.19it/s]\n"
     ]
    },
    {
     "name": "stdout",
     "output_type": "stream",
     "text": [
      "epoch 25 finished, test accuracy: 0.5534\n"
     ]
    },
    {
     "name": "stderr",
     "output_type": "stream",
     "text": [
      "Epoch 26/100 [Training]: 100%|███| 782/782 [01:10<00:00, 11.04it/s, loss=1.2299]\n",
      "Epoch 26/100 [Testing]: 100%|█████████████████| 157/157 [00:11<00:00, 13.15it/s]\n"
     ]
    },
    {
     "name": "stdout",
     "output_type": "stream",
     "text": [
      "epoch 26 finished, test accuracy: 0.5599\n"
     ]
    },
    {
     "name": "stderr",
     "output_type": "stream",
     "text": [
      "Epoch 27/100 [Training]: 100%|███| 782/782 [01:11<00:00, 11.00it/s, loss=1.2148]\n",
      "Epoch 27/100 [Testing]: 100%|█████████████████| 157/157 [00:11<00:00, 13.17it/s]\n"
     ]
    },
    {
     "name": "stdout",
     "output_type": "stream",
     "text": [
      "epoch 27 finished, test accuracy: 0.5538\n"
     ]
    },
    {
     "name": "stderr",
     "output_type": "stream",
     "text": [
      "Epoch 28/100 [Training]: 100%|███| 782/782 [01:10<00:00, 11.02it/s, loss=1.1960]\n",
      "Epoch 28/100 [Testing]: 100%|█████████████████| 157/157 [00:11<00:00, 13.10it/s]\n"
     ]
    },
    {
     "name": "stdout",
     "output_type": "stream",
     "text": [
      "epoch 28 finished, test accuracy: 0.5619\n"
     ]
    },
    {
     "name": "stderr",
     "output_type": "stream",
     "text": [
      "Epoch 29/100 [Training]: 100%|███| 782/782 [01:11<00:00, 10.94it/s, loss=1.1776]\n",
      "Epoch 29/100 [Testing]: 100%|█████████████████| 157/157 [00:12<00:00, 12.99it/s]\n"
     ]
    },
    {
     "name": "stdout",
     "output_type": "stream",
     "text": [
      "epoch 29 finished, test accuracy: 0.5762\n"
     ]
    },
    {
     "name": "stderr",
     "output_type": "stream",
     "text": [
      "Epoch 30/100 [Training]: 100%|███| 782/782 [01:10<00:00, 11.04it/s, loss=1.1627]\n",
      "Epoch 30/100 [Testing]: 100%|█████████████████| 157/157 [00:11<00:00, 13.17it/s]\n"
     ]
    },
    {
     "name": "stdout",
     "output_type": "stream",
     "text": [
      "epoch 30 finished, test accuracy: 0.5712\n"
     ]
    },
    {
     "name": "stderr",
     "output_type": "stream",
     "text": [
      "Epoch 31/100 [Training]: 100%|███| 782/782 [01:10<00:00, 11.06it/s, loss=1.1468]\n",
      "Epoch 31/100 [Testing]: 100%|█████████████████| 157/157 [00:11<00:00, 13.09it/s]\n"
     ]
    },
    {
     "name": "stdout",
     "output_type": "stream",
     "text": [
      "epoch 31 finished, test accuracy: 0.5859\n"
     ]
    },
    {
     "name": "stderr",
     "output_type": "stream",
     "text": [
      "Epoch 32/100 [Training]: 100%|███| 782/782 [01:10<00:00, 11.01it/s, loss=1.1290]\n",
      "Epoch 32/100 [Testing]: 100%|█████████████████| 157/157 [00:11<00:00, 13.16it/s]\n"
     ]
    },
    {
     "name": "stdout",
     "output_type": "stream",
     "text": [
      "epoch 32 finished, test accuracy: 0.5927\n"
     ]
    },
    {
     "name": "stderr",
     "output_type": "stream",
     "text": [
      "Epoch 33/100 [Training]: 100%|███| 782/782 [01:11<00:00, 11.00it/s, loss=1.1143]\n",
      "Epoch 33/100 [Testing]: 100%|█████████████████| 157/157 [00:11<00:00, 13.14it/s]\n"
     ]
    },
    {
     "name": "stdout",
     "output_type": "stream",
     "text": [
      "epoch 33 finished, test accuracy: 0.5974\n"
     ]
    },
    {
     "name": "stderr",
     "output_type": "stream",
     "text": [
      "Epoch 34/100 [Training]: 100%|███| 782/782 [01:11<00:00, 10.98it/s, loss=1.0995]\n",
      "Epoch 34/100 [Testing]: 100%|█████████████████| 157/157 [00:12<00:00, 13.07it/s]\n"
     ]
    },
    {
     "name": "stdout",
     "output_type": "stream",
     "text": [
      "epoch 34 finished, test accuracy: 0.6008\n"
     ]
    },
    {
     "name": "stderr",
     "output_type": "stream",
     "text": [
      "Epoch 35/100 [Training]: 100%|███| 782/782 [01:11<00:00, 10.99it/s, loss=1.0879]\n",
      "Epoch 35/100 [Testing]: 100%|█████████████████| 157/157 [00:11<00:00, 13.14it/s]\n"
     ]
    },
    {
     "name": "stdout",
     "output_type": "stream",
     "text": [
      "epoch 35 finished, test accuracy: 0.6013\n"
     ]
    },
    {
     "name": "stderr",
     "output_type": "stream",
     "text": [
      "Epoch 36/100 [Training]: 100%|███| 782/782 [01:12<00:00, 10.86it/s, loss=1.0709]\n",
      "Epoch 36/100 [Testing]: 100%|█████████████████| 157/157 [00:12<00:00, 12.63it/s]\n"
     ]
    },
    {
     "name": "stdout",
     "output_type": "stream",
     "text": [
      "epoch 36 finished, test accuracy: 0.6069\n"
     ]
    },
    {
     "name": "stderr",
     "output_type": "stream",
     "text": [
      "Epoch 37/100 [Training]: 100%|███| 782/782 [01:13<00:00, 10.70it/s, loss=1.0559]\n",
      "Epoch 37/100 [Testing]: 100%|█████████████████| 157/157 [00:12<00:00, 12.65it/s]\n"
     ]
    },
    {
     "name": "stdout",
     "output_type": "stream",
     "text": [
      "epoch 37 finished, test accuracy: 0.6143\n"
     ]
    },
    {
     "name": "stderr",
     "output_type": "stream",
     "text": [
      "Epoch 38/100 [Training]: 100%|███| 782/782 [01:13<00:00, 10.68it/s, loss=1.0422]\n",
      "Epoch 38/100 [Testing]: 100%|█████████████████| 157/157 [00:12<00:00, 12.66it/s]\n"
     ]
    },
    {
     "name": "stdout",
     "output_type": "stream",
     "text": [
      "epoch 38 finished, test accuracy: 0.6200\n"
     ]
    },
    {
     "name": "stderr",
     "output_type": "stream",
     "text": [
      "Epoch 39/100 [Training]: 100%|███| 782/782 [01:11<00:00, 10.98it/s, loss=1.0293]\n",
      "Epoch 39/100 [Testing]: 100%|█████████████████| 157/157 [00:12<00:00, 13.02it/s]\n"
     ]
    },
    {
     "name": "stdout",
     "output_type": "stream",
     "text": [
      "epoch 39 finished, test accuracy: 0.6226\n"
     ]
    },
    {
     "name": "stderr",
     "output_type": "stream",
     "text": [
      "Epoch 40/100 [Training]: 100%|███| 782/782 [01:11<00:00, 10.95it/s, loss=1.0122]\n",
      "Epoch 40/100 [Testing]: 100%|█████████████████| 157/157 [00:11<00:00, 13.16it/s]\n"
     ]
    },
    {
     "name": "stdout",
     "output_type": "stream",
     "text": [
      "epoch 40 finished, test accuracy: 0.6206\n"
     ]
    },
    {
     "name": "stderr",
     "output_type": "stream",
     "text": [
      "Epoch 41/100 [Training]: 100%|███| 782/782 [01:11<00:00, 10.95it/s, loss=0.9994]\n",
      "Epoch 41/100 [Testing]: 100%|█████████████████| 157/157 [00:11<00:00, 13.15it/s]\n"
     ]
    },
    {
     "name": "stdout",
     "output_type": "stream",
     "text": [
      "epoch 41 finished, test accuracy: 0.6269\n"
     ]
    },
    {
     "name": "stderr",
     "output_type": "stream",
     "text": [
      "Epoch 42/100 [Training]: 100%|███| 782/782 [01:12<00:00, 10.84it/s, loss=0.9881]\n",
      "Epoch 42/100 [Testing]: 100%|█████████████████| 157/157 [00:11<00:00, 13.09it/s]\n"
     ]
    },
    {
     "name": "stdout",
     "output_type": "stream",
     "text": [
      "epoch 42 finished, test accuracy: 0.6149\n"
     ]
    },
    {
     "name": "stderr",
     "output_type": "stream",
     "text": [
      "Epoch 43/100 [Training]: 100%|███| 782/782 [01:11<00:00, 10.92it/s, loss=0.9756]\n",
      "Epoch 43/100 [Testing]: 100%|█████████████████| 157/157 [00:11<00:00, 13.14it/s]\n"
     ]
    },
    {
     "name": "stdout",
     "output_type": "stream",
     "text": [
      "epoch 43 finished, test accuracy: 0.6290\n"
     ]
    },
    {
     "name": "stderr",
     "output_type": "stream",
     "text": [
      "Epoch 44/100 [Training]: 100%|███| 782/782 [01:11<00:00, 10.93it/s, loss=0.9631]\n",
      "Epoch 44/100 [Testing]: 100%|█████████████████| 157/157 [00:11<00:00, 13.09it/s]\n"
     ]
    },
    {
     "name": "stdout",
     "output_type": "stream",
     "text": [
      "epoch 44 finished, test accuracy: 0.6291\n"
     ]
    },
    {
     "name": "stderr",
     "output_type": "stream",
     "text": [
      "Epoch 45/100 [Training]: 100%|███| 782/782 [01:11<00:00, 10.89it/s, loss=0.9501]\n",
      "Epoch 45/100 [Testing]: 100%|█████████████████| 157/157 [00:11<00:00, 13.15it/s]\n"
     ]
    },
    {
     "name": "stdout",
     "output_type": "stream",
     "text": [
      "epoch 45 finished, test accuracy: 0.6278\n"
     ]
    },
    {
     "name": "stderr",
     "output_type": "stream",
     "text": [
      "Epoch 46/100 [Training]: 100%|███| 782/782 [01:11<00:00, 10.95it/s, loss=0.9388]\n",
      "Epoch 46/100 [Testing]: 100%|█████████████████| 157/157 [00:11<00:00, 13.14it/s]\n"
     ]
    },
    {
     "name": "stdout",
     "output_type": "stream",
     "text": [
      "epoch 46 finished, test accuracy: 0.6401\n"
     ]
    },
    {
     "name": "stderr",
     "output_type": "stream",
     "text": [
      "Epoch 47/100 [Training]: 100%|███| 782/782 [01:11<00:00, 10.97it/s, loss=0.9230]\n",
      "Epoch 47/100 [Testing]: 100%|█████████████████| 157/157 [00:11<00:00, 13.09it/s]\n"
     ]
    },
    {
     "name": "stdout",
     "output_type": "stream",
     "text": [
      "epoch 47 finished, test accuracy: 0.6437\n"
     ]
    },
    {
     "name": "stderr",
     "output_type": "stream",
     "text": [
      "Epoch 48/100 [Training]: 100%|███| 782/782 [01:08<00:00, 11.35it/s, loss=0.9095]\n",
      "Epoch 48/100 [Testing]: 100%|█████████████████| 157/157 [00:11<00:00, 13.11it/s]\n"
     ]
    },
    {
     "name": "stdout",
     "output_type": "stream",
     "text": [
      "epoch 48 finished, test accuracy: 0.6429\n"
     ]
    },
    {
     "name": "stderr",
     "output_type": "stream",
     "text": [
      "Epoch 49/100 [Training]: 100%|███| 782/782 [01:10<00:00, 11.02it/s, loss=0.9006]\n",
      "Epoch 49/100 [Testing]: 100%|█████████████████| 157/157 [00:12<00:00, 13.04it/s]\n"
     ]
    },
    {
     "name": "stdout",
     "output_type": "stream",
     "text": [
      "epoch 49 finished, test accuracy: 0.6544\n"
     ]
    },
    {
     "name": "stderr",
     "output_type": "stream",
     "text": [
      "Epoch 50/100 [Training]: 100%|███| 782/782 [01:11<00:00, 10.98it/s, loss=0.8860]\n",
      "Epoch 50/100 [Testing]: 100%|█████████████████| 157/157 [00:12<00:00, 13.08it/s]\n"
     ]
    },
    {
     "name": "stdout",
     "output_type": "stream",
     "text": [
      "epoch 50 finished, test accuracy: 0.6509\n"
     ]
    },
    {
     "name": "stderr",
     "output_type": "stream",
     "text": [
      "Epoch 51/100 [Training]: 100%|███| 782/782 [01:12<00:00, 10.80it/s, loss=0.8760]\n",
      "Epoch 51/100 [Testing]: 100%|█████████████████| 157/157 [00:12<00:00, 12.97it/s]\n"
     ]
    },
    {
     "name": "stdout",
     "output_type": "stream",
     "text": [
      "epoch 51 finished, test accuracy: 0.6610\n"
     ]
    },
    {
     "name": "stderr",
     "output_type": "stream",
     "text": [
      "Epoch 52/100 [Training]: 100%|███| 782/782 [01:11<00:00, 10.90it/s, loss=0.8625]\n",
      "Epoch 52/100 [Testing]: 100%|█████████████████| 157/157 [00:12<00:00, 12.73it/s]\n"
     ]
    },
    {
     "name": "stdout",
     "output_type": "stream",
     "text": [
      "epoch 52 finished, test accuracy: 0.6562\n"
     ]
    },
    {
     "name": "stderr",
     "output_type": "stream",
     "text": [
      "Epoch 53/100 [Training]: 100%|███| 782/782 [01:13<00:00, 10.66it/s, loss=0.8556]\n",
      "Epoch 53/100 [Testing]: 100%|█████████████████| 157/157 [00:12<00:00, 12.62it/s]\n"
     ]
    },
    {
     "name": "stdout",
     "output_type": "stream",
     "text": [
      "epoch 53 finished, test accuracy: 0.6625\n"
     ]
    },
    {
     "name": "stderr",
     "output_type": "stream",
     "text": [
      "Epoch 54/100 [Training]: 100%|███| 782/782 [01:13<00:00, 10.63it/s, loss=0.8406]\n",
      "Epoch 54/100 [Testing]: 100%|█████████████████| 157/157 [00:12<00:00, 12.67it/s]\n"
     ]
    },
    {
     "name": "stdout",
     "output_type": "stream",
     "text": [
      "epoch 54 finished, test accuracy: 0.6668\n"
     ]
    },
    {
     "name": "stderr",
     "output_type": "stream",
     "text": [
      "Epoch 55/100 [Training]: 100%|███| 782/782 [01:12<00:00, 10.79it/s, loss=0.8329]\n",
      "Epoch 55/100 [Testing]: 100%|█████████████████| 157/157 [00:12<00:00, 12.65it/s]\n"
     ]
    },
    {
     "name": "stdout",
     "output_type": "stream",
     "text": [
      "epoch 55 finished, test accuracy: 0.6618\n"
     ]
    },
    {
     "name": "stderr",
     "output_type": "stream",
     "text": [
      "Epoch 56/100 [Training]: 100%|███| 782/782 [01:13<00:00, 10.65it/s, loss=0.8281]\n",
      "Epoch 56/100 [Testing]: 100%|█████████████████| 157/157 [00:12<00:00, 12.67it/s]\n"
     ]
    },
    {
     "name": "stdout",
     "output_type": "stream",
     "text": [
      "epoch 56 finished, test accuracy: 0.6610\n"
     ]
    },
    {
     "name": "stderr",
     "output_type": "stream",
     "text": [
      "Epoch 57/100 [Training]: 100%|███| 782/782 [01:13<00:00, 10.64it/s, loss=0.8120]\n",
      "Epoch 57/100 [Testing]: 100%|█████████████████| 157/157 [00:12<00:00, 12.59it/s]\n"
     ]
    },
    {
     "name": "stdout",
     "output_type": "stream",
     "text": [
      "epoch 57 finished, test accuracy: 0.6709\n"
     ]
    },
    {
     "name": "stderr",
     "output_type": "stream",
     "text": [
      "Epoch 58/100 [Training]: 100%|███| 782/782 [01:13<00:00, 10.65it/s, loss=0.8022]\n",
      "Epoch 58/100 [Testing]: 100%|█████████████████| 157/157 [00:12<00:00, 12.69it/s]\n"
     ]
    },
    {
     "name": "stdout",
     "output_type": "stream",
     "text": [
      "epoch 58 finished, test accuracy: 0.6713\n"
     ]
    },
    {
     "name": "stderr",
     "output_type": "stream",
     "text": [
      "Epoch 59/100 [Training]: 100%|███| 782/782 [01:13<00:00, 10.66it/s, loss=0.7926]\n",
      "Epoch 59/100 [Testing]: 100%|█████████████████| 157/157 [00:12<00:00, 12.70it/s]\n"
     ]
    },
    {
     "name": "stdout",
     "output_type": "stream",
     "text": [
      "epoch 59 finished, test accuracy: 0.6727\n"
     ]
    },
    {
     "name": "stderr",
     "output_type": "stream",
     "text": [
      "Epoch 60/100 [Training]: 100%|███| 782/782 [01:13<00:00, 10.64it/s, loss=0.7785]\n",
      "Epoch 60/100 [Testing]: 100%|█████████████████| 157/157 [00:12<00:00, 12.62it/s]\n"
     ]
    },
    {
     "name": "stdout",
     "output_type": "stream",
     "text": [
      "epoch 60 finished, test accuracy: 0.6671\n"
     ]
    },
    {
     "name": "stderr",
     "output_type": "stream",
     "text": [
      "Epoch 61/100 [Training]: 100%|███| 782/782 [01:13<00:00, 10.62it/s, loss=0.7722]\n",
      "Epoch 61/100 [Testing]: 100%|█████████████████| 157/157 [00:12<00:00, 12.64it/s]\n"
     ]
    },
    {
     "name": "stdout",
     "output_type": "stream",
     "text": [
      "epoch 61 finished, test accuracy: 0.6609\n"
     ]
    },
    {
     "name": "stderr",
     "output_type": "stream",
     "text": [
      "Epoch 62/100 [Training]: 100%|███| 782/782 [01:13<00:00, 10.63it/s, loss=0.7582]\n",
      "Epoch 62/100 [Testing]: 100%|█████████████████| 157/157 [00:12<00:00, 12.60it/s]\n"
     ]
    },
    {
     "name": "stdout",
     "output_type": "stream",
     "text": [
      "epoch 62 finished, test accuracy: 0.6731\n"
     ]
    },
    {
     "name": "stderr",
     "output_type": "stream",
     "text": [
      "Epoch 63/100 [Training]: 100%|███| 782/782 [01:13<00:00, 10.63it/s, loss=0.7524]\n",
      "Epoch 63/100 [Testing]: 100%|█████████████████| 157/157 [00:12<00:00, 12.56it/s]\n"
     ]
    },
    {
     "name": "stdout",
     "output_type": "stream",
     "text": [
      "epoch 63 finished, test accuracy: 0.6774\n"
     ]
    },
    {
     "name": "stderr",
     "output_type": "stream",
     "text": [
      "Epoch 64/100 [Training]: 100%|███| 782/782 [01:13<00:00, 10.61it/s, loss=0.7421]\n",
      "Epoch 64/100 [Testing]: 100%|█████████████████| 157/157 [00:12<00:00, 12.61it/s]\n"
     ]
    },
    {
     "name": "stdout",
     "output_type": "stream",
     "text": [
      "epoch 64 finished, test accuracy: 0.6724\n"
     ]
    },
    {
     "name": "stderr",
     "output_type": "stream",
     "text": [
      "Epoch 65/100 [Training]: 100%|███| 782/782 [01:13<00:00, 10.60it/s, loss=0.7294]\n",
      "Epoch 65/100 [Testing]: 100%|█████████████████| 157/157 [00:12<00:00, 12.62it/s]\n"
     ]
    },
    {
     "name": "stdout",
     "output_type": "stream",
     "text": [
      "epoch 65 finished, test accuracy: 0.6779\n"
     ]
    },
    {
     "name": "stderr",
     "output_type": "stream",
     "text": [
      "Epoch 66/100 [Training]: 100%|███| 782/782 [01:13<00:00, 10.61it/s, loss=0.7149]\n",
      "Epoch 66/100 [Testing]: 100%|█████████████████| 157/157 [00:12<00:00, 12.65it/s]\n"
     ]
    },
    {
     "name": "stdout",
     "output_type": "stream",
     "text": [
      "epoch 66 finished, test accuracy: 0.6801\n"
     ]
    },
    {
     "name": "stderr",
     "output_type": "stream",
     "text": [
      "Epoch 67/100 [Training]: 100%|███| 782/782 [01:13<00:00, 10.63it/s, loss=0.7072]\n",
      "Epoch 67/100 [Testing]: 100%|█████████████████| 157/157 [00:12<00:00, 12.66it/s]\n"
     ]
    },
    {
     "name": "stdout",
     "output_type": "stream",
     "text": [
      "epoch 67 finished, test accuracy: 0.6826\n"
     ]
    },
    {
     "name": "stderr",
     "output_type": "stream",
     "text": [
      "Epoch 68/100 [Training]: 100%|███| 782/782 [01:13<00:00, 10.62it/s, loss=0.6994]\n",
      "Epoch 68/100 [Testing]: 100%|█████████████████| 157/157 [00:12<00:00, 12.67it/s]\n"
     ]
    },
    {
     "name": "stdout",
     "output_type": "stream",
     "text": [
      "epoch 68 finished, test accuracy: 0.6858\n"
     ]
    },
    {
     "name": "stderr",
     "output_type": "stream",
     "text": [
      "Epoch 69/100 [Training]: 100%|███| 782/782 [01:13<00:00, 10.62it/s, loss=0.6902]\n",
      "Epoch 69/100 [Testing]: 100%|█████████████████| 157/157 [00:12<00:00, 12.67it/s]\n"
     ]
    },
    {
     "name": "stdout",
     "output_type": "stream",
     "text": [
      "epoch 69 finished, test accuracy: 0.6856\n"
     ]
    },
    {
     "name": "stderr",
     "output_type": "stream",
     "text": [
      "Epoch 70/100 [Training]: 100%|███| 782/782 [01:13<00:00, 10.59it/s, loss=0.6800]\n",
      "Epoch 70/100 [Testing]: 100%|█████████████████| 157/157 [00:12<00:00, 12.66it/s]\n"
     ]
    },
    {
     "name": "stdout",
     "output_type": "stream",
     "text": [
      "epoch 70 finished, test accuracy: 0.6885\n"
     ]
    },
    {
     "name": "stderr",
     "output_type": "stream",
     "text": [
      "Epoch 71/100 [Training]: 100%|███| 782/782 [01:13<00:00, 10.59it/s, loss=0.6678]\n",
      "Epoch 71/100 [Testing]: 100%|█████████████████| 157/157 [00:12<00:00, 12.60it/s]\n"
     ]
    },
    {
     "name": "stdout",
     "output_type": "stream",
     "text": [
      "epoch 71 finished, test accuracy: 0.6899\n"
     ]
    },
    {
     "name": "stderr",
     "output_type": "stream",
     "text": [
      "Epoch 72/100 [Training]: 100%|███| 782/782 [01:13<00:00, 10.58it/s, loss=0.6580]\n",
      "Epoch 72/100 [Testing]: 100%|█████████████████| 157/157 [00:12<00:00, 12.57it/s]\n"
     ]
    },
    {
     "name": "stdout",
     "output_type": "stream",
     "text": [
      "epoch 72 finished, test accuracy: 0.6855\n"
     ]
    },
    {
     "name": "stderr",
     "output_type": "stream",
     "text": [
      "Epoch 73/100 [Training]: 100%|███| 782/782 [01:13<00:00, 10.58it/s, loss=0.6475]\n",
      "Epoch 73/100 [Testing]: 100%|█████████████████| 157/157 [00:12<00:00, 12.58it/s]\n"
     ]
    },
    {
     "name": "stdout",
     "output_type": "stream",
     "text": [
      "epoch 73 finished, test accuracy: 0.6915\n"
     ]
    },
    {
     "name": "stderr",
     "output_type": "stream",
     "text": [
      "Epoch 74/100 [Training]: 100%|███| 782/782 [01:13<00:00, 10.57it/s, loss=0.6346]\n",
      "Epoch 74/100 [Testing]: 100%|█████████████████| 157/157 [00:12<00:00, 12.55it/s]\n"
     ]
    },
    {
     "name": "stdout",
     "output_type": "stream",
     "text": [
      "epoch 74 finished, test accuracy: 0.6951\n"
     ]
    },
    {
     "name": "stderr",
     "output_type": "stream",
     "text": [
      "Epoch 75/100 [Training]: 100%|███| 782/782 [01:14<00:00, 10.55it/s, loss=0.6306]\n",
      "Epoch 75/100 [Testing]: 100%|█████████████████| 157/157 [00:12<00:00, 12.61it/s]\n"
     ]
    },
    {
     "name": "stdout",
     "output_type": "stream",
     "text": [
      "epoch 75 finished, test accuracy: 0.6897\n"
     ]
    },
    {
     "name": "stderr",
     "output_type": "stream",
     "text": [
      "Epoch 76/100 [Training]: 100%|███| 782/782 [01:14<00:00, 10.55it/s, loss=0.6166]\n",
      "Epoch 76/100 [Testing]: 100%|█████████████████| 157/157 [00:12<00:00, 12.57it/s]\n"
     ]
    },
    {
     "name": "stdout",
     "output_type": "stream",
     "text": [
      "epoch 76 finished, test accuracy: 0.6930\n"
     ]
    },
    {
     "name": "stderr",
     "output_type": "stream",
     "text": [
      "Epoch 77/100 [Training]: 100%|███| 782/782 [01:14<00:00, 10.56it/s, loss=0.6120]\n",
      "Epoch 77/100 [Testing]: 100%|█████████████████| 157/157 [00:12<00:00, 12.63it/s]\n"
     ]
    },
    {
     "name": "stdout",
     "output_type": "stream",
     "text": [
      "epoch 77 finished, test accuracy: 0.6952\n"
     ]
    },
    {
     "name": "stderr",
     "output_type": "stream",
     "text": [
      "Epoch 78/100 [Training]: 100%|███| 782/782 [01:14<00:00, 10.56it/s, loss=0.5971]\n",
      "Epoch 78/100 [Testing]: 100%|█████████████████| 157/157 [00:12<00:00, 12.60it/s]\n"
     ]
    },
    {
     "name": "stdout",
     "output_type": "stream",
     "text": [
      "epoch 78 finished, test accuracy: 0.6899\n"
     ]
    },
    {
     "name": "stderr",
     "output_type": "stream",
     "text": [
      "Epoch 79/100 [Training]: 100%|███| 782/782 [01:13<00:00, 10.58it/s, loss=0.5929]\n",
      "Epoch 79/100 [Testing]: 100%|█████████████████| 157/157 [00:12<00:00, 12.63it/s]\n"
     ]
    },
    {
     "name": "stdout",
     "output_type": "stream",
     "text": [
      "epoch 79 finished, test accuracy: 0.6947\n"
     ]
    },
    {
     "name": "stderr",
     "output_type": "stream",
     "text": [
      "Epoch 80/100 [Training]: 100%|███| 782/782 [01:13<00:00, 10.64it/s, loss=0.5869]\n",
      "Epoch 80/100 [Testing]: 100%|█████████████████| 157/157 [00:12<00:00, 12.60it/s]\n"
     ]
    },
    {
     "name": "stdout",
     "output_type": "stream",
     "text": [
      "epoch 80 finished, test accuracy: 0.6999\n"
     ]
    },
    {
     "name": "stderr",
     "output_type": "stream",
     "text": [
      "Epoch 81/100 [Training]: 100%|███| 782/782 [01:13<00:00, 10.61it/s, loss=0.5723]\n",
      "Epoch 81/100 [Testing]: 100%|█████████████████| 157/157 [00:12<00:00, 12.67it/s]\n"
     ]
    },
    {
     "name": "stdout",
     "output_type": "stream",
     "text": [
      "epoch 81 finished, test accuracy: 0.6977\n"
     ]
    },
    {
     "name": "stderr",
     "output_type": "stream",
     "text": [
      "Epoch 82/100 [Training]: 100%|███| 782/782 [01:13<00:00, 10.60it/s, loss=0.5620]\n",
      "Epoch 82/100 [Testing]: 100%|█████████████████| 157/157 [00:12<00:00, 12.62it/s]\n"
     ]
    },
    {
     "name": "stdout",
     "output_type": "stream",
     "text": [
      "epoch 82 finished, test accuracy: 0.7012\n"
     ]
    },
    {
     "name": "stderr",
     "output_type": "stream",
     "text": [
      "Epoch 83/100 [Training]: 100%|███| 782/782 [01:13<00:00, 10.58it/s, loss=0.5581]\n",
      "Epoch 83/100 [Testing]: 100%|█████████████████| 157/157 [00:12<00:00, 12.65it/s]\n"
     ]
    },
    {
     "name": "stdout",
     "output_type": "stream",
     "text": [
      "epoch 83 finished, test accuracy: 0.6962\n"
     ]
    },
    {
     "name": "stderr",
     "output_type": "stream",
     "text": [
      "Epoch 84/100 [Training]: 100%|███| 782/782 [01:13<00:00, 10.58it/s, loss=0.5506]\n",
      "Epoch 84/100 [Testing]: 100%|█████████████████| 157/157 [00:12<00:00, 12.60it/s]\n"
     ]
    },
    {
     "name": "stdout",
     "output_type": "stream",
     "text": [
      "epoch 84 finished, test accuracy: 0.7003\n"
     ]
    },
    {
     "name": "stderr",
     "output_type": "stream",
     "text": [
      "Epoch 85/100 [Training]: 100%|███| 782/782 [01:13<00:00, 10.57it/s, loss=0.5335]\n",
      "Epoch 85/100 [Testing]: 100%|█████████████████| 157/157 [00:12<00:00, 12.66it/s]\n"
     ]
    },
    {
     "name": "stdout",
     "output_type": "stream",
     "text": [
      "epoch 85 finished, test accuracy: 0.7001\n"
     ]
    },
    {
     "name": "stderr",
     "output_type": "stream",
     "text": [
      "Epoch 86/100 [Training]: 100%|███| 782/782 [01:13<00:00, 10.58it/s, loss=0.5299]\n",
      "Epoch 86/100 [Testing]: 100%|█████████████████| 157/157 [00:12<00:00, 12.67it/s]\n"
     ]
    },
    {
     "name": "stdout",
     "output_type": "stream",
     "text": [
      "epoch 86 finished, test accuracy: 0.6972\n"
     ]
    },
    {
     "name": "stderr",
     "output_type": "stream",
     "text": [
      "Epoch 87/100 [Training]: 100%|███| 782/782 [01:13<00:00, 10.58it/s, loss=0.5164]\n",
      "Epoch 87/100 [Testing]: 100%|█████████████████| 157/157 [00:12<00:00, 12.59it/s]\n"
     ]
    },
    {
     "name": "stdout",
     "output_type": "stream",
     "text": [
      "epoch 87 finished, test accuracy: 0.6885\n"
     ]
    },
    {
     "name": "stderr",
     "output_type": "stream",
     "text": [
      "Epoch 88/100 [Training]: 100%|███| 782/782 [01:13<00:00, 10.58it/s, loss=0.5058]\n",
      "Epoch 88/100 [Testing]: 100%|█████████████████| 157/157 [00:12<00:00, 12.63it/s]\n"
     ]
    },
    {
     "name": "stdout",
     "output_type": "stream",
     "text": [
      "epoch 88 finished, test accuracy: 0.7064\n"
     ]
    },
    {
     "name": "stderr",
     "output_type": "stream",
     "text": [
      "Epoch 89/100 [Training]: 100%|███| 782/782 [01:13<00:00, 10.59it/s, loss=0.4955]\n",
      "Epoch 89/100 [Testing]: 100%|█████████████████| 157/157 [00:12<00:00, 12.64it/s]\n"
     ]
    },
    {
     "name": "stdout",
     "output_type": "stream",
     "text": [
      "epoch 89 finished, test accuracy: 0.7043\n"
     ]
    },
    {
     "name": "stderr",
     "output_type": "stream",
     "text": [
      "Epoch 90/100 [Training]: 100%|███| 782/782 [01:14<00:00, 10.55it/s, loss=0.4982]\n",
      "Epoch 90/100 [Testing]: 100%|█████████████████| 157/157 [00:12<00:00, 12.57it/s]\n"
     ]
    },
    {
     "name": "stdout",
     "output_type": "stream",
     "text": [
      "epoch 90 finished, test accuracy: 0.6999\n"
     ]
    },
    {
     "name": "stderr",
     "output_type": "stream",
     "text": [
      "Epoch 91/100 [Training]: 100%|███| 782/782 [01:13<00:00, 10.58it/s, loss=0.4749]\n",
      "Epoch 91/100 [Testing]: 100%|█████████████████| 157/157 [00:12<00:00, 12.61it/s]\n"
     ]
    },
    {
     "name": "stdout",
     "output_type": "stream",
     "text": [
      "epoch 91 finished, test accuracy: 0.7052\n"
     ]
    },
    {
     "name": "stderr",
     "output_type": "stream",
     "text": [
      "Epoch 92/100 [Training]: 100%|███| 782/782 [01:13<00:00, 10.58it/s, loss=0.4735]\n",
      "Epoch 92/100 [Testing]: 100%|█████████████████| 157/157 [00:12<00:00, 12.58it/s]\n"
     ]
    },
    {
     "name": "stdout",
     "output_type": "stream",
     "text": [
      "epoch 92 finished, test accuracy: 0.7041\n"
     ]
    },
    {
     "name": "stderr",
     "output_type": "stream",
     "text": [
      "Epoch 93/100 [Training]: 100%|███| 782/782 [01:13<00:00, 10.58it/s, loss=0.4623]\n",
      "Epoch 93/100 [Testing]: 100%|█████████████████| 157/157 [00:12<00:00, 12.58it/s]\n"
     ]
    },
    {
     "name": "stdout",
     "output_type": "stream",
     "text": [
      "epoch 93 finished, test accuracy: 0.7013\n"
     ]
    },
    {
     "name": "stderr",
     "output_type": "stream",
     "text": [
      "Epoch 94/100 [Training]: 100%|███| 782/782 [01:14<00:00, 10.56it/s, loss=0.4530]\n",
      "Epoch 94/100 [Testing]: 100%|█████████████████| 157/157 [00:12<00:00, 12.56it/s]\n"
     ]
    },
    {
     "name": "stdout",
     "output_type": "stream",
     "text": [
      "epoch 94 finished, test accuracy: 0.7042\n"
     ]
    },
    {
     "name": "stderr",
     "output_type": "stream",
     "text": [
      "Epoch 95/100 [Training]: 100%|███| 782/782 [01:14<00:00, 10.55it/s, loss=0.4416]\n",
      "Epoch 95/100 [Testing]: 100%|█████████████████| 157/157 [00:12<00:00, 12.61it/s]\n"
     ]
    },
    {
     "name": "stdout",
     "output_type": "stream",
     "text": [
      "epoch 95 finished, test accuracy: 0.7074\n"
     ]
    },
    {
     "name": "stderr",
     "output_type": "stream",
     "text": [
      "Epoch 96/100 [Training]: 100%|███| 782/782 [01:14<00:00, 10.55it/s, loss=0.4301]\n",
      "Epoch 96/100 [Testing]: 100%|█████████████████| 157/157 [00:12<00:00, 12.68it/s]\n"
     ]
    },
    {
     "name": "stdout",
     "output_type": "stream",
     "text": [
      "epoch 96 finished, test accuracy: 0.6998\n"
     ]
    },
    {
     "name": "stderr",
     "output_type": "stream",
     "text": [
      "Epoch 97/100 [Training]: 100%|███| 782/782 [01:13<00:00, 10.57it/s, loss=0.4243]\n",
      "Epoch 97/100 [Testing]: 100%|█████████████████| 157/157 [00:12<00:00, 12.62it/s]\n"
     ]
    },
    {
     "name": "stdout",
     "output_type": "stream",
     "text": [
      "epoch 97 finished, test accuracy: 0.7008\n"
     ]
    },
    {
     "name": "stderr",
     "output_type": "stream",
     "text": [
      "Epoch 98/100 [Training]: 100%|███| 782/782 [01:13<00:00, 10.57it/s, loss=0.4176]\n",
      "Epoch 98/100 [Testing]: 100%|█████████████████| 157/157 [00:12<00:00, 12.68it/s]\n"
     ]
    },
    {
     "name": "stdout",
     "output_type": "stream",
     "text": [
      "epoch 98 finished, test accuracy: 0.6838\n"
     ]
    },
    {
     "name": "stderr",
     "output_type": "stream",
     "text": [
      "Epoch 99/100 [Training]: 100%|███| 782/782 [01:13<00:00, 10.59it/s, loss=0.4066]\n",
      "Epoch 99/100 [Testing]: 100%|█████████████████| 157/157 [00:12<00:00, 12.64it/s]\n"
     ]
    },
    {
     "name": "stdout",
     "output_type": "stream",
     "text": [
      "epoch 99 finished, test accuracy: 0.6977\n"
     ]
    },
    {
     "name": "stderr",
     "output_type": "stream",
     "text": [
      "Epoch 100/100 [Training]: 100%|██| 782/782 [01:13<00:00, 10.57it/s, loss=0.4030]\n",
      "Epoch 100/100 [Testing]: 100%|████████████████| 157/157 [00:12<00:00, 12.63it/s]\n"
     ]
    },
    {
     "name": "stdout",
     "output_type": "stream",
     "text": [
      "epoch 100 finished, test accuracy: 0.6942\n",
      "Finished training\n"
     ]
    },
    {
     "data": {
      "image/png": "[encoded data removed]",
      "text/plain": [
       "<Figure size 640x480 with 1 Axes>"
      ]
     },
     "metadata": {},
     "output_type": "display_data"
    }
   ],
   "source": [
    "epochs = 100\n",
    "accuracy = []\n",
    "\n",
    "for epoch in range(epochs):\n",
    "    correct = 0.0\n",
    "    total = 0.0\n",
    "\n",
    "    model.train()\n",
    "    total_loss = 0.0\n",
    "\n",
    "    train_pbar = tqdm(trainloader, desc=f\"Epoch {epoch+1}/{epochs} [Training]\", leave=True)\n",
    "    for i, data in enumerate(train_pbar):\n",
    "        inputs, labels = data\n",
    "        optimizer.zero_grad()\n",
    "        outputs = model(inputs)\n",
    "        loss = criterion(outputs, labels)\n",
    "        loss.backward()\n",
    "        optimizer.step()\n",
    "        total_loss += loss.item()\n",
    "        avg_loss = total_loss / (i + 1) \n",
    "        train_pbar.set_postfix(loss=f\"{avg_loss:.4f}\")\n",
    "    \n",
    "    model.eval()\n",
    "    with torch.no_grad():\n",
    "        test_pbar = tqdm(testloader, desc=f\"Epoch {epoch+1}/{epochs} [Testing]\")\n",
    "        for testdata in test_pbar:\n",
    "            images, testlabels = testdata\n",
    "            testlabels = functional.one_hot(testlabels,num_classes=10).float()\n",
    "            predictions = model(images)\n",
    "            _, predicted_labels = torch.max(predictions.data, 1)\n",
    "            total += testlabels.size(0)\n",
    "            correct += (predicted_labels == testlabels.argmax(dim=1)).sum().item()\n",
    "\n",
    "        acc = correct / total\n",
    "        accuracy.append(acc)\n",
    "    \n",
    "    print(f'epoch {epoch + 1} finished, test accuracy: {acc:.4f}')\n",
    "    if total_loss < 0.0001:\n",
    "        break\n",
    "\n",
    "print('Finished training')\n",
    "\n",
    "acc_array = np.array(accuracy)\n",
    "fig, ax = plt.subplots()\n",
    "ax.plot(acc_array)\n",
    "ax.set_xlabel('Epochs')\n",
    "ax.set_ylabel('Accuracy')\n",
    "ax.set_title('Accuracies across epochs')\n",
    "plt.show()"
   ]
  },
  {
   "cell_type": "code",
   "execution_count": 9,
   "id": "8ee52c27-8f18-4c00-8f40-66e96b8aecbc",
   "metadata": {},
   "outputs": [
    {
     "name": "stdout",
     "output_type": "stream",
     "text": [
      "384 4096 192 384 10 192\n"
     ]
    }
   ],
   "source": [
    "model.eval()\n",
    "\n",
    "w1 = model.classifier[0].weight.detach()\n",
    "w2 = model.classifier[2].weight.detach()\n",
    "w3 = model.classifier[4].weight.detach()\n",
    "\n",
    "u1, s1, vh1 = torch.linalg.svd(w1, full_matrices=False)\n",
    "u2, s2, vh2 = torch.linalg.svd(w2, full_matrices=False)\n",
    "u3, s3, vh3 = torch.linalg.svd(w3, full_matrices=False)\n",
    "\n",
    "n1, p1 = w1.size()\n",
    "n2, p2 = w2.size()\n",
    "n3, p3 = w3.size()\n",
    "\n",
    "print(n1,p1,n2,p2,n3,p3)"
   ]
  },
  {
   "cell_type": "code",
   "execution_count": 36,
   "id": "45254857-d9a8-46ca-8366-9aaaeb411db5",
   "metadata": {},
   "outputs": [],
   "source": [
    "k1 = min(n1,p1)\n",
    "k2 = min(n2,p2)"
   ]
  },
  {
   "cell_type": "code",
   "execution_count": 16,
   "id": "6af25fa9-5a4c-4024-920a-80d3c82d468b",
   "metadata": {},
   "outputs": [
    {
     "data": {
      "image/png": "[encoded data removed]",
      "text/plain": [
       "<Figure size 1200x1000 with 6 Axes>"
      ]
     },
     "metadata": {},
     "output_type": "display_data"
    }
   ],
   "source": [
    "fig, ax = plt.subplots(3,2, figsize=(12,10))\n",
    "ax[0,0].hist(s1**2 / n1, density=True, bins=300)\n",
    "ax[0,1].hist(s1**2 / p1, density=True, bins=300)\n",
    "ax[1,0].hist(s2**2 / n2, density=True, bins=300)\n",
    "ax[1,1].hist(s2**2 / p2, density=True, bins=300)\n",
    "ax[2,0].hist(s3**2 / n3, density=True, bins=100)\n",
    "ax[2,1].hist(s3**2 / p3, density=True, bins=100)\n",
    "plt.show()"
   ]
  },
  {
   "cell_type": "code",
   "execution_count": 30,
   "id": "758392a9-9c67-4f15-8855-e6571c3a3c50",
   "metadata": {},
   "outputs": [
    {
     "data": {
      "text/plain": [
       "<All keys matched successfully>"
      ]
     },
     "execution_count": 30,
     "metadata": {},
     "output_type": "execute_result"
    }
   ],
   "source": [
    "model_lr = miniAlexNet()\n",
    "model_reg_travg = miniAlexNet()\n",
    "\n",
    "model_lr.load_state_dict(model.state_dict())\n",
    "model_reg_travg.load_state_dict(model.state_dict())"
   ]
  },
  {
   "cell_type": "code",
   "execution_count": 32,
   "id": "cf182ab8-57d2-4064-b36c-88cab25ceacf",
   "metadata": {},
   "outputs": [
    {
     "name": "stdout",
     "output_type": "stream",
     "text": [
      "0.6784 0.9772399884759435\n"
     ]
    }
   ],
   "source": [
    "r1 = 9\n",
    "r2 = 9\n",
    "\n",
    "model_lr.classifier[0].weight = nn.Parameter(u1[:,0:r1] @ torch.diag(s1[0:r1]) @ vh1[0:r1,:])\n",
    "model_lr.classifier[2].weight = nn.Parameter(u2[:,0:r2] @ torch.diag(s2[0:r2]) @ vh2[0:r2,:])\n",
    "\n",
    "acc_lr = test(model_lr, testloader)\n",
    "acc_orig = test(model, testloader)\n",
    "\n",
    "print(acc_lr, acc_lr / acc_orig)"
   ]
  },
  {
   "cell_type": "code",
   "execution_count": 33,
   "id": "9bf10375-03a0-4fd6-9ac2-f8bd7a9c3002",
   "metadata": {},
   "outputs": [
    {
     "name": "stdout",
     "output_type": "stream",
     "text": [
      "tensor(0.0579)\n",
      "tensor(0.1185)\n"
     ]
    }
   ],
   "source": [
    "print(s1[0:r1].sum() / s1.sum())\n",
    "print(s2[0:r2].sum() / s2.sum())"
   ]
  },
  {
   "cell_type": "code",
   "execution_count": 34,
   "id": "b1430217-0ff9-4799-b995-32267c64fcbe",
   "metadata": {},
   "outputs": [],
   "source": [
    "u1_reg_travg, spec_n1, _ = torch.linalg.svd(u1[:,0:r1] @ torch.diag(s1[0:r1]**2) @ u1[:,0:r1].T + \n",
    "                                      torch.trace(w1 @ w1.T - u1[:,0:r1] @ torch.diag(s1[0:r1]**2) @ u1[:,0:r1].T) * \n",
    "                                      torch.eye(n1) / n1)\n",
    "u2_reg_travg, spec_n2, _ = torch.linalg.svd(u2[:,0:r2] @ torch.diag(s2[0:r2]**2) @ u2[:,0:r2].T + \n",
    "                                      torch.trace(w2 @ w2.T - u2[:,0:r2] @ torch.diag(s2[0:r2]**2) @ u2[:,0:r2].T) * \n",
    "                                      torch.eye(n2) / n2)\n",
    "_, spec_p1, vh1_reg_travg = torch.linalg.svd(vh1[0:r1,:].T @ torch.diag(s1[0:r1]**2) @ vh1[0:r1,:] + \n",
    "                                       torch.trace(w1.T @ w1 - vh1[0:r1,:].T @ torch.diag(s1[0:r1]**2) @ vh1[0:r1,:]) * \n",
    "                                       torch.eye(p1) / p1)\n",
    "_, spec_p2, vh2_reg_travg = torch.linalg.svd(vh2[0:r2,:].T @ torch.diag(s2[0:r2]**2) @ vh2[0:r2,:] + \n",
    "                                       torch.trace(w2.T @ w2 - vh2[0:r2,:].T @ torch.diag(s2[0:r2]**2) @ vh2[0:r2,:]) * \n",
    "                                       torch.eye(p2) / p2)"
   ]
  },
  {
   "cell_type": "code",
   "execution_count": 44,
   "id": "d1ffa4ed-d400-448a-b658-29140b77257e",
   "metadata": {},
   "outputs": [
    {
     "data": {
      "image/png": "[encoded data removed]",
      "text/plain": [
       "<Figure size 1200x700 with 4 Axes>"
      ]
     },
     "metadata": {},
     "output_type": "display_data"
    }
   ],
   "source": [
    "fig_reg, ax_reg = plt.subplots(2,2, figsize=(12,7))\n",
    "ax_reg[0,0].hist(spec_p1[0:k1]**2 / n1, density=True, bins=300)\n",
    "ax_reg[0,1].hist(spec_n1[0:k1]**2 / p1, density=True, bins=300)\n",
    "ax_reg[1,0].hist(spec_p2[0:k2]**2 / n2, density=True, bins=300)\n",
    "ax_reg[1,1].hist(spec_n2[0:k2]**2 / p2, density=True, bins=300)\n",
    "plt.show()"
   ]
  },
  {
   "cell_type": "code",
   "execution_count": 38,
   "id": "688124b0-14d6-497e-86b7-2f85802fbada",
   "metadata": {},
   "outputs": [
    {
     "name": "stdout",
     "output_type": "stream",
     "text": [
      "0.0985 0.1418899452607318\n"
     ]
    }
   ],
   "source": [
    "model_reg_travg.classifier[0].weight = nn.Parameter(u1_reg_travg[:,0:k1] @ torch.diag(s1[0:k1]) @ vh1_reg_travg[0:k1,:])\n",
    "model_reg_travg.classifier[2].weight = nn.Parameter(u2_reg_travg[:,0:k2] @ torch.diag(s2[0:k2]) @ vh2_reg_travg[0:k2,:])\n",
    "\n",
    "acc_reg_travg = test(model_reg_travg, testloader)\n",
    "\n",
    "print(acc_reg_travg, acc_reg_travg / acc_orig)"
   ]
  },
  {
   "cell_type": "code",
   "execution_count": 39,
   "id": "9c10f31a-fe77-4806-9283-3921374c6604",
   "metadata": {},
   "outputs": [
    {
     "data": {
      "text/plain": [
       "<All keys matched successfully>"
      ]
     },
     "execution_count": 39,
     "metadata": {},
     "output_type": "execute_result"
    }
   ],
   "source": [
    "model_reg_diag = miniAlexNet()\n",
    "model_reg_diag.load_state_dict(model.state_dict())"
   ]
  },
  {
   "cell_type": "code",
   "execution_count": 40,
   "id": "776ad237-a65b-471c-9636-defbfd265dd0",
   "metadata": {},
   "outputs": [],
   "source": [
    "u1_reg_diag, spec_diag_n1, _ = torch.linalg.svd(u1[:,0:r1] @ torch.diag(s1[0:r1]**2) @ u1[:,0:r1].T + \n",
    "                                      torch.diag(torch.diag(w1 @ w1.T - u1[:,0:r1] @ torch.diag(s1[0:r1]**2) @ u1[:,0:r1].T)))\n",
    "u2_reg_diag, spec_diag_n2, _ = torch.linalg.svd(u2[:,0:r2] @ torch.diag(s2[0:r2]**2) @ u2[:,0:r2].T + \n",
    "                                      torch.diag(torch.diag(w2 @ w2.T - u2[:,0:r2] @ torch.diag(s2[0:r2]**2) @ u2[:,0:r2].T)))\n",
    "_, spec_diag_p1, vh1_reg_diag = torch.linalg.svd(vh1[0:r1,:].T @ torch.diag(s1[0:r1]**2) @ vh1[0:r1,:] + \n",
    "                                       torch.diag(torch.diag(w1.T @ w1 - vh1[0:r1,:].T @ torch.diag(s1[0:r1]**2) @ vh1[0:r1,:])))\n",
    "_, spec_diag_p2, vh2_reg_diag = torch.linalg.svd(vh2[0:r2,:].T @ torch.diag(s2[0:r2]**2) @ vh2[0:r2,:] + \n",
    "                                       torch.diag(torch.diag(w2.T @ w2 - vh2[0:r2,:].T @ torch.diag(s2[0:r2]**2) @ vh2[0:r2,:])))"
   ]
  },
  {
   "cell_type": "code",
   "execution_count": 45,
   "id": "c6f37f62-9963-4512-8fc2-9a4e75bd62c9",
   "metadata": {},
   "outputs": [
    {
     "data": {
      "image/png": "[encoded data removed]",
      "text/plain": [
       "<Figure size 1200x700 with 4 Axes>"
      ]
     },
     "metadata": {},
     "output_type": "display_data"
    }
   ],
   "source": [
    "fig_reg_diag, ax_reg_diag = plt.subplots(2,2, figsize=(12,7))\n",
    "ax_reg_diag[0,0].hist(spec_diag_p1[0:k1]**2 / n1, density=True, bins=300)\n",
    "ax_reg_diag[0,1].hist(spec_diag_n1[0:k1]**2 / p1, density=True, bins=300)\n",
    "ax_reg_diag[1,0].hist(spec_diag_p2[0:k2]**2 / n2, density=True, bins=300)\n",
    "ax_reg_diag[1,1].hist(spec_diag_n2[0:k2]**2 / p2, density=True, bins=300)\n",
    "plt.show()"
   ]
  },
  {
   "cell_type": "code",
   "execution_count": 43,
   "id": "62608731-9168-4b84-971e-ec7a1ace64a6",
   "metadata": {},
   "outputs": [
    {
     "name": "stdout",
     "output_type": "stream",
     "text": [
      "0.1056 0.15211754537597233\n"
     ]
    }
   ],
   "source": [
    "model_reg_diag.classifier[0].weight = nn.Parameter(u1_reg_diag[:,0:k1] @ torch.diag(s1[0:k1]) @ vh1_reg_diag[0:k1,:])\n",
    "model_reg_diag.classifier[2].weight = nn.Parameter(u2_reg_diag[:,0:k2] @ torch.diag(s2[0:k2]) @ vh2_reg_diag[0:k2,:])\n",
    "\n",
    "acc_reg_diag = test(model_reg_diag, testloader)\n",
    "\n",
    "print(acc_reg_diag, acc_reg_diag / acc_orig)"
   ]
  }
 ],
 "metadata": {
  "kernelspec": {
   "display_name": "Python 3 (ipykernel)",
   "language": "python",
   "name": "python3"
  },
  "language_info": {
   "codemirror_mode": {
    "name": "ipython",
    "version": 3
   },
   "file_extension": ".py",
   "mimetype": "text/x-python",
   "name": "python",
   "nbconvert_exporter": "python",
   "pygments_lexer": "ipython3",
   "version": "3.11.10"
  }
 },
 "nbformat": 4,
 "nbformat_minor": 5
}
