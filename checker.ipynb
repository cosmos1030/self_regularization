{
 "cells": [
  {
   "cell_type": "code",
   "execution_count": 12,
   "id": "45dc7446-57cb-49b2-a2c5-1a4ff9f2426d",
   "metadata": {
    "execution": {
     "iopub.execute_input": "2025-02-07T07:05:07.257021Z",
     "iopub.status.busy": "2025-02-07T07:05:07.256073Z",
     "iopub.status.idle": "2025-02-07T07:05:07.343987Z",
     "shell.execute_reply": "2025-02-07T07:05:07.343165Z",
     "shell.execute_reply.started": "2025-02-07T07:05:07.256993Z"
    }
   },
   "outputs": [
    {
     "data": {
      "text/plain": [
       "(100, 1)"
      ]
     },
     "execution_count": 12,
     "metadata": {},
     "output_type": "execute_result"
    }
   ],
   "source": [
    "import pandas as pd\n",
    "\n",
    "df = pd.read_csv(\"./run0/eigenvectors/fc1.csv\", header=None)\n",
    "df.shape"
   ]
  },
  {
   "cell_type": "code",
   "execution_count": 7,
   "id": "281b5b5f-199c-483d-8132-41fe051dc2e4",
   "metadata": {
    "execution": {
     "iopub.execute_input": "2025-02-07T00:31:54.583184Z",
     "iopub.status.busy": "2025-02-07T00:31:54.582807Z",
     "iopub.status.idle": "2025-02-07T00:31:54.589025Z",
     "shell.execute_reply": "2025-02-07T00:31:54.588131Z",
     "shell.execute_reply.started": "2025-02-07T00:31:54.583161Z"
    }
   },
   "outputs": [
    {
     "data": {
      "text/plain": [
       "False"
      ]
     },
     "execution_count": 7,
     "metadata": {},
     "output_type": "execute_result"
    }
   ],
   "source": [
    "os.path.isdir('run7')"
   ]
  },
  {
   "cell_type": "code",
   "execution_count": 10,
   "id": "7d25e72f-5d3c-4bf0-a08f-2d838e4baaca",
   "metadata": {
    "execution": {
     "iopub.execute_input": "2025-02-07T00:34:00.435792Z",
     "iopub.status.busy": "2025-02-07T00:34:00.435497Z",
     "iopub.status.idle": "2025-02-07T00:34:00.441131Z",
     "shell.execute_reply": "2025-02-07T00:34:00.440406Z",
     "shell.execute_reply.started": "2025-02-07T00:34:00.435768Z"
    }
   },
   "outputs": [],
   "source": [
    "import os\n",
    "i=4\n",
    "base_dir = None\n",
    "while 1:\n",
    "    if not os.path.isdir(f'run{i}'):\n",
    "        os.mkdir(f\"run{i}\")\n",
    "        base_dir = f\"run{i}\"\n",
    "        break\n",
    "    else:\n",
    "        i +=1"
   ]
  },
  {
   "cell_type": "code",
   "execution_count": null,
   "id": "9568f60a-4286-4c32-b9b0-7f4b1057d235",
   "metadata": {},
   "outputs": [],
   "source": []
  }
 ],
 "metadata": {
  "kernelspec": {
   "display_name": "Python 3 (ipykernel)",
   "language": "python",
   "name": "python3"
  },
  "language_info": {
   "codemirror_mode": {
    "name": "ipython",
    "version": 3
   },
   "file_extension": ".py",
   "mimetype": "text/x-python",
   "name": "python",
   "nbconvert_exporter": "python",
   "pygments_lexer": "ipython3",
   "version": "3.11.7"
  }
 },
 "nbformat": 4,
 "nbformat_minor": 5
}
