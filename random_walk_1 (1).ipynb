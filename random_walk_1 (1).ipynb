{
 "cells": [
  {
   "cell_type": "code",
   "execution_count": 2,
   "id": "f7866a39-b49a-4e52-a668-c3e6829d77d7",
   "metadata": {
    "execution": {
     "iopub.execute_input": "2025-02-01T02:55:44.121369Z",
     "iopub.status.busy": "2025-02-01T02:55:44.120709Z",
     "iopub.status.idle": "2025-02-01T02:56:12.081049Z",
     "shell.execute_reply": "2025-02-01T02:56:12.080128Z",
     "shell.execute_reply.started": "2025-02-01T02:55:44.121344Z"
    }
   },
   "outputs": [
    {
     "name": "stdout",
     "output_type": "stream",
     "text": [
      "Collecting jax\n",
      "  Downloading jax-0.5.0-py3-none-any.whl.metadata (22 kB)\n",
      "Collecting jaxlib<=0.5.0,>=0.5.0 (from jax)\n",
      "  Downloading jaxlib-0.5.0-cp311-cp311-manylinux2014_x86_64.whl.metadata (978 bytes)\n",
      "Collecting ml_dtypes>=0.4.0 (from jax)\n",
      "  Downloading ml_dtypes-0.5.1-cp311-cp311-manylinux_2_17_x86_64.manylinux2014_x86_64.whl.metadata (21 kB)\n",
      "Requirement already satisfied: numpy>=1.25 in /usr/local/lib/python3.11/dist-packages (from jax) (1.26.3)\n",
      "Requirement already satisfied: opt_einsum in /usr/local/lib/python3.11/dist-packages (from jax) (3.3.0)\n",
      "Requirement already satisfied: scipy>=1.11.1 in /usr/local/lib/python3.11/dist-packages (from jax) (1.11.2)\n",
      "Downloading jax-0.5.0-py3-none-any.whl (2.3 MB)\n",
      "\u001b[2K   \u001b[90m━━━━━━━━━━━━━━━━━━━━━━━━━━━━━━━━━━━━━━━━\u001b[0m \u001b[32m2.3/2.3 MB\u001b[0m \u001b[31m28.6 MB/s\u001b[0m eta \u001b[36m0:00:00\u001b[0m00:01\u001b[0m00:01\u001b[0m\n",
      "\u001b[?25hDownloading jaxlib-0.5.0-cp311-cp311-manylinux2014_x86_64.whl (102.0 MB)\n",
      "\u001b[2K   \u001b[90m━━━━━━━━━━━━━━━━━━━━━━━━━━━━━━━━━━━━━━━━\u001b[0m \u001b[32m102.0/102.0 MB\u001b[0m \u001b[31m16.5 MB/s\u001b[0m eta \u001b[36m0:00:00\u001b[0m00:01\u001b[0m0:01\u001b[0m\n",
      "\u001b[?25hDownloading ml_dtypes-0.5.1-cp311-cp311-manylinux_2_17_x86_64.manylinux2014_x86_64.whl (4.7 MB)\n",
      "\u001b[2K   \u001b[90m━━━━━━━━━━━━━━━━━━━━━━━━━━━━━━━━━━━━━━━━\u001b[0m \u001b[32m4.7/4.7 MB\u001b[0m \u001b[31m35.6 MB/s\u001b[0m eta \u001b[36m0:00:00\u001b[0m00:01\u001b[0m00:01\u001b[0m\n",
      "\u001b[?25hInstalling collected packages: ml_dtypes, jaxlib, jax\n",
      "  Attempting uninstall: ml_dtypes\n",
      "    Found existing installation: ml-dtypes 0.2.0\n",
      "    Uninstalling ml-dtypes-0.2.0:\n",
      "      Successfully uninstalled ml-dtypes-0.2.0\n",
      "\u001b[31mERROR: pip's dependency resolver does not currently take into account all the packages that are installed. This behaviour is the source of the following dependency conflicts.\n",
      "tensorflow 2.15.0 requires ml-dtypes~=0.2.0, but you have ml-dtypes 0.5.1 which is incompatible.\u001b[0m\u001b[31m\n",
      "\u001b[0mSuccessfully installed jax-0.5.0 jaxlib-0.5.0 ml_dtypes-0.5.1\n",
      "\u001b[33mWARNING: Running pip as the 'root' user can result in broken permissions and conflicting behaviour with the system package manager. It is recommended to use a virtual environment instead: https://pip.pypa.io/warnings/venv\u001b[0m\u001b[33m\n",
      "\u001b[0m"
     ]
    }
   ],
   "source": [
    "!pip install jax"
   ]
  },
  {
   "cell_type": "code",
   "execution_count": 1,
   "id": "bcd764c2-8326-4dc8-bd41-65fdb91a593a",
   "metadata": {
    "execution": {
     "iopub.execute_input": "2025-02-01T03:02:22.617029Z",
     "iopub.status.busy": "2025-02-01T03:02:22.616324Z",
     "iopub.status.idle": "2025-02-01T03:02:25.436481Z",
     "shell.execute_reply": "2025-02-01T03:02:25.435250Z",
     "shell.execute_reply.started": "2025-02-01T03:02:22.617000Z"
    }
   },
   "outputs": [
    {
     "name": "stdout",
     "output_type": "stream",
     "text": [
      "[CudaDevice(id=0)]\n"
     ]
    }
   ],
   "source": [
    "import jax\n",
    "print(jax.devices())  \n"
   ]
  },
  {
   "cell_type": "code",
   "execution_count": 2,
   "id": "5d06a288-8153-42e4-bd4f-bfe0751de5e3",
   "metadata": {
    "execution": {
     "iopub.execute_input": "2025-02-01T03:02:30.079838Z",
     "iopub.status.busy": "2025-02-01T03:02:30.078618Z",
     "iopub.status.idle": "2025-02-01T03:02:32.762521Z",
     "shell.execute_reply": "2025-02-01T03:02:32.761445Z",
     "shell.execute_reply.started": "2025-02-01T03:02:30.079794Z"
    },
    "tags": []
   },
   "outputs": [],
   "source": [
    "import numpy as np\n",
    "from geomstats.geometry.hypersphere import Hypersphere\n",
    "import matplotlib.pyplot as plt\n",
    "import jax\n",
    "import jax.numpy as jnp\n",
    "from jax.scipy.optimize import minimize\n",
    "from geomstats.learning.frechet_mean import FrechetMean\n",
    "import time"
   ]
  },
  {
   "cell_type": "code",
   "execution_count": 3,
   "id": "04552cc0-2a4f-4adf-bc42-1fde43fe05ba",
   "metadata": {
    "execution": {
     "iopub.execute_input": "2025-02-01T03:02:40.190662Z",
     "iopub.status.busy": "2025-02-01T03:02:40.189272Z",
     "iopub.status.idle": "2025-02-01T03:02:40.204786Z",
     "shell.execute_reply": "2025-02-01T03:02:40.203894Z",
     "shell.execute_reply.started": "2025-02-01T03:02:40.190620Z"
    },
    "tags": []
   },
   "outputs": [
    {
     "name": "stdout",
     "output_type": "stream",
     "text": [
      "3072\n"
     ]
    }
   ],
   "source": [
    "dim = 32 * 32 * 3\n",
    "space = Hypersphere(dim - 1)\n",
    "print(dim)"
   ]
  },
  {
   "cell_type": "markdown",
   "id": "23323c73-183a-484b-bbc0-e4a75256294a",
   "metadata": {},
   "source": [
    "We use Voelker--Gosmann--Stewart for universal sampling on an $n$-ball, see [here](https://compneuro.uwaterloo.ca/files/publications/voelker.2017.pdf)"
   ]
  },
  {
   "cell_type": "code",
   "execution_count": 4,
   "id": "dd6e8a5a-7a13-40de-be7a-768b0711b7fb",
   "metadata": {
    "execution": {
     "iopub.execute_input": "2025-02-01T03:02:41.600876Z",
     "iopub.status.busy": "2025-02-01T03:02:41.600451Z",
     "iopub.status.idle": "2025-02-01T03:02:41.607027Z",
     "shell.execute_reply": "2025-02-01T03:02:41.605966Z",
     "shell.execute_reply.started": "2025-02-01T03:02:41.600840Z"
    },
    "tags": []
   },
   "outputs": [],
   "source": [
    "def uniform_ball(n,r):\n",
    "    s = np.random.normal(0, 1, n+2)\n",
    "    s = s / np.linalg.norm(s)\n",
    "    b = s[:n]\n",
    "    b = r * b\n",
    "    return b"
   ]
  },
  {
   "cell_type": "code",
   "execution_count": 5,
   "id": "5c5d3f20-32c7-4e31-95de-9e6e5d59cb8a",
   "metadata": {
    "execution": {
     "iopub.execute_input": "2025-02-01T03:02:42.167440Z",
     "iopub.status.busy": "2025-02-01T03:02:42.166629Z",
     "iopub.status.idle": "2025-02-01T03:02:42.172346Z",
     "shell.execute_reply": "2025-02-01T03:02:42.171521Z",
     "shell.execute_reply.started": "2025-02-01T03:02:42.167409Z"
    },
    "tags": []
   },
   "outputs": [],
   "source": [
    "def random_walk(start):\n",
    "    I = np.eye(dim)\n",
    "    ref_frame = I[:dim - 1,:]\n",
    "    ref_pt = I[dim - 1,:].flatten()\n",
    "    frame = space.metric.parallel_transport(ref_frame, ref_pt, end_point=start)\n",
    "    b = uniform_ball(dim - 1, np.pi / 2)\n",
    "    direction = b @ frame\n",
    "    end = space.metric.exp(direction, start)\n",
    "    return end"
   ]
  },
  {
   "cell_type": "code",
   "execution_count": 6,
   "id": "d461139b-9fb6-4d66-830b-0c31b11552aa",
   "metadata": {
    "execution": {
     "iopub.execute_input": "2025-02-01T03:02:42.819930Z",
     "iopub.status.busy": "2025-02-01T03:02:42.818943Z",
     "iopub.status.idle": "2025-02-01T03:02:42.827433Z",
     "shell.execute_reply": "2025-02-01T03:02:42.826388Z",
     "shell.execute_reply.started": "2025-02-01T03:02:42.819892Z"
    },
    "tags": []
   },
   "outputs": [],
   "source": [
    "def jexp(v, p):\n",
    "    a = jnp.cos(jnp.linalg.norm(v)) * p + jnp.sin(jnp.linalg.norm(v)) * v / jnp.linalg.norm(v)\n",
    "    return a"
   ]
  },
  {
   "cell_type": "code",
   "execution_count": 7,
   "id": "1ae6e49e-dfd5-4e96-9e7c-6ceca7c015d2",
   "metadata": {
    "execution": {
     "iopub.execute_input": "2025-02-01T03:02:43.512416Z",
     "iopub.status.busy": "2025-02-01T03:02:43.511478Z",
     "iopub.status.idle": "2025-02-01T03:02:43.518145Z",
     "shell.execute_reply": "2025-02-01T03:02:43.516998Z",
     "shell.execute_reply.started": "2025-02-01T03:02:43.512377Z"
    },
    "tags": []
   },
   "outputs": [],
   "source": [
    "def jdist(A, B):\n",
    "    norm_a = jnp.linalg.norm(A, axis=1)\n",
    "    norm_b = jnp.linalg.norm(B, axis=1)\n",
    "    inner_prod = jnp.sum(A * B, axis=1)\n",
    "    cos_angle = inner_prod / (norm_a * norm_b)\n",
    "    cos_angle = jnp.clip(cos_angle, -1, 1)\n",
    "    dist = jnp.arccos(cos_angle)\n",
    "    return dist"
   ]
  },
  {
   "cell_type": "code",
   "execution_count": 8,
   "id": "0e027d2f-512b-4b5b-a8bd-d887237af4cb",
   "metadata": {
    "execution": {
     "iopub.execute_input": "2025-02-01T03:02:45.048968Z",
     "iopub.status.busy": "2025-02-01T03:02:45.048230Z",
     "iopub.status.idle": "2025-02-01T03:02:45.056678Z",
     "shell.execute_reply": "2025-02-01T03:02:45.055739Z",
     "shell.execute_reply.started": "2025-02-01T03:02:45.048927Z"
    },
    "tags": []
   },
   "outputs": [],
   "source": [
    "def jto_tangent(v, p):\n",
    "    coef = jnp.sum(v * p) / jnp.sum(p * p)\n",
    "    tangent = v - coef * p\n",
    "    return tangent"
   ]
  },
  {
   "cell_type": "code",
   "execution_count": 9,
   "id": "c92de391-a735-4500-a7cd-5a2ef2c0afca",
   "metadata": {
    "execution": {
     "iopub.execute_input": "2025-02-01T03:02:46.080568Z",
     "iopub.status.busy": "2025-02-01T03:02:46.079918Z",
     "iopub.status.idle": "2025-02-01T03:02:46.094297Z",
     "shell.execute_reply": "2025-02-01T03:02:46.093129Z",
     "shell.execute_reply.started": "2025-02-01T03:02:46.080525Z"
    },
    "tags": []
   },
   "outputs": [],
   "source": [
    "def proj_to_2sphere(X, tangent_1, tangent_2, base_point):\n",
    "    p1 = base_point\n",
    "    p2 = jexp(tangent_1, base_point)\n",
    "    p3 = jexp(tangent_2, base_point)\n",
    "\n",
    "    A = jnp.hstack((p1.reshape(-1,1),p2.reshape(-1,1),p3.reshape(-1,1)))\n",
    "    proj = A @ (jnp.linalg.inv(A.T @ A)) @ (A.T)\n",
    "    projected_vec = (proj @ (X.T)).T\n",
    "    row_norm = jnp.linalg.norm(projected_vec, axis=1)\n",
    "    D = jnp.diag(jnp.reciprocal(row_norm))\n",
    "    sphere_vec = D @ projected_vec\n",
    "\n",
    "    return sphere_vec"
   ]
  },
  {
   "cell_type": "code",
   "execution_count": 10,
   "id": "4735952a-b2cf-480b-9716-b0e868293e08",
   "metadata": {
    "execution": {
     "iopub.execute_input": "2025-02-01T03:02:46.965423Z",
     "iopub.status.busy": "2025-02-01T03:02:46.964383Z",
     "iopub.status.idle": "2025-02-01T03:02:46.983111Z",
     "shell.execute_reply": "2025-02-01T03:02:46.982009Z",
     "shell.execute_reply.started": "2025-02-01T03:02:46.965384Z"
    },
    "tags": []
   },
   "outputs": [],
   "source": [
    "def loss(X, param):\n",
    "    intercept, coef1, coef2 = jnp.split(param, 3)\n",
    "    intercept = jnp.reshape(intercept, (dim,))\n",
    "    coef1 = jnp.reshape(coef1, (dim,))\n",
    "    coef2 = jnp.reshape(coef2, (dim,))\n",
    "\n",
    "    base_point = intercept / jnp.linalg.norm(intercept)\n",
    "    penalty = jnp.sum(jnp.square(base_point - intercept))\n",
    "\n",
    "    tangent_1 = jto_tangent(coef1, base_point)\n",
    "    tangent_2 = jto_tangent(coef2, base_point)\n",
    "    distances = jdist(X, proj_to_2sphere(X, tangent_1, tangent_2, base_point)) ** 2\n",
    "\n",
    "    return jnp.sum(distances) / 2 + penalty"
   ]
  },
  {
   "cell_type": "code",
   "execution_count": null,
   "id": "cfa84b68-a096-43cf-bac0-05ab7980d77f",
   "metadata": {
    "execution": {
     "iopub.execute_input": "2025-02-01T03:02:48.411354Z",
     "iopub.status.busy": "2025-02-01T03:02:48.410795Z"
    },
    "tags": []
   },
   "outputs": [
    {
     "name": "stdout",
     "output_type": "stream",
     "text": [
      "0\n",
      "time for iteration: 108.83073711395264\n",
      "1\n"
     ]
    },
    {
     "name": "stderr",
     "output_type": "stream",
     "text": [
      "WARNING: Maximum number of iterations 10000 reached. The mean may be inaccurate\n"
     ]
    },
    {
     "name": "stdout",
     "output_type": "stream",
     "text": [
      "time for iteration: 103.75569248199463\n",
      "2\n"
     ]
    },
    {
     "name": "stderr",
     "output_type": "stream",
     "text": [
      "WARNING: Maximum number of iterations 10000 reached. The mean may be inaccurate\n"
     ]
    },
    {
     "name": "stdout",
     "output_type": "stream",
     "text": [
      "time for iteration: 83.52461123466492\n",
      "3\n",
      "time for iteration: 49.64082098007202\n",
      "4\n",
      "time for iteration: 54.90971112251282\n",
      "5\n"
     ]
    },
    {
     "name": "stderr",
     "output_type": "stream",
     "text": [
      "WARNING: Maximum number of iterations 10000 reached. The mean may be inaccurate\n"
     ]
    },
    {
     "name": "stdout",
     "output_type": "stream",
     "text": [
      "time for iteration: 104.1040608882904\n",
      "6\n"
     ]
    },
    {
     "name": "stderr",
     "output_type": "stream",
     "text": [
      "WARNING: Maximum number of iterations 10000 reached. The mean may be inaccurate\n"
     ]
    },
    {
     "name": "stdout",
     "output_type": "stream",
     "text": [
      "time for iteration: 66.59885430335999\n",
      "7\n",
      "time for iteration: 101.81522917747498\n",
      "8\n",
      "time for iteration: 51.326016426086426\n",
      "9\n"
     ]
    },
    {
     "name": "stderr",
     "output_type": "stream",
     "text": [
      "WARNING: Maximum number of iterations 10000 reached. The mean may be inaccurate\n"
     ]
    },
    {
     "name": "stdout",
     "output_type": "stream",
     "text": [
      "time for iteration: 140.60948085784912\n",
      "10\n"
     ]
    },
    {
     "name": "stderr",
     "output_type": "stream",
     "text": [
      "WARNING: Maximum number of iterations 10000 reached. The mean may be inaccurate\n"
     ]
    },
    {
     "name": "stdout",
     "output_type": "stream",
     "text": [
      "time for iteration: 79.66631960868835\n",
      "11\n",
      "time for iteration: 60.72897410392761\n",
      "12\n",
      "time for iteration: 54.97362399101257\n",
      "13\n",
      "time for iteration: 62.78596878051758\n",
      "14\n",
      "time for iteration: 108.20573592185974\n",
      "15\n",
      "time for iteration: 45.770297050476074\n",
      "16\n"
     ]
    }
   ],
   "source": [
    "list_rss = []\n",
    "list_fs = []\n",
    "for i in range(1000):\n",
    "    print(i)\n",
    "    start_time = time.time()\n",
    "    I = np.eye(dim)\n",
    "    start = I[dim - 1,:].flatten()\n",
    "    points = I[dim - 1,:].reshape(1,-1)\n",
    "    for j in range(99):\n",
    "        end = random_walk(start)\n",
    "        points = np.concatenate((points, end.reshape(1,-1)), axis=0)\n",
    "        start = end\n",
    "    \n",
    "    jpoints = jnp.asarray(points)\n",
    "    \n",
    "    intercept_init, coef1_init, coef2_init = np.random.normal(size=(3,) + (dim,))\n",
    "    intercept_init = jnp.asarray(intercept_init)\n",
    "    coef1_init = jnp.asarray(coef1_init)\n",
    "    coef2_init = jnp.asarray(coef2_init)\n",
    "    intercept_hat = intercept_init / jnp.linalg.norm(intercept_init)\n",
    "    coef1_hat = jto_tangent(coef1_init, intercept_hat)\n",
    "    coef2_hat = jto_tangent(coef2_init, intercept_hat)\n",
    "    initial_guess = jnp.hstack([intercept_hat.flatten(), coef1_hat.flatten(), coef2_hat.flatten()])\n",
    "\n",
    "    objective_with_grad = lambda param: loss(jpoints, param)\n",
    "\n",
    "    result = minimize(objective_with_grad, initial_guess, method=\"BFGS\", tol=1e-5)\n",
    "\n",
    "    ans = np.array(result.x)\n",
    "    intercept_fin, coef1_fin, coef2_fin = np.split(result.x, 3)\n",
    "    intercept_fin = np.reshape(intercept_fin, space.shape)\n",
    "    coef1_fin = np.reshape(coef1_fin, space.shape)\n",
    "    coef2_fin = np.reshape(coef2_fin, space.shape)\n",
    "\n",
    "    intercept_ = space.projection(intercept_fin)\n",
    "    coef1_ = space.to_tangent(coef1_fin, intercept_)\n",
    "    coef2_ = space.to_tangent(coef2_fin, intercept_)\n",
    "\n",
    "    sphere_vec = proj_to_2sphere(points, coef1_, coef2_, intercept_)\n",
    "    rss = np.sum(space.metric.squared_dist(points, sphere_vec))\n",
    "\n",
    "    point1 = space.projection(coef1_)\n",
    "    point2 = space.projection(coef2_)\n",
    "    basis = np.vstack((intercept_, point1, point2)).T\n",
    "    Q, R = np.linalg.qr(basis)\n",
    "\n",
    "    sphere_data = sphere_vec @ Q\n",
    "\n",
    "    sphere = Hypersphere(dim=2)\n",
    "    sphere_mean = FrechetMean(sphere)\n",
    "    sphere_mean.set(max_iter=10000)\n",
    "    sphere_mean.fit(sphere_data)\n",
    "    sphere_mean_estimate = sphere_mean.estimate_ \n",
    "\n",
    "    sphere_variance = np.sum(sphere.metric.squared_dist(sphere_data, sphere_mean_estimate))\n",
    "    mixed_variance = rss + sphere_variance\n",
    "    fitting_score = 1 - rss / mixed_variance\n",
    "\n",
    "    list_rss.append(rss)\n",
    "    list_fs.append(fitting_score)\n",
    "    end_time = time.time()\n",
    "    print('time for iteration:', end_time-start_time)"
   ]
  },
  {
   "cell_type": "code",
   "execution_count": null,
   "id": "eb50bca0-6bff-491a-a85b-bd03a345f491",
   "metadata": {
    "tags": []
   },
   "outputs": [],
   "source": [
    "rss_array = np.array(list_rss)\n",
    "fs_array = np.array(list_fs)\n",
    "np.savetxt(\"rss.csv\", rss_array)\n",
    "np.savetxt(\"fitting_score.csv\", fs_array)"
   ]
  },
  {
   "cell_type": "code",
   "execution_count": null,
   "id": "e207f24f-9b6e-448c-8864-3119d5ed70f2",
   "metadata": {},
   "outputs": [],
   "source": []
  }
 ],
 "metadata": {
  "environment": {
   "kernel": "python3",
   "name": "tf2-cpu.2-11.m125",
   "type": "gcloud",
   "uri": "us-docker.pkg.dev/deeplearning-platform-release/gcr.io/tf2-cpu.2-11:m125"
  },
  "kernelspec": {
   "display_name": "Python 3 (ipykernel)",
   "language": "python",
   "name": "python3"
  },
  "language_info": {
   "codemirror_mode": {
    "name": "ipython",
    "version": 3
   },
   "file_extension": ".py",
   "mimetype": "text/x-python",
   "name": "python",
   "nbconvert_exporter": "python",
   "pygments_lexer": "ipython3",
   "version": "3.11.7"
  }
 },
 "nbformat": 4,
 "nbformat_minor": 5
}
