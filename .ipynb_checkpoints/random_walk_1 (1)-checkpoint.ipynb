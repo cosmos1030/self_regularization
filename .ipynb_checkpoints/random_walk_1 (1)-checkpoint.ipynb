{
 "cells": [
  {
   "cell_type": "code",
   "execution_count": 12,
   "id": "5d06a288-8153-42e4-bd4f-bfe0751de5e3",
   "metadata": {
    "tags": []
   },
   "outputs": [],
   "source": [
    "import numpy as np\n",
    "from geomstats.geometry.hypersphere import Hypersphere\n",
    "import matplotlib.pyplot as plt\n",
    "import jax\n",
    "import jax.numpy as jnp\n",
    "from jax.scipy.optimize import minimize\n",
    "from geomstats.learning.frechet_mean import FrechetMean\n",
    "import time"
   ]
  },
  {
   "cell_type": "code",
   "execution_count": 2,
   "id": "04552cc0-2a4f-4adf-bc42-1fde43fe05ba",
   "metadata": {
    "tags": []
   },
   "outputs": [],
   "source": [
    "dim = 32 * 32 * 3\n",
    "space = Hypersphere(dim - 1)"
   ]
  },
  {
   "cell_type": "markdown",
   "id": "23323c73-183a-484b-bbc0-e4a75256294a",
   "metadata": {},
   "source": [
    "We use Voelker--Gosmann--Stewart for universal sampling on an $n$-ball, see [here](https://compneuro.uwaterloo.ca/files/publications/voelker.2017.pdf)"
   ]
  },
  {
   "cell_type": "code",
   "execution_count": 3,
   "id": "dd6e8a5a-7a13-40de-be7a-768b0711b7fb",
   "metadata": {
    "tags": []
   },
   "outputs": [],
   "source": [
    "def uniform_ball(n,r):\n",
    "    s = np.random.normal(0, 1, n+2)\n",
    "    s = s / np.linalg.norm(s)\n",
    "    b = s[:n]\n",
    "    b = r * b\n",
    "    return b"
   ]
  },
  {
   "cell_type": "code",
   "execution_count": 4,
   "id": "5c5d3f20-32c7-4e31-95de-9e6e5d59cb8a",
   "metadata": {
    "tags": []
   },
   "outputs": [],
   "source": [
    "def random_walk(start):\n",
    "    I = np.eye(dim)\n",
    "    ref_frame = I[:dim - 1,:]\n",
    "    ref_pt = I[dim - 1,:].flatten()\n",
    "    frame = space.metric.parallel_transport(ref_frame, ref_pt, end_point=start)\n",
    "    b = uniform_ball(dim - 1, np.pi / 2)\n",
    "    direction = b @ frame\n",
    "    end = space.metric.exp(direction, start)\n",
    "    return end"
   ]
  },
  {
   "cell_type": "code",
   "execution_count": 5,
   "id": "d461139b-9fb6-4d66-830b-0c31b11552aa",
   "metadata": {
    "tags": []
   },
   "outputs": [],
   "source": [
    "def jexp(v, p):\n",
    "    a = jnp.cos(jnp.linalg.norm(v)) * p + jnp.sin(jnp.linalg.norm(v)) * v / jnp.linalg.norm(v)\n",
    "    return a"
   ]
  },
  {
   "cell_type": "code",
   "execution_count": 6,
   "id": "1ae6e49e-dfd5-4e96-9e7c-6ceca7c015d2",
   "metadata": {
    "tags": []
   },
   "outputs": [],
   "source": [
    "def jdist(A, B):\n",
    "    norm_a = jnp.linalg.norm(A, axis=1)\n",
    "    norm_b = jnp.linalg.norm(B, axis=1)\n",
    "    inner_prod = jnp.sum(A * B, axis=1)\n",
    "    cos_angle = inner_prod / (norm_a * norm_b)\n",
    "    cos_angle = jnp.clip(cos_angle, -1, 1)\n",
    "    dist = jnp.arccos(cos_angle)\n",
    "    return dist"
   ]
  },
  {
   "cell_type": "code",
   "execution_count": 7,
   "id": "0e027d2f-512b-4b5b-a8bd-d887237af4cb",
   "metadata": {
    "tags": []
   },
   "outputs": [],
   "source": [
    "def jto_tangent(v, p):\n",
    "    coef = jnp.sum(v * p) / jnp.sum(p * p)\n",
    "    tangent = v - coef * p\n",
    "    return tangent"
   ]
  },
  {
   "cell_type": "code",
   "execution_count": 8,
   "id": "c92de391-a735-4500-a7cd-5a2ef2c0afca",
   "metadata": {
    "tags": []
   },
   "outputs": [],
   "source": [
    "def proj_to_2sphere(X, tangent_1, tangent_2, base_point):\n",
    "    p1 = base_point\n",
    "    p2 = jexp(tangent_1, base_point)\n",
    "    p3 = jexp(tangent_2, base_point)\n",
    "\n",
    "    A = jnp.hstack((p1.reshape(-1,1),p2.reshape(-1,1),p3.reshape(-1,1)))\n",
    "    proj = A @ (jnp.linalg.inv(A.T @ A)) @ (A.T)\n",
    "    projected_vec = (proj @ (X.T)).T\n",
    "    row_norm = jnp.linalg.norm(projected_vec, axis=1)\n",
    "    D = jnp.diag(jnp.reciprocal(row_norm))\n",
    "    sphere_vec = D @ projected_vec\n",
    "\n",
    "    return sphere_vec"
   ]
  },
  {
   "cell_type": "code",
   "execution_count": 9,
   "id": "4735952a-b2cf-480b-9716-b0e868293e08",
   "metadata": {
    "tags": []
   },
   "outputs": [],
   "source": [
    "def loss(X, param):\n",
    "    intercept, coef1, coef2 = jnp.split(param, 3)\n",
    "    intercept = jnp.reshape(intercept, (dim,))\n",
    "    coef1 = jnp.reshape(coef1, (dim,))\n",
    "    coef2 = jnp.reshape(coef2, (dim,))\n",
    "\n",
    "    base_point = intercept / jnp.linalg.norm(intercept)\n",
    "    penalty = jnp.sum(jnp.square(base_point - intercept))\n",
    "\n",
    "    tangent_1 = jto_tangent(coef1, base_point)\n",
    "    tangent_2 = jto_tangent(coef2, base_point)\n",
    "    distances = jdist(X, proj_to_2sphere(X, tangent_1, tangent_2, base_point)) ** 2\n",
    "\n",
    "    return jnp.sum(distances) / 2 + penalty"
   ]
  },
  {
   "cell_type": "code",
   "execution_count": null,
   "id": "cfa84b68-a096-43cf-bac0-05ab7980d77f",
   "metadata": {
    "collapsed": true,
    "jupyter": {
     "outputs_hidden": true
    },
    "tags": []
   },
   "outputs": [
    {
     "name": "stdout",
     "output_type": "stream",
     "text": [
      "0\n"
     ]
    },
    {
     "name": "stderr",
     "output_type": "stream",
     "text": [
      "INFO:2025-01-23 19:50:47,302:jax._src.xla_bridge:945: Unable to initialize backend 'rocm': module 'jaxlib.xla_extension' has no attribute 'GpuAllocatorConfig'\n",
      "INFO: Unable to initialize backend 'rocm': module 'jaxlib.xla_extension' has no attribute 'GpuAllocatorConfig'\n",
      "INFO:2025-01-23 19:50:47,611:jax._src.xla_bridge:945: Unable to initialize backend 'tpu': INTERNAL: Failed to open libtpu.so: libtpu.so: cannot open shared object file: No such file or directory\n",
      "INFO: Unable to initialize backend 'tpu': INTERNAL: Failed to open libtpu.so: libtpu.so: cannot open shared object file: No such file or directory\n",
      "WARNING: Maximum number of iterations 10000 reached. The mean may be inaccurate\n"
     ]
    },
    {
     "name": "stdout",
     "output_type": "stream",
     "text": [
      "time for iteration: 92.20456957817078\n",
      "1\n",
      "time for iteration: 48.74746060371399\n",
      "2\n",
      "time for iteration: 54.5230393409729\n",
      "3\n",
      "time for iteration: 30.746776580810547\n",
      "4\n",
      "time for iteration: 82.06903076171875\n",
      "5\n"
     ]
    },
    {
     "name": "stderr",
     "output_type": "stream",
     "text": [
      "WARNING: Maximum number of iterations 10000 reached. The mean may be inaccurate\n"
     ]
    },
    {
     "name": "stdout",
     "output_type": "stream",
     "text": [
      "time for iteration: 47.606117963790894\n",
      "6\n"
     ]
    },
    {
     "name": "stderr",
     "output_type": "stream",
     "text": [
      "WARNING: Maximum number of iterations 10000 reached. The mean may be inaccurate\n"
     ]
    },
    {
     "name": "stdout",
     "output_type": "stream",
     "text": [
      "time for iteration: 73.89061617851257\n",
      "7\n",
      "time for iteration: 35.695507764816284\n",
      "8\n"
     ]
    },
    {
     "name": "stderr",
     "output_type": "stream",
     "text": [
      "WARNING: Maximum number of iterations 10000 reached. The mean may be inaccurate\n"
     ]
    },
    {
     "name": "stdout",
     "output_type": "stream",
     "text": [
      "time for iteration: 81.82632350921631\n",
      "9\n"
     ]
    },
    {
     "name": "stderr",
     "output_type": "stream",
     "text": [
      "WARNING: Maximum number of iterations 10000 reached. The mean may be inaccurate\n"
     ]
    },
    {
     "name": "stdout",
     "output_type": "stream",
     "text": [
      "time for iteration: 49.872426986694336\n",
      "10\n"
     ]
    },
    {
     "name": "stderr",
     "output_type": "stream",
     "text": [
      "WARNING: Maximum number of iterations 10000 reached. The mean may be inaccurate\n"
     ]
    },
    {
     "name": "stdout",
     "output_type": "stream",
     "text": [
      "time for iteration: 66.05418300628662\n",
      "11\n",
      "time for iteration: 31.69689154624939\n",
      "12\n"
     ]
    },
    {
     "name": "stderr",
     "output_type": "stream",
     "text": [
      "WARNING: Maximum number of iterations 10000 reached. The mean may be inaccurate\n"
     ]
    },
    {
     "name": "stdout",
     "output_type": "stream",
     "text": [
      "time for iteration: 38.03738451004028\n",
      "13\n",
      "time for iteration: 27.642139196395874\n",
      "14\n"
     ]
    },
    {
     "name": "stderr",
     "output_type": "stream",
     "text": [
      "WARNING: Maximum number of iterations 10000 reached. The mean may be inaccurate\n"
     ]
    },
    {
     "name": "stdout",
     "output_type": "stream",
     "text": [
      "time for iteration: 47.30555272102356\n",
      "15\n",
      "time for iteration: 45.50075936317444\n",
      "16\n"
     ]
    },
    {
     "name": "stderr",
     "output_type": "stream",
     "text": [
      "WARNING: Maximum number of iterations 10000 reached. The mean may be inaccurate\n"
     ]
    },
    {
     "name": "stdout",
     "output_type": "stream",
     "text": [
      "time for iteration: 36.535911083221436\n",
      "17\n",
      "time for iteration: 28.550280570983887\n",
      "18\n"
     ]
    },
    {
     "name": "stderr",
     "output_type": "stream",
     "text": [
      "WARNING: Maximum number of iterations 10000 reached. The mean may be inaccurate\n"
     ]
    },
    {
     "name": "stdout",
     "output_type": "stream",
     "text": [
      "time for iteration: 49.58566093444824\n",
      "19\n",
      "time for iteration: 28.98296856880188\n",
      "20\n"
     ]
    },
    {
     "name": "stderr",
     "output_type": "stream",
     "text": [
      "WARNING: Maximum number of iterations 10000 reached. The mean may be inaccurate\n"
     ]
    },
    {
     "name": "stdout",
     "output_type": "stream",
     "text": [
      "time for iteration: 36.261884689331055\n",
      "21\n",
      "time for iteration: 28.515952587127686\n",
      "22\n"
     ]
    },
    {
     "name": "stderr",
     "output_type": "stream",
     "text": [
      "WARNING: Maximum number of iterations 10000 reached. The mean may be inaccurate\n"
     ]
    },
    {
     "name": "stdout",
     "output_type": "stream",
     "text": [
      "time for iteration: 41.75910782814026\n",
      "23\n"
     ]
    },
    {
     "name": "stderr",
     "output_type": "stream",
     "text": [
      "WARNING: Maximum number of iterations 10000 reached. The mean may be inaccurate\n"
     ]
    },
    {
     "name": "stdout",
     "output_type": "stream",
     "text": [
      "time for iteration: 34.696696758270264\n",
      "24\n",
      "time for iteration: 35.30526614189148\n",
      "25\n",
      "time for iteration: 58.570127725601196\n",
      "26\n",
      "time for iteration: 28.55973505973816\n",
      "27\n"
     ]
    },
    {
     "name": "stderr",
     "output_type": "stream",
     "text": [
      "WARNING: Maximum number of iterations 10000 reached. The mean may be inaccurate\n"
     ]
    },
    {
     "name": "stdout",
     "output_type": "stream",
     "text": [
      "time for iteration: 53.22035837173462\n",
      "28\n",
      "time for iteration: 29.395379543304443\n",
      "29\n"
     ]
    },
    {
     "name": "stderr",
     "output_type": "stream",
     "text": [
      "WARNING: Maximum number of iterations 10000 reached. The mean may be inaccurate\n"
     ]
    },
    {
     "name": "stdout",
     "output_type": "stream",
     "text": [
      "time for iteration: 37.11590242385864\n",
      "30\n"
     ]
    },
    {
     "name": "stderr",
     "output_type": "stream",
     "text": [
      "WARNING: Maximum number of iterations 10000 reached. The mean may be inaccurate\n"
     ]
    },
    {
     "name": "stdout",
     "output_type": "stream",
     "text": [
      "time for iteration: 37.921003341674805\n",
      "31\n",
      "time for iteration: 28.698013305664062\n",
      "32\n",
      "time for iteration: 39.99011421203613\n",
      "33\n"
     ]
    },
    {
     "name": "stderr",
     "output_type": "stream",
     "text": [
      "WARNING: Maximum number of iterations 10000 reached. The mean may be inaccurate\n"
     ]
    },
    {
     "name": "stdout",
     "output_type": "stream",
     "text": [
      "time for iteration: 51.47397494316101\n",
      "34\n"
     ]
    },
    {
     "name": "stderr",
     "output_type": "stream",
     "text": [
      "WARNING: Maximum number of iterations 10000 reached. The mean may be inaccurate\n"
     ]
    },
    {
     "name": "stdout",
     "output_type": "stream",
     "text": [
      "time for iteration: 48.237725257873535\n",
      "35\n",
      "time for iteration: 28.94407868385315\n",
      "36\n"
     ]
    },
    {
     "name": "stderr",
     "output_type": "stream",
     "text": [
      "WARNING: Maximum number of iterations 10000 reached. The mean may be inaccurate\n"
     ]
    },
    {
     "name": "stdout",
     "output_type": "stream",
     "text": [
      "time for iteration: 44.90734362602234\n",
      "37\n",
      "time for iteration: 28.584412336349487\n",
      "38\n"
     ]
    },
    {
     "name": "stderr",
     "output_type": "stream",
     "text": [
      "WARNING: Maximum number of iterations 10000 reached. The mean may be inaccurate\n"
     ]
    },
    {
     "name": "stdout",
     "output_type": "stream",
     "text": [
      "time for iteration: 34.857258796691895\n",
      "39\n",
      "time for iteration: 28.872381448745728\n",
      "40\n"
     ]
    },
    {
     "name": "stderr",
     "output_type": "stream",
     "text": [
      "WARNING: Maximum number of iterations 10000 reached. The mean may be inaccurate\n"
     ]
    },
    {
     "name": "stdout",
     "output_type": "stream",
     "text": [
      "time for iteration: 43.375444173812866\n",
      "41\n"
     ]
    },
    {
     "name": "stderr",
     "output_type": "stream",
     "text": [
      "WARNING: Maximum number of iterations 10000 reached. The mean may be inaccurate\n"
     ]
    },
    {
     "name": "stdout",
     "output_type": "stream",
     "text": [
      "time for iteration: 45.30068111419678\n",
      "42\n"
     ]
    },
    {
     "name": "stderr",
     "output_type": "stream",
     "text": [
      "WARNING: Maximum number of iterations 10000 reached. The mean may be inaccurate\n"
     ]
    },
    {
     "name": "stdout",
     "output_type": "stream",
     "text": [
      "time for iteration: 35.721431732177734\n",
      "43\n",
      "time for iteration: 27.034953117370605\n",
      "44\n",
      "time for iteration: 27.593207120895386\n",
      "45\n",
      "time for iteration: 41.70295453071594\n",
      "46\n",
      "time for iteration: 27.225332498550415\n",
      "47\n",
      "time for iteration: 28.946134090423584\n",
      "48\n",
      "time for iteration: 56.21108150482178\n",
      "49\n",
      "time for iteration: 53.889148473739624\n",
      "50\n",
      "time for iteration: 31.811176300048828\n",
      "51\n",
      "time for iteration: 41.64552187919617\n",
      "52\n",
      "time for iteration: 58.46316456794739\n",
      "53\n"
     ]
    },
    {
     "name": "stderr",
     "output_type": "stream",
     "text": [
      "WARNING: Maximum number of iterations 10000 reached. The mean may be inaccurate\n"
     ]
    },
    {
     "name": "stdout",
     "output_type": "stream",
     "text": [
      "time for iteration: 55.46283793449402\n",
      "54\n",
      "time for iteration: 27.753474950790405\n",
      "55\n",
      "time for iteration: 30.1005380153656\n",
      "56\n",
      "time for iteration: 44.64221715927124\n",
      "57\n"
     ]
    },
    {
     "name": "stderr",
     "output_type": "stream",
     "text": [
      "WARNING: Maximum number of iterations 10000 reached. The mean may be inaccurate\n"
     ]
    },
    {
     "name": "stdout",
     "output_type": "stream",
     "text": [
      "time for iteration: 53.54699397087097\n",
      "58\n",
      "time for iteration: 29.08654022216797\n",
      "59\n",
      "time for iteration: 26.990442752838135\n",
      "60\n"
     ]
    },
    {
     "name": "stderr",
     "output_type": "stream",
     "text": [
      "WARNING: Maximum number of iterations 10000 reached. The mean may be inaccurate\n"
     ]
    },
    {
     "name": "stdout",
     "output_type": "stream",
     "text": [
      "time for iteration: 62.98421812057495\n",
      "61\n",
      "time for iteration: 28.85485577583313\n",
      "62\n",
      "time for iteration: 27.027151346206665\n",
      "63\n",
      "time for iteration: 27.213624715805054\n",
      "64\n"
     ]
    },
    {
     "name": "stderr",
     "output_type": "stream",
     "text": [
      "WARNING: Maximum number of iterations 10000 reached. The mean may be inaccurate\n"
     ]
    },
    {
     "name": "stdout",
     "output_type": "stream",
     "text": [
      "time for iteration: 45.744203090667725\n",
      "65\n",
      "time for iteration: 36.52887272834778\n",
      "66\n",
      "time for iteration: 40.77208757400513\n",
      "67\n",
      "time for iteration: 27.091179370880127\n",
      "68\n",
      "time for iteration: 40.776665449142456\n",
      "69\n"
     ]
    },
    {
     "name": "stderr",
     "output_type": "stream",
     "text": [
      "WARNING: Maximum number of iterations 10000 reached. The mean may be inaccurate\n"
     ]
    },
    {
     "name": "stdout",
     "output_type": "stream",
     "text": [
      "time for iteration: 36.3560516834259\n",
      "70\n",
      "time for iteration: 52.749030113220215\n",
      "71\n",
      "time for iteration: 74.32557415962219\n",
      "72\n"
     ]
    },
    {
     "name": "stderr",
     "output_type": "stream",
     "text": [
      "WARNING: Maximum number of iterations 10000 reached. The mean may be inaccurate\n"
     ]
    },
    {
     "name": "stdout",
     "output_type": "stream",
     "text": [
      "time for iteration: 51.21695947647095\n",
      "73\n",
      "time for iteration: 27.435172080993652\n",
      "74\n",
      "time for iteration: 30.640233993530273\n",
      "75\n",
      "time for iteration: 28.878970861434937\n",
      "76\n"
     ]
    },
    {
     "name": "stderr",
     "output_type": "stream",
     "text": [
      "WARNING: Maximum number of iterations 10000 reached. The mean may be inaccurate\n"
     ]
    },
    {
     "name": "stdout",
     "output_type": "stream",
     "text": [
      "time for iteration: 35.044371128082275\n",
      "77\n"
     ]
    },
    {
     "name": "stderr",
     "output_type": "stream",
     "text": [
      "WARNING: Maximum number of iterations 10000 reached. The mean may be inaccurate\n"
     ]
    },
    {
     "name": "stdout",
     "output_type": "stream",
     "text": [
      "time for iteration: 80.49351453781128\n",
      "78\n"
     ]
    },
    {
     "name": "stderr",
     "output_type": "stream",
     "text": [
      "WARNING: Maximum number of iterations 10000 reached. The mean may be inaccurate\n"
     ]
    },
    {
     "name": "stdout",
     "output_type": "stream",
     "text": [
      "time for iteration: 51.525644302368164\n",
      "79\n",
      "time for iteration: 34.852226972579956\n",
      "80\n",
      "time for iteration: 28.99118733406067\n",
      "81\n",
      "time for iteration: 27.4348042011261\n",
      "82\n",
      "time for iteration: 39.374977111816406\n",
      "83\n"
     ]
    },
    {
     "name": "stderr",
     "output_type": "stream",
     "text": [
      "WARNING: Maximum number of iterations 10000 reached. The mean may be inaccurate\n"
     ]
    },
    {
     "name": "stdout",
     "output_type": "stream",
     "text": [
      "time for iteration: 56.31678295135498\n",
      "84\n"
     ]
    },
    {
     "name": "stderr",
     "output_type": "stream",
     "text": [
      "WARNING: Maximum number of iterations 10000 reached. The mean may be inaccurate\n"
     ]
    },
    {
     "name": "stdout",
     "output_type": "stream",
     "text": [
      "time for iteration: 37.43144917488098\n",
      "85\n"
     ]
    },
    {
     "name": "stderr",
     "output_type": "stream",
     "text": [
      "WARNING: Maximum number of iterations 10000 reached. The mean may be inaccurate\n"
     ]
    },
    {
     "name": "stdout",
     "output_type": "stream",
     "text": [
      "time for iteration: 35.400312423706055\n",
      "86\n",
      "time for iteration: 29.17583918571472\n",
      "87\n",
      "time for iteration: 29.429484844207764\n",
      "88\n"
     ]
    },
    {
     "name": "stderr",
     "output_type": "stream",
     "text": [
      "WARNING: Maximum number of iterations 10000 reached. The mean may be inaccurate\n"
     ]
    },
    {
     "name": "stdout",
     "output_type": "stream",
     "text": [
      "time for iteration: 56.51364707946777\n",
      "89\n",
      "time for iteration: 27.474971055984497\n",
      "90\n",
      "time for iteration: 33.569061040878296\n",
      "91\n"
     ]
    },
    {
     "name": "stderr",
     "output_type": "stream",
     "text": [
      "WARNING: Maximum number of iterations 10000 reached. The mean may be inaccurate\n"
     ]
    },
    {
     "name": "stdout",
     "output_type": "stream",
     "text": [
      "time for iteration: 68.82731914520264\n",
      "92\n",
      "time for iteration: 29.968358755111694\n",
      "93\n",
      "time for iteration: 36.44098615646362\n",
      "94\n"
     ]
    },
    {
     "name": "stderr",
     "output_type": "stream",
     "text": [
      "WARNING: Maximum number of iterations 10000 reached. The mean may be inaccurate\n"
     ]
    },
    {
     "name": "stdout",
     "output_type": "stream",
     "text": [
      "time for iteration: 52.160515546798706\n",
      "95\n"
     ]
    },
    {
     "name": "stderr",
     "output_type": "stream",
     "text": [
      "WARNING: Maximum number of iterations 10000 reached. The mean may be inaccurate\n"
     ]
    },
    {
     "name": "stdout",
     "output_type": "stream",
     "text": [
      "time for iteration: 34.93629837036133\n",
      "96\n"
     ]
    },
    {
     "name": "stderr",
     "output_type": "stream",
     "text": [
      "WARNING: Maximum number of iterations 10000 reached. The mean may be inaccurate\n"
     ]
    },
    {
     "name": "stdout",
     "output_type": "stream",
     "text": [
      "time for iteration: 49.762012004852295\n",
      "97\n"
     ]
    },
    {
     "name": "stderr",
     "output_type": "stream",
     "text": [
      "WARNING: Maximum number of iterations 10000 reached. The mean may be inaccurate\n"
     ]
    },
    {
     "name": "stdout",
     "output_type": "stream",
     "text": [
      "time for iteration: 37.6414270401001\n",
      "98\n",
      "time for iteration: 28.48081946372986\n",
      "99\n"
     ]
    },
    {
     "name": "stderr",
     "output_type": "stream",
     "text": [
      "WARNING: Maximum number of iterations 10000 reached. The mean may be inaccurate\n"
     ]
    },
    {
     "name": "stdout",
     "output_type": "stream",
     "text": [
      "time for iteration: 70.51402997970581\n",
      "100\n"
     ]
    },
    {
     "name": "stderr",
     "output_type": "stream",
     "text": [
      "WARNING: Maximum number of iterations 10000 reached. The mean may be inaccurate\n"
     ]
    },
    {
     "name": "stdout",
     "output_type": "stream",
     "text": [
      "time for iteration: 56.57939672470093\n",
      "101\n",
      "time for iteration: 29.97872567176819\n",
      "102\n"
     ]
    },
    {
     "name": "stderr",
     "output_type": "stream",
     "text": [
      "WARNING: Maximum number of iterations 10000 reached. The mean may be inaccurate\n"
     ]
    },
    {
     "name": "stdout",
     "output_type": "stream",
     "text": [
      "time for iteration: 42.974048376083374\n",
      "103\n",
      "time for iteration: 46.15401005744934\n",
      "104\n"
     ]
    },
    {
     "name": "stderr",
     "output_type": "stream",
     "text": [
      "WARNING: Maximum number of iterations 10000 reached. The mean may be inaccurate\n"
     ]
    },
    {
     "name": "stdout",
     "output_type": "stream",
     "text": [
      "time for iteration: 42.49833607673645\n",
      "105\n",
      "time for iteration: 29.447051763534546\n",
      "106\n"
     ]
    },
    {
     "name": "stderr",
     "output_type": "stream",
     "text": [
      "WARNING: Maximum number of iterations 10000 reached. The mean may be inaccurate\n"
     ]
    },
    {
     "name": "stdout",
     "output_type": "stream",
     "text": [
      "time for iteration: 52.71871733665466\n",
      "107\n",
      "time for iteration: 28.933234930038452\n",
      "108\n",
      "time for iteration: 40.754085063934326\n",
      "109\n",
      "time for iteration: 43.64479470252991\n",
      "110\n"
     ]
    },
    {
     "name": "stderr",
     "output_type": "stream",
     "text": [
      "WARNING: Maximum number of iterations 10000 reached. The mean may be inaccurate\n"
     ]
    },
    {
     "name": "stdout",
     "output_type": "stream",
     "text": [
      "time for iteration: 34.99509882926941\n",
      "111\n",
      "time for iteration: 29.707568883895874\n",
      "112\n"
     ]
    },
    {
     "name": "stderr",
     "output_type": "stream",
     "text": [
      "WARNING: Maximum number of iterations 10000 reached. The mean may be inaccurate\n"
     ]
    },
    {
     "name": "stdout",
     "output_type": "stream",
     "text": [
      "time for iteration: 57.98050332069397\n",
      "113\n",
      "time for iteration: 36.32661032676697\n",
      "114\n",
      "time for iteration: 31.473581314086914\n",
      "115\n"
     ]
    },
    {
     "name": "stderr",
     "output_type": "stream",
     "text": [
      "WARNING: Maximum number of iterations 10000 reached. The mean may be inaccurate\n"
     ]
    },
    {
     "name": "stdout",
     "output_type": "stream",
     "text": [
      "time for iteration: 59.452147245407104\n",
      "116\n",
      "time for iteration: 55.363622426986694\n",
      "117\n",
      "time for iteration: 28.459399223327637\n",
      "118\n",
      "time for iteration: 38.908043384552\n",
      "119\n",
      "time for iteration: 39.48301911354065\n",
      "120\n"
     ]
    },
    {
     "name": "stderr",
     "output_type": "stream",
     "text": [
      "WARNING: Maximum number of iterations 10000 reached. The mean may be inaccurate\n"
     ]
    },
    {
     "name": "stdout",
     "output_type": "stream",
     "text": [
      "time for iteration: 50.662179946899414\n",
      "121\n"
     ]
    },
    {
     "name": "stderr",
     "output_type": "stream",
     "text": [
      "WARNING: Maximum number of iterations 10000 reached. The mean may be inaccurate\n"
     ]
    },
    {
     "name": "stdout",
     "output_type": "stream",
     "text": [
      "time for iteration: 35.175676107406616\n",
      "122\n",
      "time for iteration: 27.335865020751953\n",
      "123\n"
     ]
    },
    {
     "name": "stderr",
     "output_type": "stream",
     "text": [
      "WARNING: Maximum number of iterations 10000 reached. The mean may be inaccurate\n"
     ]
    },
    {
     "name": "stdout",
     "output_type": "stream",
     "text": [
      "time for iteration: 50.08481550216675\n",
      "124\n",
      "time for iteration: 48.523871421813965\n",
      "125\n",
      "time for iteration: 29.039239645004272\n",
      "126\n",
      "time for iteration: 27.380292892456055\n",
      "127\n",
      "time for iteration: 85.1025938987732\n",
      "128\n",
      "time for iteration: 30.41917896270752\n",
      "129\n",
      "time for iteration: 54.79532527923584\n",
      "130\n"
     ]
    },
    {
     "name": "stderr",
     "output_type": "stream",
     "text": [
      "WARNING: Maximum number of iterations 10000 reached. The mean may be inaccurate\n"
     ]
    },
    {
     "name": "stdout",
     "output_type": "stream",
     "text": [
      "time for iteration: 57.77150106430054\n",
      "131\n"
     ]
    },
    {
     "name": "stderr",
     "output_type": "stream",
     "text": [
      "WARNING: Maximum number of iterations 10000 reached. The mean may be inaccurate\n"
     ]
    },
    {
     "name": "stdout",
     "output_type": "stream",
     "text": [
      "time for iteration: 57.36714720726013\n",
      "132\n",
      "time for iteration: 32.39958715438843\n",
      "133\n",
      "time for iteration: 27.251118898391724\n",
      "134\n",
      "time for iteration: 53.31043028831482\n",
      "135\n"
     ]
    },
    {
     "name": "stderr",
     "output_type": "stream",
     "text": [
      "WARNING: Maximum number of iterations 10000 reached. The mean may be inaccurate\n"
     ]
    },
    {
     "name": "stdout",
     "output_type": "stream",
     "text": [
      "time for iteration: 43.83745765686035\n",
      "136\n"
     ]
    },
    {
     "name": "stderr",
     "output_type": "stream",
     "text": [
      "WARNING: Maximum number of iterations 10000 reached. The mean may be inaccurate\n"
     ]
    },
    {
     "name": "stdout",
     "output_type": "stream",
     "text": [
      "time for iteration: 42.70242691040039\n",
      "137\n",
      "time for iteration: 40.1258225440979\n",
      "138\n"
     ]
    },
    {
     "name": "stderr",
     "output_type": "stream",
     "text": [
      "WARNING: Maximum number of iterations 10000 reached. The mean may be inaccurate\n"
     ]
    },
    {
     "name": "stdout",
     "output_type": "stream",
     "text": [
      "time for iteration: 75.20296621322632\n",
      "139\n"
     ]
    },
    {
     "name": "stderr",
     "output_type": "stream",
     "text": [
      "WARNING: Maximum number of iterations 10000 reached. The mean may be inaccurate\n"
     ]
    },
    {
     "name": "stdout",
     "output_type": "stream",
     "text": [
      "time for iteration: 37.904834508895874\n",
      "140\n",
      "time for iteration: 81.3383903503418\n",
      "141\n",
      "time for iteration: 35.73702001571655\n",
      "142\n",
      "time for iteration: 52.266894817352295\n",
      "143\n"
     ]
    },
    {
     "name": "stderr",
     "output_type": "stream",
     "text": [
      "WARNING: Maximum number of iterations 10000 reached. The mean may be inaccurate\n"
     ]
    },
    {
     "name": "stdout",
     "output_type": "stream",
     "text": [
      "time for iteration: 45.96350908279419\n",
      "144\n"
     ]
    },
    {
     "name": "stderr",
     "output_type": "stream",
     "text": [
      "WARNING: Maximum number of iterations 10000 reached. The mean may be inaccurate\n"
     ]
    },
    {
     "name": "stdout",
     "output_type": "stream",
     "text": [
      "time for iteration: 50.68146204948425\n",
      "145\n",
      "time for iteration: 30.628403186798096\n",
      "146\n",
      "time for iteration: 31.08933925628662\n",
      "147\n"
     ]
    },
    {
     "name": "stderr",
     "output_type": "stream",
     "text": [
      "WARNING: Maximum number of iterations 10000 reached. The mean may be inaccurate\n"
     ]
    },
    {
     "name": "stdout",
     "output_type": "stream",
     "text": [
      "time for iteration: 35.46519637107849\n",
      "148\n",
      "time for iteration: 27.789341926574707\n",
      "149\n",
      "time for iteration: 27.499186992645264\n",
      "150\n",
      "time for iteration: 45.50216007232666\n",
      "151\n",
      "time for iteration: 85.71140193939209\n",
      "152\n",
      "time for iteration: 33.782381534576416\n",
      "153\n",
      "time for iteration: 28.960601568222046\n",
      "154\n",
      "time for iteration: 28.132822036743164\n",
      "155\n"
     ]
    },
    {
     "name": "stderr",
     "output_type": "stream",
     "text": [
      "WARNING: Maximum number of iterations 10000 reached. The mean may be inaccurate\n"
     ]
    },
    {
     "name": "stdout",
     "output_type": "stream",
     "text": [
      "time for iteration: 44.23255395889282\n",
      "156\n"
     ]
    },
    {
     "name": "stderr",
     "output_type": "stream",
     "text": [
      "WARNING: Maximum number of iterations 10000 reached. The mean may be inaccurate\n"
     ]
    },
    {
     "name": "stdout",
     "output_type": "stream",
     "text": [
      "time for iteration: 34.42204666137695\n",
      "157\n"
     ]
    },
    {
     "name": "stderr",
     "output_type": "stream",
     "text": [
      "WARNING: Maximum number of iterations 10000 reached. The mean may be inaccurate\n"
     ]
    },
    {
     "name": "stdout",
     "output_type": "stream",
     "text": [
      "time for iteration: 51.15369653701782\n",
      "158\n"
     ]
    },
    {
     "name": "stderr",
     "output_type": "stream",
     "text": [
      "WARNING: Maximum number of iterations 10000 reached. The mean may be inaccurate\n"
     ]
    },
    {
     "name": "stdout",
     "output_type": "stream",
     "text": [
      "time for iteration: 34.42857575416565\n",
      "159\n"
     ]
    },
    {
     "name": "stderr",
     "output_type": "stream",
     "text": [
      "WARNING: Maximum number of iterations 10000 reached. The mean may be inaccurate\n"
     ]
    },
    {
     "name": "stdout",
     "output_type": "stream",
     "text": [
      "time for iteration: 60.91903519630432\n",
      "160\n"
     ]
    },
    {
     "name": "stderr",
     "output_type": "stream",
     "text": [
      "WARNING: Maximum number of iterations 10000 reached. The mean may be inaccurate\n"
     ]
    },
    {
     "name": "stdout",
     "output_type": "stream",
     "text": [
      "time for iteration: 36.52379822731018\n",
      "161\n",
      "time for iteration: 34.84897208213806\n",
      "162\n",
      "time for iteration: 28.57747983932495\n",
      "163\n",
      "time for iteration: 44.70849585533142\n",
      "164\n",
      "time for iteration: 39.32797408103943\n",
      "165\n"
     ]
    },
    {
     "name": "stderr",
     "output_type": "stream",
     "text": [
      "WARNING: Maximum number of iterations 10000 reached. The mean may be inaccurate\n"
     ]
    },
    {
     "name": "stdout",
     "output_type": "stream",
     "text": [
      "time for iteration: 36.3160035610199\n",
      "166\n"
     ]
    },
    {
     "name": "stderr",
     "output_type": "stream",
     "text": [
      "WARNING: Maximum number of iterations 10000 reached. The mean may be inaccurate\n"
     ]
    },
    {
     "name": "stdout",
     "output_type": "stream",
     "text": [
      "time for iteration: 34.57456874847412\n",
      "167\n",
      "time for iteration: 29.118484258651733\n",
      "168\n"
     ]
    },
    {
     "name": "stderr",
     "output_type": "stream",
     "text": [
      "WARNING: Maximum number of iterations 10000 reached. The mean may be inaccurate\n"
     ]
    },
    {
     "name": "stdout",
     "output_type": "stream",
     "text": [
      "time for iteration: 36.957361459732056\n",
      "169\n"
     ]
    },
    {
     "name": "stderr",
     "output_type": "stream",
     "text": [
      "WARNING: Maximum number of iterations 10000 reached. The mean may be inaccurate\n"
     ]
    },
    {
     "name": "stdout",
     "output_type": "stream",
     "text": [
      "time for iteration: 54.23634147644043\n",
      "170\n"
     ]
    },
    {
     "name": "stderr",
     "output_type": "stream",
     "text": [
      "WARNING: Maximum number of iterations 10000 reached. The mean may be inaccurate\n"
     ]
    },
    {
     "name": "stdout",
     "output_type": "stream",
     "text": [
      "time for iteration: 50.50712442398071\n",
      "171\n"
     ]
    },
    {
     "name": "stderr",
     "output_type": "stream",
     "text": [
      "WARNING: Maximum number of iterations 10000 reached. The mean may be inaccurate\n"
     ]
    },
    {
     "name": "stdout",
     "output_type": "stream",
     "text": [
      "time for iteration: 46.56239652633667\n",
      "172\n",
      "time for iteration: 29.89863419532776\n",
      "173\n",
      "time for iteration: 29.907405138015747\n",
      "174\n"
     ]
    },
    {
     "name": "stderr",
     "output_type": "stream",
     "text": [
      "WARNING: Maximum number of iterations 10000 reached. The mean may be inaccurate\n"
     ]
    },
    {
     "name": "stdout",
     "output_type": "stream",
     "text": [
      "time for iteration: 63.371238470077515\n",
      "175\n"
     ]
    },
    {
     "name": "stderr",
     "output_type": "stream",
     "text": [
      "WARNING: Maximum number of iterations 10000 reached. The mean may be inaccurate\n"
     ]
    },
    {
     "name": "stdout",
     "output_type": "stream",
     "text": [
      "time for iteration: 47.37251949310303\n",
      "176\n",
      "time for iteration: 31.369782209396362\n",
      "177\n"
     ]
    },
    {
     "name": "stderr",
     "output_type": "stream",
     "text": [
      "WARNING: Maximum number of iterations 10000 reached. The mean may be inaccurate\n"
     ]
    },
    {
     "name": "stdout",
     "output_type": "stream",
     "text": [
      "time for iteration: 36.39480495452881\n",
      "178\n",
      "time for iteration: 43.33206009864807\n",
      "179\n",
      "time for iteration: 28.463756561279297\n",
      "180\n"
     ]
    },
    {
     "name": "stderr",
     "output_type": "stream",
     "text": [
      "WARNING: Maximum number of iterations 10000 reached. The mean may be inaccurate\n"
     ]
    },
    {
     "name": "stdout",
     "output_type": "stream",
     "text": [
      "time for iteration: 34.62297987937927\n",
      "181\n"
     ]
    },
    {
     "name": "stderr",
     "output_type": "stream",
     "text": [
      "WARNING: Maximum number of iterations 10000 reached. The mean may be inaccurate\n"
     ]
    },
    {
     "name": "stdout",
     "output_type": "stream",
     "text": [
      "time for iteration: 56.81083941459656\n",
      "182\n"
     ]
    },
    {
     "name": "stderr",
     "output_type": "stream",
     "text": [
      "WARNING: Maximum number of iterations 10000 reached. The mean may be inaccurate\n"
     ]
    },
    {
     "name": "stdout",
     "output_type": "stream",
     "text": [
      "time for iteration: 79.00950407981873\n",
      "183\n",
      "time for iteration: 64.84395599365234\n",
      "184\n"
     ]
    },
    {
     "name": "stderr",
     "output_type": "stream",
     "text": [
      "WARNING: Maximum number of iterations 10000 reached. The mean may be inaccurate\n"
     ]
    },
    {
     "name": "stdout",
     "output_type": "stream",
     "text": [
      "time for iteration: 48.29775595664978\n",
      "185\n"
     ]
    },
    {
     "name": "stderr",
     "output_type": "stream",
     "text": [
      "WARNING: Maximum number of iterations 10000 reached. The mean may be inaccurate\n"
     ]
    },
    {
     "name": "stdout",
     "output_type": "stream",
     "text": [
      "time for iteration: 43.978641986846924\n",
      "186\n",
      "time for iteration: 44.8274405002594\n",
      "187\n"
     ]
    },
    {
     "name": "stderr",
     "output_type": "stream",
     "text": [
      "WARNING: Maximum number of iterations 10000 reached. The mean may be inaccurate\n"
     ]
    },
    {
     "name": "stdout",
     "output_type": "stream",
     "text": [
      "time for iteration: 35.90303945541382\n",
      "188\n",
      "time for iteration: 28.303157329559326\n",
      "189\n",
      "time for iteration: 29.58515954017639\n",
      "190\n",
      "time for iteration: 37.83869934082031\n",
      "191\n"
     ]
    },
    {
     "name": "stderr",
     "output_type": "stream",
     "text": [
      "WARNING: Maximum number of iterations 10000 reached. The mean may be inaccurate\n"
     ]
    },
    {
     "name": "stdout",
     "output_type": "stream",
     "text": [
      "time for iteration: 34.28900098800659\n",
      "192\n",
      "time for iteration: 30.780353307724\n",
      "193\n",
      "time for iteration: 27.215606451034546\n",
      "194\n"
     ]
    },
    {
     "name": "stderr",
     "output_type": "stream",
     "text": [
      "WARNING: Maximum number of iterations 10000 reached. The mean may be inaccurate\n"
     ]
    },
    {
     "name": "stdout",
     "output_type": "stream",
     "text": [
      "time for iteration: 49.90269470214844\n",
      "195\n",
      "time for iteration: 87.1172604560852\n",
      "196\n",
      "time for iteration: 48.20067882537842\n",
      "197\n",
      "time for iteration: 27.42192769050598\n",
      "198\n",
      "time for iteration: 27.350791931152344\n",
      "199\n",
      "time for iteration: 29.29040813446045\n",
      "200\n",
      "time for iteration: 28.266953468322754\n",
      "201\n"
     ]
    },
    {
     "name": "stderr",
     "output_type": "stream",
     "text": [
      "WARNING: Maximum number of iterations 10000 reached. The mean may be inaccurate\n"
     ]
    },
    {
     "name": "stdout",
     "output_type": "stream",
     "text": [
      "time for iteration: 39.213115215301514\n",
      "202\n"
     ]
    },
    {
     "name": "stderr",
     "output_type": "stream",
     "text": [
      "WARNING: Maximum number of iterations 10000 reached. The mean may be inaccurate\n"
     ]
    },
    {
     "name": "stdout",
     "output_type": "stream",
     "text": [
      "time for iteration: 50.926090478897095\n",
      "203\n",
      "time for iteration: 27.827890872955322\n",
      "204\n",
      "time for iteration: 29.803765535354614\n",
      "205\n",
      "time for iteration: 29.030016899108887\n",
      "206\n"
     ]
    },
    {
     "name": "stderr",
     "output_type": "stream",
     "text": [
      "WARNING: Maximum number of iterations 10000 reached. The mean may be inaccurate\n"
     ]
    },
    {
     "name": "stdout",
     "output_type": "stream",
     "text": [
      "time for iteration: 50.934006690979004\n",
      "207\n",
      "time for iteration: 27.227385759353638\n",
      "208\n",
      "time for iteration: 46.26671886444092\n",
      "209\n",
      "time for iteration: 27.936036109924316\n",
      "210\n",
      "time for iteration: 27.260639190673828\n",
      "211\n",
      "time for iteration: 39.71398591995239\n",
      "212\n",
      "time for iteration: 39.52785396575928\n",
      "214\n",
      "time for iteration: 28.767045974731445\n",
      "215\n",
      "time for iteration: 28.242661952972412\n",
      "216\n"
     ]
    },
    {
     "name": "stderr",
     "output_type": "stream",
     "text": [
      "WARNING: Maximum number of iterations 10000 reached. The mean may be inaccurate\n"
     ]
    },
    {
     "name": "stdout",
     "output_type": "stream",
     "text": [
      "time for iteration: 48.80397295951843\n",
      "217\n"
     ]
    },
    {
     "name": "stderr",
     "output_type": "stream",
     "text": [
      "WARNING: Maximum number of iterations 10000 reached. The mean may be inaccurate\n"
     ]
    },
    {
     "name": "stdout",
     "output_type": "stream",
     "text": [
      "time for iteration: 58.82309126853943\n",
      "218\n"
     ]
    },
    {
     "name": "stderr",
     "output_type": "stream",
     "text": [
      "WARNING: Maximum number of iterations 10000 reached. The mean may be inaccurate\n"
     ]
    },
    {
     "name": "stdout",
     "output_type": "stream",
     "text": [
      "time for iteration: 43.68655586242676\n",
      "219\n",
      "time for iteration: 52.13864541053772\n",
      "220\n",
      "time for iteration: 27.316211700439453\n",
      "221\n",
      "time for iteration: 53.021225452423096\n",
      "222\n",
      "time for iteration: 37.75726318359375\n",
      "223\n"
     ]
    },
    {
     "name": "stderr",
     "output_type": "stream",
     "text": [
      "WARNING: Maximum number of iterations 10000 reached. The mean may be inaccurate\n"
     ]
    },
    {
     "name": "stdout",
     "output_type": "stream",
     "text": [
      "time for iteration: 45.34581923484802\n",
      "224\n"
     ]
    },
    {
     "name": "stderr",
     "output_type": "stream",
     "text": [
      "WARNING: Maximum number of iterations 10000 reached. The mean may be inaccurate\n"
     ]
    },
    {
     "name": "stdout",
     "output_type": "stream",
     "text": [
      "time for iteration: 53.94735312461853\n",
      "225\n"
     ]
    },
    {
     "name": "stderr",
     "output_type": "stream",
     "text": [
      "WARNING: Maximum number of iterations 10000 reached. The mean may be inaccurate\n"
     ]
    },
    {
     "name": "stdout",
     "output_type": "stream",
     "text": [
      "time for iteration: 43.547369718551636\n",
      "226\n"
     ]
    },
    {
     "name": "stderr",
     "output_type": "stream",
     "text": [
      "WARNING: Maximum number of iterations 10000 reached. The mean may be inaccurate\n"
     ]
    },
    {
     "name": "stdout",
     "output_type": "stream",
     "text": [
      "time for iteration: 49.66074347496033\n",
      "227\n",
      "time for iteration: 58.66785907745361\n",
      "228\n"
     ]
    },
    {
     "name": "stderr",
     "output_type": "stream",
     "text": [
      "WARNING: Maximum number of iterations 10000 reached. The mean may be inaccurate\n"
     ]
    },
    {
     "name": "stdout",
     "output_type": "stream",
     "text": [
      "time for iteration: 54.4180645942688\n",
      "229\n",
      "time for iteration: 46.32518720626831\n",
      "230\n",
      "time for iteration: 27.43837070465088\n",
      "231\n",
      "time for iteration: 40.28923773765564\n",
      "232\n"
     ]
    },
    {
     "name": "stderr",
     "output_type": "stream",
     "text": [
      "WARNING: Maximum number of iterations 10000 reached. The mean may be inaccurate\n"
     ]
    },
    {
     "name": "stdout",
     "output_type": "stream",
     "text": [
      "time for iteration: 86.52635765075684\n",
      "233\n"
     ]
    },
    {
     "name": "stderr",
     "output_type": "stream",
     "text": [
      "WARNING: Maximum number of iterations 10000 reached. The mean may be inaccurate\n"
     ]
    },
    {
     "name": "stdout",
     "output_type": "stream",
     "text": [
      "time for iteration: 50.97034454345703\n",
      "234\n"
     ]
    },
    {
     "name": "stderr",
     "output_type": "stream",
     "text": [
      "WARNING: Maximum number of iterations 10000 reached. The mean may be inaccurate\n"
     ]
    },
    {
     "name": "stdout",
     "output_type": "stream",
     "text": [
      "time for iteration: 40.92353892326355\n",
      "235\n",
      "time for iteration: 36.48987174034119\n",
      "236\n"
     ]
    },
    {
     "name": "stderr",
     "output_type": "stream",
     "text": [
      "WARNING: Maximum number of iterations 10000 reached. The mean may be inaccurate\n"
     ]
    },
    {
     "name": "stdout",
     "output_type": "stream",
     "text": [
      "time for iteration: 34.79774522781372\n",
      "237\n"
     ]
    },
    {
     "name": "stderr",
     "output_type": "stream",
     "text": [
      "WARNING: Maximum number of iterations 10000 reached. The mean may be inaccurate\n"
     ]
    },
    {
     "name": "stdout",
     "output_type": "stream",
     "text": [
      "time for iteration: 37.465426206588745\n",
      "238\n",
      "time for iteration: 48.69424819946289\n",
      "239\n",
      "time for iteration: 28.53417658805847\n",
      "240\n"
     ]
    },
    {
     "name": "stderr",
     "output_type": "stream",
     "text": [
      "WARNING: Maximum number of iterations 10000 reached. The mean may be inaccurate\n"
     ]
    },
    {
     "name": "stdout",
     "output_type": "stream",
     "text": [
      "time for iteration: 46.37524890899658\n",
      "241\n",
      "time for iteration: 40.63461422920227\n",
      "242\n"
     ]
    },
    {
     "name": "stderr",
     "output_type": "stream",
     "text": [
      "WARNING: Maximum number of iterations 10000 reached. The mean may be inaccurate\n"
     ]
    },
    {
     "name": "stdout",
     "output_type": "stream",
     "text": [
      "time for iteration: 35.36695146560669\n",
      "243\n",
      "time for iteration: 29.279694318771362\n",
      "244\n"
     ]
    },
    {
     "name": "stderr",
     "output_type": "stream",
     "text": [
      "WARNING: Maximum number of iterations 10000 reached. The mean may be inaccurate\n"
     ]
    },
    {
     "name": "stdout",
     "output_type": "stream",
     "text": [
      "time for iteration: 49.0682647228241\n",
      "245\n",
      "time for iteration: 27.57434892654419\n",
      "246\n"
     ]
    },
    {
     "name": "stderr",
     "output_type": "stream",
     "text": [
      "WARNING: Maximum number of iterations 10000 reached. The mean may be inaccurate\n"
     ]
    },
    {
     "name": "stdout",
     "output_type": "stream",
     "text": [
      "time for iteration: 60.161455392837524\n",
      "247\n"
     ]
    },
    {
     "name": "stderr",
     "output_type": "stream",
     "text": [
      "WARNING: Maximum number of iterations 10000 reached. The mean may be inaccurate\n"
     ]
    },
    {
     "name": "stdout",
     "output_type": "stream",
     "text": [
      "time for iteration: 36.93626093864441\n",
      "248\n"
     ]
    },
    {
     "name": "stderr",
     "output_type": "stream",
     "text": [
      "WARNING: Maximum number of iterations 10000 reached. The mean may be inaccurate\n"
     ]
    },
    {
     "name": "stdout",
     "output_type": "stream",
     "text": [
      "time for iteration: 37.298795223236084\n",
      "249\n",
      "time for iteration: 49.07870411872864\n",
      "250\n"
     ]
    },
    {
     "name": "stderr",
     "output_type": "stream",
     "text": [
      "WARNING: Maximum number of iterations 10000 reached. The mean may be inaccurate\n"
     ]
    },
    {
     "name": "stdout",
     "output_type": "stream",
     "text": [
      "time for iteration: 36.638800382614136\n",
      "251\n",
      "time for iteration: 36.50976586341858\n",
      "252\n",
      "time for iteration: 27.78824806213379\n",
      "253\n"
     ]
    },
    {
     "name": "stderr",
     "output_type": "stream",
     "text": [
      "WARNING: Maximum number of iterations 10000 reached. The mean may be inaccurate\n"
     ]
    },
    {
     "name": "stdout",
     "output_type": "stream",
     "text": [
      "time for iteration: 66.13891887664795\n",
      "254\n"
     ]
    },
    {
     "name": "stderr",
     "output_type": "stream",
     "text": [
      "WARNING: Maximum number of iterations 10000 reached. The mean may be inaccurate\n"
     ]
    },
    {
     "name": "stdout",
     "output_type": "stream",
     "text": [
      "time for iteration: 42.200679302215576\n",
      "255\n"
     ]
    },
    {
     "name": "stderr",
     "output_type": "stream",
     "text": [
      "WARNING: Maximum number of iterations 10000 reached. The mean may be inaccurate\n"
     ]
    },
    {
     "name": "stdout",
     "output_type": "stream",
     "text": [
      "time for iteration: 45.30005860328674\n",
      "256\n",
      "time for iteration: 46.7412633895874\n",
      "257\n",
      "time for iteration: 59.39859366416931\n",
      "258\n"
     ]
    },
    {
     "name": "stderr",
     "output_type": "stream",
     "text": [
      "WARNING: Maximum number of iterations 10000 reached. The mean may be inaccurate\n"
     ]
    },
    {
     "name": "stdout",
     "output_type": "stream",
     "text": [
      "time for iteration: 35.61376690864563\n",
      "259\n"
     ]
    },
    {
     "name": "stderr",
     "output_type": "stream",
     "text": [
      "WARNING: Maximum number of iterations 10000 reached. The mean may be inaccurate\n"
     ]
    },
    {
     "name": "stdout",
     "output_type": "stream",
     "text": [
      "time for iteration: 66.62422823905945\n",
      "260\n",
      "time for iteration: 27.74867868423462\n",
      "261\n"
     ]
    },
    {
     "name": "stderr",
     "output_type": "stream",
     "text": [
      "WARNING: Maximum number of iterations 10000 reached. The mean may be inaccurate\n"
     ]
    },
    {
     "name": "stdout",
     "output_type": "stream",
     "text": [
      "time for iteration: 35.49401545524597\n",
      "262\n"
     ]
    },
    {
     "name": "stderr",
     "output_type": "stream",
     "text": [
      "WARNING: Maximum number of iterations 10000 reached. The mean may be inaccurate\n"
     ]
    },
    {
     "name": "stdout",
     "output_type": "stream",
     "text": [
      "time for iteration: 48.80528926849365\n",
      "263\n",
      "time for iteration: 38.23150849342346\n",
      "264\n",
      "time for iteration: 51.57902264595032\n",
      "265\n",
      "time for iteration: 30.03850269317627\n",
      "266\n",
      "time for iteration: 27.434014320373535\n",
      "267\n"
     ]
    },
    {
     "name": "stderr",
     "output_type": "stream",
     "text": [
      "WARNING: Maximum number of iterations 10000 reached. The mean may be inaccurate\n"
     ]
    },
    {
     "name": "stdout",
     "output_type": "stream",
     "text": [
      "time for iteration: 58.597851276397705\n",
      "268\n",
      "time for iteration: 30.570185661315918\n",
      "269\n"
     ]
    },
    {
     "name": "stderr",
     "output_type": "stream",
     "text": [
      "WARNING: Maximum number of iterations 10000 reached. The mean may be inaccurate\n"
     ]
    },
    {
     "name": "stdout",
     "output_type": "stream",
     "text": [
      "time for iteration: 78.06354236602783\n",
      "270\n",
      "time for iteration: 53.664687395095825\n",
      "271\n"
     ]
    },
    {
     "name": "stderr",
     "output_type": "stream",
     "text": [
      "WARNING: Maximum number of iterations 10000 reached. The mean may be inaccurate\n"
     ]
    },
    {
     "name": "stdout",
     "output_type": "stream",
     "text": [
      "time for iteration: 42.916433572769165\n",
      "272\n",
      "time for iteration: 28.92329740524292\n",
      "273\n"
     ]
    },
    {
     "name": "stderr",
     "output_type": "stream",
     "text": [
      "WARNING: Maximum number of iterations 10000 reached. The mean may be inaccurate\n"
     ]
    },
    {
     "name": "stdout",
     "output_type": "stream",
     "text": [
      "time for iteration: 43.3423547744751\n",
      "274\n",
      "time for iteration: 29.462249994277954\n",
      "275\n",
      "time for iteration: 28.43147373199463\n",
      "276\n"
     ]
    },
    {
     "name": "stderr",
     "output_type": "stream",
     "text": [
      "WARNING: Maximum number of iterations 10000 reached. The mean may be inaccurate\n"
     ]
    },
    {
     "name": "stdout",
     "output_type": "stream",
     "text": [
      "time for iteration: 75.40836310386658\n",
      "277\n",
      "time for iteration: 28.447808027267456\n",
      "278\n",
      "time for iteration: 46.560574769973755\n",
      "279\n"
     ]
    },
    {
     "name": "stderr",
     "output_type": "stream",
     "text": [
      "WARNING: Maximum number of iterations 10000 reached. The mean may be inaccurate\n"
     ]
    },
    {
     "name": "stdout",
     "output_type": "stream",
     "text": [
      "time for iteration: 34.923588275909424\n",
      "280\n"
     ]
    },
    {
     "name": "stderr",
     "output_type": "stream",
     "text": [
      "WARNING: Maximum number of iterations 10000 reached. The mean may be inaccurate\n"
     ]
    },
    {
     "name": "stdout",
     "output_type": "stream",
     "text": [
      "time for iteration: 53.7539701461792\n",
      "281\n"
     ]
    },
    {
     "name": "stderr",
     "output_type": "stream",
     "text": [
      "WARNING: Maximum number of iterations 10000 reached. The mean may be inaccurate\n"
     ]
    },
    {
     "name": "stdout",
     "output_type": "stream",
     "text": [
      "time for iteration: 63.335782051086426\n",
      "282\n"
     ]
    },
    {
     "name": "stderr",
     "output_type": "stream",
     "text": [
      "WARNING: Maximum number of iterations 10000 reached. The mean may be inaccurate\n"
     ]
    },
    {
     "name": "stdout",
     "output_type": "stream",
     "text": [
      "time for iteration: 47.809438705444336\n",
      "283\n"
     ]
    },
    {
     "name": "stderr",
     "output_type": "stream",
     "text": [
      "WARNING: Maximum number of iterations 10000 reached. The mean may be inaccurate\n"
     ]
    },
    {
     "name": "stdout",
     "output_type": "stream",
     "text": [
      "time for iteration: 36.41704344749451\n",
      "284\n"
     ]
    },
    {
     "name": "stderr",
     "output_type": "stream",
     "text": [
      "WARNING: Maximum number of iterations 10000 reached. The mean may be inaccurate\n"
     ]
    },
    {
     "name": "stdout",
     "output_type": "stream",
     "text": [
      "time for iteration: 82.60705089569092\n",
      "285\n",
      "time for iteration: 42.70227313041687\n",
      "286\n"
     ]
    },
    {
     "name": "stderr",
     "output_type": "stream",
     "text": [
      "WARNING: Maximum number of iterations 10000 reached. The mean may be inaccurate\n"
     ]
    },
    {
     "name": "stdout",
     "output_type": "stream",
     "text": [
      "time for iteration: 34.752554416656494\n",
      "287\n"
     ]
    },
    {
     "name": "stderr",
     "output_type": "stream",
     "text": [
      "WARNING: Maximum number of iterations 10000 reached. The mean may be inaccurate\n"
     ]
    },
    {
     "name": "stdout",
     "output_type": "stream",
     "text": [
      "time for iteration: 45.77654695510864\n",
      "288\n",
      "time for iteration: 28.90063500404358\n",
      "289\n"
     ]
    },
    {
     "name": "stderr",
     "output_type": "stream",
     "text": [
      "WARNING: Maximum number of iterations 10000 reached. The mean may be inaccurate\n"
     ]
    },
    {
     "name": "stdout",
     "output_type": "stream",
     "text": [
      "time for iteration: 43.31522798538208\n",
      "290\n"
     ]
    },
    {
     "name": "stderr",
     "output_type": "stream",
     "text": [
      "WARNING: Maximum number of iterations 10000 reached. The mean may be inaccurate\n"
     ]
    },
    {
     "name": "stdout",
     "output_type": "stream",
     "text": [
      "time for iteration: 35.391539335250854\n",
      "291\n",
      "time for iteration: 34.28184151649475\n",
      "292\n",
      "time for iteration: 36.70846080780029\n",
      "293\n"
     ]
    },
    {
     "name": "stderr",
     "output_type": "stream",
     "text": [
      "WARNING: Maximum number of iterations 10000 reached. The mean may be inaccurate\n"
     ]
    },
    {
     "name": "stdout",
     "output_type": "stream",
     "text": [
      "time for iteration: 51.7366943359375\n",
      "294\n",
      "time for iteration: 30.0597927570343\n",
      "295\n",
      "time for iteration: 73.62406945228577\n",
      "296\n"
     ]
    },
    {
     "name": "stderr",
     "output_type": "stream",
     "text": [
      "WARNING: Maximum number of iterations 10000 reached. The mean may be inaccurate\n"
     ]
    },
    {
     "name": "stdout",
     "output_type": "stream",
     "text": [
      "time for iteration: 37.41194748878479\n",
      "297\n"
     ]
    },
    {
     "name": "stderr",
     "output_type": "stream",
     "text": [
      "WARNING: Maximum number of iterations 10000 reached. The mean may be inaccurate\n"
     ]
    },
    {
     "name": "stdout",
     "output_type": "stream",
     "text": [
      "time for iteration: 90.76497983932495\n",
      "298\n"
     ]
    },
    {
     "name": "stderr",
     "output_type": "stream",
     "text": [
      "WARNING: Maximum number of iterations 10000 reached. The mean may be inaccurate\n"
     ]
    },
    {
     "name": "stdout",
     "output_type": "stream",
     "text": [
      "time for iteration: 48.72103476524353\n",
      "299\n"
     ]
    },
    {
     "name": "stderr",
     "output_type": "stream",
     "text": [
      "WARNING: Maximum number of iterations 10000 reached. The mean may be inaccurate\n"
     ]
    },
    {
     "name": "stdout",
     "output_type": "stream",
     "text": [
      "time for iteration: 41.819782733917236\n",
      "300\n",
      "time for iteration: 27.710747003555298\n",
      "301\n",
      "time for iteration: 27.925225257873535\n",
      "302\n",
      "time for iteration: 31.038365125656128\n",
      "303\n",
      "time for iteration: 44.11608862876892\n",
      "304\n"
     ]
    },
    {
     "name": "stderr",
     "output_type": "stream",
     "text": [
      "WARNING: Maximum number of iterations 10000 reached. The mean may be inaccurate\n"
     ]
    },
    {
     "name": "stdout",
     "output_type": "stream",
     "text": [
      "time for iteration: 62.531005859375\n",
      "305\n",
      "time for iteration: 32.94715142250061\n",
      "306\n"
     ]
    },
    {
     "name": "stderr",
     "output_type": "stream",
     "text": [
      "WARNING: Maximum number of iterations 10000 reached. The mean may be inaccurate\n"
     ]
    },
    {
     "name": "stdout",
     "output_type": "stream",
     "text": [
      "time for iteration: 43.17895174026489\n",
      "307\n",
      "time for iteration: 29.459203243255615\n",
      "308\n"
     ]
    },
    {
     "name": "stderr",
     "output_type": "stream",
     "text": [
      "WARNING: Maximum number of iterations 10000 reached. The mean may be inaccurate\n"
     ]
    },
    {
     "name": "stdout",
     "output_type": "stream",
     "text": [
      "time for iteration: 74.10202360153198\n",
      "309\n",
      "time for iteration: 30.30660915374756\n",
      "310\n"
     ]
    },
    {
     "name": "stderr",
     "output_type": "stream",
     "text": [
      "WARNING: Maximum number of iterations 10000 reached. The mean may be inaccurate\n"
     ]
    },
    {
     "name": "stdout",
     "output_type": "stream",
     "text": [
      "time for iteration: 41.17763638496399\n",
      "311\n",
      "time for iteration: 42.18429970741272\n",
      "312\n",
      "time for iteration: 29.731802463531494\n",
      "313\n"
     ]
    },
    {
     "name": "stderr",
     "output_type": "stream",
     "text": [
      "WARNING: Maximum number of iterations 10000 reached. The mean may be inaccurate\n"
     ]
    },
    {
     "name": "stdout",
     "output_type": "stream",
     "text": [
      "time for iteration: 35.29447889328003\n",
      "314\n",
      "time for iteration: 59.188990116119385\n",
      "315\n"
     ]
    },
    {
     "name": "stderr",
     "output_type": "stream",
     "text": [
      "WARNING: Maximum number of iterations 10000 reached. The mean may be inaccurate\n"
     ]
    },
    {
     "name": "stdout",
     "output_type": "stream",
     "text": [
      "time for iteration: 43.096545696258545\n",
      "316\n"
     ]
    },
    {
     "name": "stderr",
     "output_type": "stream",
     "text": [
      "WARNING: Maximum number of iterations 10000 reached. The mean may be inaccurate\n"
     ]
    },
    {
     "name": "stdout",
     "output_type": "stream",
     "text": [
      "time for iteration: 49.2809202671051\n",
      "317\n"
     ]
    },
    {
     "name": "stderr",
     "output_type": "stream",
     "text": [
      "WARNING: Maximum number of iterations 10000 reached. The mean may be inaccurate\n"
     ]
    },
    {
     "name": "stdout",
     "output_type": "stream",
     "text": [
      "time for iteration: 107.13993525505066\n",
      "318\n"
     ]
    },
    {
     "name": "stderr",
     "output_type": "stream",
     "text": [
      "WARNING: Maximum number of iterations 10000 reached. The mean may be inaccurate\n"
     ]
    },
    {
     "name": "stdout",
     "output_type": "stream",
     "text": [
      "time for iteration: 49.652528047561646\n",
      "319\n",
      "time for iteration: 42.33604955673218\n",
      "320\n"
     ]
    },
    {
     "name": "stderr",
     "output_type": "stream",
     "text": [
      "WARNING: Maximum number of iterations 10000 reached. The mean may be inaccurate\n"
     ]
    },
    {
     "name": "stdout",
     "output_type": "stream",
     "text": [
      "time for iteration: 34.83135414123535\n",
      "321\n",
      "time for iteration: 29.44720721244812\n",
      "322\n"
     ]
    },
    {
     "name": "stderr",
     "output_type": "stream",
     "text": [
      "WARNING: Maximum number of iterations 10000 reached. The mean may be inaccurate\n"
     ]
    },
    {
     "name": "stdout",
     "output_type": "stream",
     "text": [
      "time for iteration: 36.09010720252991\n",
      "323\n",
      "time for iteration: 30.141300439834595\n",
      "324\n"
     ]
    },
    {
     "name": "stderr",
     "output_type": "stream",
     "text": [
      "WARNING: Maximum number of iterations 10000 reached. The mean may be inaccurate\n"
     ]
    },
    {
     "name": "stdout",
     "output_type": "stream",
     "text": [
      "time for iteration: 59.965167760849\n",
      "325\n",
      "time for iteration: 58.690170764923096\n",
      "326\n",
      "time for iteration: 28.657461643218994\n",
      "327\n",
      "time for iteration: 29.638696908950806\n",
      "328\n"
     ]
    },
    {
     "name": "stderr",
     "output_type": "stream",
     "text": [
      "WARNING: Maximum number of iterations 10000 reached. The mean may be inaccurate\n"
     ]
    },
    {
     "name": "stdout",
     "output_type": "stream",
     "text": [
      "time for iteration: 55.852925300598145\n",
      "329\n"
     ]
    },
    {
     "name": "stderr",
     "output_type": "stream",
     "text": [
      "WARNING: Maximum number of iterations 10000 reached. The mean may be inaccurate\n"
     ]
    },
    {
     "name": "stdout",
     "output_type": "stream",
     "text": [
      "time for iteration: 58.06514811515808\n",
      "330\n"
     ]
    },
    {
     "name": "stderr",
     "output_type": "stream",
     "text": [
      "WARNING: Maximum number of iterations 10000 reached. The mean may be inaccurate\n"
     ]
    },
    {
     "name": "stdout",
     "output_type": "stream",
     "text": [
      "time for iteration: 44.3203706741333\n",
      "331\n",
      "time for iteration: 33.77628135681152\n",
      "332\n"
     ]
    },
    {
     "name": "stderr",
     "output_type": "stream",
     "text": [
      "WARNING: Maximum number of iterations 10000 reached. The mean may be inaccurate\n"
     ]
    },
    {
     "name": "stdout",
     "output_type": "stream",
     "text": [
      "time for iteration: 36.26766633987427\n",
      "333\n",
      "time for iteration: 28.910043478012085\n",
      "334\n",
      "time for iteration: 45.17747163772583\n",
      "335\n",
      "time for iteration: 27.842374086380005\n",
      "336\n"
     ]
    },
    {
     "name": "stderr",
     "output_type": "stream",
     "text": [
      "WARNING: Maximum number of iterations 10000 reached. The mean may be inaccurate\n"
     ]
    },
    {
     "name": "stdout",
     "output_type": "stream",
     "text": [
      "time for iteration: 38.36928176879883\n",
      "337\n",
      "time for iteration: 29.367048025131226\n",
      "338\n"
     ]
    },
    {
     "name": "stderr",
     "output_type": "stream",
     "text": [
      "WARNING: Maximum number of iterations 10000 reached. The mean may be inaccurate\n"
     ]
    },
    {
     "name": "stdout",
     "output_type": "stream",
     "text": [
      "time for iteration: 54.64166474342346\n",
      "339\n",
      "time for iteration: 44.29442000389099\n",
      "340\n"
     ]
    },
    {
     "name": "stderr",
     "output_type": "stream",
     "text": [
      "WARNING: Maximum number of iterations 10000 reached. The mean may be inaccurate\n"
     ]
    },
    {
     "name": "stdout",
     "output_type": "stream",
     "text": [
      "time for iteration: 56.14889669418335\n",
      "341\n"
     ]
    },
    {
     "name": "stderr",
     "output_type": "stream",
     "text": [
      "WARNING: Maximum number of iterations 10000 reached. The mean may be inaccurate\n"
     ]
    },
    {
     "name": "stdout",
     "output_type": "stream",
     "text": [
      "time for iteration: 73.88670897483826\n",
      "342\n"
     ]
    },
    {
     "name": "stderr",
     "output_type": "stream",
     "text": [
      "WARNING: Maximum number of iterations 10000 reached. The mean may be inaccurate\n"
     ]
    },
    {
     "name": "stdout",
     "output_type": "stream",
     "text": [
      "time for iteration: 50.07070350646973\n",
      "343\n",
      "time for iteration: 28.33344793319702\n",
      "344\n"
     ]
    },
    {
     "name": "stderr",
     "output_type": "stream",
     "text": [
      "WARNING: Maximum number of iterations 10000 reached. The mean may be inaccurate\n"
     ]
    },
    {
     "name": "stdout",
     "output_type": "stream",
     "text": [
      "time for iteration: 43.14976930618286\n",
      "345\n",
      "time for iteration: 28.810654401779175\n",
      "346\n",
      "time for iteration: 29.57268214225769\n",
      "347\n"
     ]
    },
    {
     "name": "stderr",
     "output_type": "stream",
     "text": [
      "WARNING: Maximum number of iterations 10000 reached. The mean may be inaccurate\n"
     ]
    },
    {
     "name": "stdout",
     "output_type": "stream",
     "text": [
      "time for iteration: 45.8109610080719\n",
      "348\n",
      "time for iteration: 32.88454985618591\n",
      "349\n",
      "time for iteration: 28.946117639541626\n",
      "350\n",
      "time for iteration: 32.45295739173889\n",
      "351\n"
     ]
    },
    {
     "name": "stderr",
     "output_type": "stream",
     "text": [
      "WARNING: Maximum number of iterations 10000 reached. The mean may be inaccurate\n"
     ]
    },
    {
     "name": "stdout",
     "output_type": "stream",
     "text": [
      "time for iteration: 37.08804726600647\n",
      "352\n"
     ]
    },
    {
     "name": "stderr",
     "output_type": "stream",
     "text": [
      "WARNING: Maximum number of iterations 10000 reached. The mean may be inaccurate\n"
     ]
    },
    {
     "name": "stdout",
     "output_type": "stream",
     "text": [
      "time for iteration: 49.768850326538086\n",
      "353\n"
     ]
    },
    {
     "name": "stderr",
     "output_type": "stream",
     "text": [
      "WARNING: Maximum number of iterations 10000 reached. The mean may be inaccurate\n"
     ]
    },
    {
     "name": "stdout",
     "output_type": "stream",
     "text": [
      "time for iteration: 54.19001126289368\n",
      "354\n"
     ]
    },
    {
     "name": "stderr",
     "output_type": "stream",
     "text": [
      "WARNING: Maximum number of iterations 10000 reached. The mean may be inaccurate\n"
     ]
    },
    {
     "name": "stdout",
     "output_type": "stream",
     "text": [
      "time for iteration: 34.806670904159546\n",
      "355\n"
     ]
    },
    {
     "name": "stderr",
     "output_type": "stream",
     "text": [
      "WARNING: Maximum number of iterations 10000 reached. The mean may be inaccurate\n"
     ]
    },
    {
     "name": "stdout",
     "output_type": "stream",
     "text": [
      "time for iteration: 44.29978966712952\n",
      "356\n",
      "time for iteration: 28.397762060165405\n",
      "357\n",
      "time for iteration: 29.349658727645874\n",
      "358\n",
      "time for iteration: 43.6003258228302\n",
      "359\n",
      "time for iteration: 27.763026475906372\n",
      "360\n",
      "time for iteration: 41.63430333137512\n",
      "361\n",
      "time for iteration: 27.352237224578857\n",
      "362\n",
      "time for iteration: 151.22248220443726\n",
      "363\n",
      "time for iteration: 50.458216428756714\n",
      "364\n"
     ]
    },
    {
     "name": "stderr",
     "output_type": "stream",
     "text": [
      "WARNING: Maximum number of iterations 10000 reached. The mean may be inaccurate\n"
     ]
    },
    {
     "name": "stdout",
     "output_type": "stream",
     "text": [
      "time for iteration: 34.906388998031616\n",
      "365\n",
      "time for iteration: 29.520450830459595\n",
      "366\n"
     ]
    },
    {
     "name": "stderr",
     "output_type": "stream",
     "text": [
      "WARNING: Maximum number of iterations 10000 reached. The mean may be inaccurate\n"
     ]
    },
    {
     "name": "stdout",
     "output_type": "stream",
     "text": [
      "time for iteration: 71.27307176589966\n",
      "367\n",
      "time for iteration: 38.103596448898315\n",
      "368\n",
      "time for iteration: 47.53844118118286\n",
      "369\n"
     ]
    },
    {
     "name": "stderr",
     "output_type": "stream",
     "text": [
      "WARNING: Maximum number of iterations 10000 reached. The mean may be inaccurate\n"
     ]
    },
    {
     "name": "stdout",
     "output_type": "stream",
     "text": [
      "time for iteration: 48.595611333847046\n",
      "370\n"
     ]
    },
    {
     "name": "stderr",
     "output_type": "stream",
     "text": [
      "WARNING: Maximum number of iterations 10000 reached. The mean may be inaccurate\n"
     ]
    },
    {
     "name": "stdout",
     "output_type": "stream",
     "text": [
      "time for iteration: 64.27533984184265\n",
      "371\n"
     ]
    },
    {
     "name": "stderr",
     "output_type": "stream",
     "text": [
      "WARNING: Maximum number of iterations 10000 reached. The mean may be inaccurate\n"
     ]
    },
    {
     "name": "stdout",
     "output_type": "stream",
     "text": [
      "time for iteration: 51.63566517829895\n",
      "372\n"
     ]
    },
    {
     "name": "stderr",
     "output_type": "stream",
     "text": [
      "WARNING: Maximum number of iterations 10000 reached. The mean may be inaccurate\n"
     ]
    },
    {
     "name": "stdout",
     "output_type": "stream",
     "text": [
      "time for iteration: 52.66559338569641\n",
      "373\n",
      "time for iteration: 28.438631534576416\n",
      "374\n",
      "time for iteration: 27.418658018112183\n",
      "375\n",
      "time for iteration: 35.23088526725769\n",
      "376\n",
      "time for iteration: 27.38189959526062\n",
      "377\n",
      "time for iteration: 52.06264066696167\n",
      "378\n"
     ]
    },
    {
     "name": "stderr",
     "output_type": "stream",
     "text": [
      "WARNING: Maximum number of iterations 10000 reached. The mean may be inaccurate\n"
     ]
    },
    {
     "name": "stdout",
     "output_type": "stream",
     "text": [
      "time for iteration: 37.68101477622986\n",
      "379\n",
      "time for iteration: 27.25475239753723\n",
      "380\n"
     ]
    },
    {
     "name": "stderr",
     "output_type": "stream",
     "text": [
      "WARNING: Maximum number of iterations 10000 reached. The mean may be inaccurate\n"
     ]
    },
    {
     "name": "stdout",
     "output_type": "stream",
     "text": [
      "time for iteration: 50.80629348754883\n",
      "381\n",
      "time for iteration: 36.122684955596924\n",
      "382\n"
     ]
    },
    {
     "name": "stderr",
     "output_type": "stream",
     "text": [
      "WARNING: Maximum number of iterations 10000 reached. The mean may be inaccurate\n"
     ]
    },
    {
     "name": "stdout",
     "output_type": "stream",
     "text": [
      "time for iteration: 45.30813694000244\n",
      "383\n",
      "time for iteration: 27.345995903015137\n",
      "384\n",
      "time for iteration: 29.13090491294861\n",
      "385\n"
     ]
    },
    {
     "name": "stderr",
     "output_type": "stream",
     "text": [
      "WARNING: Maximum number of iterations 10000 reached. The mean may be inaccurate\n"
     ]
    },
    {
     "name": "stdout",
     "output_type": "stream",
     "text": [
      "time for iteration: 42.53771758079529\n",
      "386\n",
      "time for iteration: 30.380451202392578\n",
      "387\n",
      "time for iteration: 27.31843376159668\n",
      "388\n",
      "time for iteration: 27.432634115219116\n",
      "389\n",
      "time for iteration: 50.9496386051178\n",
      "390\n"
     ]
    },
    {
     "name": "stderr",
     "output_type": "stream",
     "text": [
      "WARNING: Maximum number of iterations 10000 reached. The mean may be inaccurate\n"
     ]
    },
    {
     "name": "stdout",
     "output_type": "stream",
     "text": [
      "time for iteration: 40.37064981460571\n",
      "391\n",
      "time for iteration: 27.365283250808716\n",
      "392\n",
      "time for iteration: 27.24734139442444\n",
      "393\n",
      "time for iteration: 30.34964108467102\n",
      "394\n",
      "time for iteration: 44.39381122589111\n",
      "395\n"
     ]
    },
    {
     "name": "stderr",
     "output_type": "stream",
     "text": [
      "WARNING: Maximum number of iterations 10000 reached. The mean may be inaccurate\n"
     ]
    },
    {
     "name": "stdout",
     "output_type": "stream",
     "text": [
      "time for iteration: 35.23596453666687\n",
      "396\n",
      "time for iteration: 47.050883293151855\n",
      "397\n"
     ]
    },
    {
     "name": "stderr",
     "output_type": "stream",
     "text": [
      "WARNING: Maximum number of iterations 10000 reached. The mean may be inaccurate\n"
     ]
    },
    {
     "name": "stdout",
     "output_type": "stream",
     "text": [
      "time for iteration: 37.70311665534973\n",
      "398\n",
      "time for iteration: 27.549110174179077\n",
      "399\n"
     ]
    },
    {
     "name": "stderr",
     "output_type": "stream",
     "text": [
      "WARNING: Maximum number of iterations 10000 reached. The mean may be inaccurate\n"
     ]
    },
    {
     "name": "stdout",
     "output_type": "stream",
     "text": [
      "time for iteration: 35.211426973342896\n",
      "400\n",
      "time for iteration: 34.53314709663391\n",
      "401\n",
      "time for iteration: 38.04598617553711\n",
      "402\n",
      "time for iteration: 38.51389479637146\n",
      "403\n",
      "time for iteration: 49.225783824920654\n",
      "404\n"
     ]
    },
    {
     "name": "stderr",
     "output_type": "stream",
     "text": [
      "WARNING: Maximum number of iterations 10000 reached. The mean may be inaccurate\n"
     ]
    },
    {
     "name": "stdout",
     "output_type": "stream",
     "text": [
      "time for iteration: 34.65871262550354\n",
      "405\n"
     ]
    },
    {
     "name": "stderr",
     "output_type": "stream",
     "text": [
      "WARNING: Maximum number of iterations 10000 reached. The mean may be inaccurate\n"
     ]
    },
    {
     "name": "stdout",
     "output_type": "stream",
     "text": [
      "time for iteration: 50.549360036849976\n",
      "406\n",
      "time for iteration: 31.275274515151978\n",
      "407\n"
     ]
    },
    {
     "name": "stderr",
     "output_type": "stream",
     "text": [
      "WARNING: Maximum number of iterations 10000 reached. The mean may be inaccurate\n"
     ]
    },
    {
     "name": "stdout",
     "output_type": "stream",
     "text": [
      "time for iteration: 58.36785531044006\n",
      "408\n"
     ]
    },
    {
     "name": "stderr",
     "output_type": "stream",
     "text": [
      "WARNING: Maximum number of iterations 10000 reached. The mean may be inaccurate\n"
     ]
    },
    {
     "name": "stdout",
     "output_type": "stream",
     "text": [
      "time for iteration: 66.20693612098694\n",
      "409\n"
     ]
    },
    {
     "name": "stderr",
     "output_type": "stream",
     "text": [
      "WARNING: Maximum number of iterations 10000 reached. The mean may be inaccurate\n"
     ]
    },
    {
     "name": "stdout",
     "output_type": "stream",
     "text": [
      "time for iteration: 76.26503205299377\n",
      "410\n"
     ]
    },
    {
     "name": "stderr",
     "output_type": "stream",
     "text": [
      "WARNING: Maximum number of iterations 10000 reached. The mean may be inaccurate\n"
     ]
    },
    {
     "name": "stdout",
     "output_type": "stream",
     "text": [
      "time for iteration: 49.88477396965027\n",
      "411\n"
     ]
    },
    {
     "name": "stderr",
     "output_type": "stream",
     "text": [
      "WARNING: Maximum number of iterations 10000 reached. The mean may be inaccurate\n"
     ]
    },
    {
     "name": "stdout",
     "output_type": "stream",
     "text": [
      "time for iteration: 91.58069682121277\n",
      "412\n"
     ]
    },
    {
     "name": "stderr",
     "output_type": "stream",
     "text": [
      "WARNING: Maximum number of iterations 10000 reached. The mean may be inaccurate\n"
     ]
    },
    {
     "name": "stdout",
     "output_type": "stream",
     "text": [
      "time for iteration: 50.89512252807617\n",
      "413\n",
      "time for iteration: 27.358871459960938\n",
      "414\n",
      "time for iteration: 27.363468170166016\n",
      "415\n"
     ]
    },
    {
     "name": "stderr",
     "output_type": "stream",
     "text": [
      "WARNING: Maximum number of iterations 10000 reached. The mean may be inaccurate\n"
     ]
    },
    {
     "name": "stdout",
     "output_type": "stream",
     "text": [
      "time for iteration: 35.408130168914795\n",
      "416\n",
      "time for iteration: 27.371936082839966\n",
      "417\n",
      "time for iteration: 34.76984691619873\n",
      "418\n"
     ]
    },
    {
     "name": "stderr",
     "output_type": "stream",
     "text": [
      "WARNING: Maximum number of iterations 10000 reached. The mean may be inaccurate\n"
     ]
    },
    {
     "name": "stdout",
     "output_type": "stream",
     "text": [
      "time for iteration: 61.68123412132263\n",
      "419\n",
      "time for iteration: 40.8360116481781\n",
      "420\n",
      "time for iteration: 71.33521556854248\n",
      "421\n",
      "time for iteration: 35.81808543205261\n",
      "422\n",
      "time for iteration: 84.11569857597351\n",
      "423\n"
     ]
    },
    {
     "name": "stderr",
     "output_type": "stream",
     "text": [
      "WARNING: Maximum number of iterations 10000 reached. The mean may be inaccurate\n"
     ]
    },
    {
     "name": "stdout",
     "output_type": "stream",
     "text": [
      "time for iteration: 40.626460790634155\n",
      "424\n"
     ]
    },
    {
     "name": "stderr",
     "output_type": "stream",
     "text": [
      "WARNING: Maximum number of iterations 10000 reached. The mean may be inaccurate\n"
     ]
    },
    {
     "name": "stdout",
     "output_type": "stream",
     "text": [
      "time for iteration: 97.23128628730774\n",
      "425\n"
     ]
    },
    {
     "name": "stderr",
     "output_type": "stream",
     "text": [
      "WARNING: Maximum number of iterations 10000 reached. The mean may be inaccurate\n"
     ]
    },
    {
     "name": "stdout",
     "output_type": "stream",
     "text": [
      "time for iteration: 34.84354901313782\n",
      "426\n"
     ]
    },
    {
     "name": "stderr",
     "output_type": "stream",
     "text": [
      "WARNING: Maximum number of iterations 10000 reached. The mean may be inaccurate\n"
     ]
    },
    {
     "name": "stdout",
     "output_type": "stream",
     "text": [
      "time for iteration: 37.13488984107971\n",
      "427\n",
      "time for iteration: 45.658161640167236\n",
      "428\n"
     ]
    },
    {
     "name": "stderr",
     "output_type": "stream",
     "text": [
      "WARNING: Maximum number of iterations 10000 reached. The mean may be inaccurate\n"
     ]
    },
    {
     "name": "stdout",
     "output_type": "stream",
     "text": [
      "time for iteration: 57.37294363975525\n",
      "429\n",
      "time for iteration: 27.466988801956177\n",
      "430\n",
      "time for iteration: 36.37430953979492\n",
      "431\n",
      "time for iteration: 27.391597509384155\n",
      "432\n"
     ]
    },
    {
     "name": "stderr",
     "output_type": "stream",
     "text": [
      "WARNING: Maximum number of iterations 10000 reached. The mean may be inaccurate\n"
     ]
    },
    {
     "name": "stdout",
     "output_type": "stream",
     "text": [
      "time for iteration: 79.92669796943665\n",
      "433\n"
     ]
    },
    {
     "name": "stderr",
     "output_type": "stream",
     "text": [
      "WARNING: Maximum number of iterations 10000 reached. The mean may be inaccurate\n"
     ]
    },
    {
     "name": "stdout",
     "output_type": "stream",
     "text": [
      "time for iteration: 56.18687129020691\n",
      "434\n"
     ]
    },
    {
     "name": "stderr",
     "output_type": "stream",
     "text": [
      "WARNING: Maximum number of iterations 10000 reached. The mean may be inaccurate\n"
     ]
    },
    {
     "name": "stdout",
     "output_type": "stream",
     "text": [
      "time for iteration: 51.31805658340454\n",
      "435\n",
      "time for iteration: 27.261232137680054\n",
      "436\n"
     ]
    },
    {
     "name": "stderr",
     "output_type": "stream",
     "text": [
      "WARNING: Maximum number of iterations 10000 reached. The mean may be inaccurate\n"
     ]
    },
    {
     "name": "stdout",
     "output_type": "stream",
     "text": [
      "time for iteration: 48.49847888946533\n",
      "437\n",
      "time for iteration: 36.60545635223389\n",
      "438\n",
      "time for iteration: 37.75318884849548\n",
      "439\n",
      "time for iteration: 36.74907159805298\n",
      "440\n",
      "time for iteration: 30.644679069519043\n",
      "441\n",
      "time for iteration: 53.40970969200134\n",
      "442\n"
     ]
    },
    {
     "name": "stderr",
     "output_type": "stream",
     "text": [
      "WARNING: Maximum number of iterations 10000 reached. The mean may be inaccurate\n"
     ]
    },
    {
     "name": "stdout",
     "output_type": "stream",
     "text": [
      "time for iteration: 56.85896158218384\n",
      "443\n",
      "time for iteration: 27.325210094451904\n",
      "444\n",
      "time for iteration: 37.41220808029175\n",
      "445\n",
      "time for iteration: 29.2898166179657\n",
      "446\n",
      "time for iteration: 28.43380832672119\n",
      "447\n"
     ]
    },
    {
     "name": "stderr",
     "output_type": "stream",
     "text": [
      "WARNING: Maximum number of iterations 10000 reached. The mean may be inaccurate\n"
     ]
    },
    {
     "name": "stdout",
     "output_type": "stream",
     "text": [
      "time for iteration: 37.694392919540405\n",
      "448\n",
      "time for iteration: 27.336811542510986\n",
      "449\n",
      "time for iteration: 27.28811812400818\n",
      "450\n"
     ]
    },
    {
     "name": "stderr",
     "output_type": "stream",
     "text": [
      "WARNING: Maximum number of iterations 10000 reached. The mean may be inaccurate\n"
     ]
    },
    {
     "name": "stdout",
     "output_type": "stream",
     "text": [
      "time for iteration: 42.810447216033936\n",
      "451\n"
     ]
    },
    {
     "name": "stderr",
     "output_type": "stream",
     "text": [
      "WARNING: Maximum number of iterations 10000 reached. The mean may be inaccurate\n"
     ]
    },
    {
     "name": "stdout",
     "output_type": "stream",
     "text": [
      "time for iteration: 44.68035912513733\n",
      "452\n"
     ]
    },
    {
     "name": "stderr",
     "output_type": "stream",
     "text": [
      "WARNING: Maximum number of iterations 10000 reached. The mean may be inaccurate\n"
     ]
    },
    {
     "name": "stdout",
     "output_type": "stream",
     "text": [
      "time for iteration: 59.07200026512146\n",
      "453\n"
     ]
    },
    {
     "name": "stderr",
     "output_type": "stream",
     "text": [
      "WARNING: Maximum number of iterations 10000 reached. The mean may be inaccurate\n"
     ]
    },
    {
     "name": "stdout",
     "output_type": "stream",
     "text": [
      "time for iteration: 60.29036331176758\n",
      "454\n",
      "time for iteration: 27.498550415039062\n",
      "455\n",
      "time for iteration: 28.961553812026978\n",
      "456\n",
      "time for iteration: 30.97644305229187\n",
      "457\n",
      "time for iteration: 29.10255455970764\n",
      "458\n",
      "time for iteration: 42.05449819564819\n",
      "459\n",
      "time for iteration: 28.771631956100464\n",
      "460\n",
      "time for iteration: 47.93997597694397\n",
      "461\n",
      "time for iteration: 30.593634605407715\n",
      "462\n",
      "time for iteration: 36.97335243225098\n",
      "463\n"
     ]
    },
    {
     "name": "stderr",
     "output_type": "stream",
     "text": [
      "WARNING: Maximum number of iterations 10000 reached. The mean may be inaccurate\n"
     ]
    },
    {
     "name": "stdout",
     "output_type": "stream",
     "text": [
      "time for iteration: 49.08702778816223\n",
      "464\n"
     ]
    },
    {
     "name": "stderr",
     "output_type": "stream",
     "text": [
      "WARNING: Maximum number of iterations 10000 reached. The mean may be inaccurate\n"
     ]
    },
    {
     "name": "stdout",
     "output_type": "stream",
     "text": [
      "time for iteration: 35.488858222961426\n",
      "465\n"
     ]
    },
    {
     "name": "stderr",
     "output_type": "stream",
     "text": [
      "WARNING: Maximum number of iterations 10000 reached. The mean may be inaccurate\n"
     ]
    },
    {
     "name": "stdout",
     "output_type": "stream",
     "text": [
      "time for iteration: 48.27569580078125\n",
      "466\n",
      "time for iteration: 37.63929533958435\n",
      "467\n",
      "time for iteration: 29.021883010864258\n",
      "468\n"
     ]
    },
    {
     "name": "stderr",
     "output_type": "stream",
     "text": [
      "WARNING: Maximum number of iterations 10000 reached. The mean may be inaccurate\n"
     ]
    },
    {
     "name": "stdout",
     "output_type": "stream",
     "text": [
      "time for iteration: 36.37153124809265\n",
      "469\n"
     ]
    },
    {
     "name": "stderr",
     "output_type": "stream",
     "text": [
      "WARNING: Maximum number of iterations 10000 reached. The mean may be inaccurate\n"
     ]
    },
    {
     "name": "stdout",
     "output_type": "stream",
     "text": [
      "time for iteration: 43.41507601737976\n",
      "470\n",
      "time for iteration: 28.546032428741455\n",
      "471\n",
      "time for iteration: 31.191049337387085\n",
      "472\n",
      "time for iteration: 27.98241877555847\n",
      "473\n",
      "time for iteration: 28.221367120742798\n",
      "474\n"
     ]
    },
    {
     "name": "stderr",
     "output_type": "stream",
     "text": [
      "WARNING: Maximum number of iterations 10000 reached. The mean may be inaccurate\n"
     ]
    },
    {
     "name": "stdout",
     "output_type": "stream",
     "text": [
      "time for iteration: 51.97569441795349\n",
      "475\n",
      "time for iteration: 36.86624503135681\n",
      "476\n",
      "time for iteration: 27.434298753738403\n",
      "477\n",
      "time for iteration: 27.96137523651123\n",
      "478\n"
     ]
    },
    {
     "name": "stderr",
     "output_type": "stream",
     "text": [
      "WARNING: Maximum number of iterations 10000 reached. The mean may be inaccurate\n"
     ]
    },
    {
     "name": "stdout",
     "output_type": "stream",
     "text": [
      "time for iteration: 49.99643301963806\n",
      "479\n",
      "time for iteration: 28.9301917552948\n",
      "480\n",
      "time for iteration: 43.02378964424133\n",
      "481\n",
      "time for iteration: 61.4239182472229\n",
      "482\n"
     ]
    },
    {
     "name": "stderr",
     "output_type": "stream",
     "text": [
      "WARNING: Maximum number of iterations 10000 reached. The mean may be inaccurate\n"
     ]
    },
    {
     "name": "stdout",
     "output_type": "stream",
     "text": [
      "time for iteration: 36.23115038871765\n",
      "483\n",
      "time for iteration: 47.45732760429382\n",
      "484\n",
      "time for iteration: 29.901514053344727\n",
      "485\n"
     ]
    },
    {
     "name": "stderr",
     "output_type": "stream",
     "text": [
      "WARNING: Maximum number of iterations 10000 reached. The mean may be inaccurate\n"
     ]
    },
    {
     "name": "stdout",
     "output_type": "stream",
     "text": [
      "time for iteration: 55.5333297252655\n",
      "486\n"
     ]
    },
    {
     "name": "stderr",
     "output_type": "stream",
     "text": [
      "WARNING: Maximum number of iterations 10000 reached. The mean may be inaccurate\n"
     ]
    },
    {
     "name": "stdout",
     "output_type": "stream",
     "text": [
      "time for iteration: 51.704792976379395\n",
      "487\n",
      "time for iteration: 30.80938744544983\n",
      "488\n",
      "time for iteration: 46.06633901596069\n",
      "489\n",
      "time for iteration: 41.96332502365112\n",
      "490\n"
     ]
    },
    {
     "name": "stderr",
     "output_type": "stream",
     "text": [
      "WARNING: Maximum number of iterations 10000 reached. The mean may be inaccurate\n"
     ]
    },
    {
     "name": "stdout",
     "output_type": "stream",
     "text": [
      "time for iteration: 44.36056590080261\n",
      "491\n"
     ]
    },
    {
     "name": "stderr",
     "output_type": "stream",
     "text": [
      "WARNING: Maximum number of iterations 10000 reached. The mean may be inaccurate\n"
     ]
    },
    {
     "name": "stdout",
     "output_type": "stream",
     "text": [
      "time for iteration: 35.01163840293884\n",
      "492\n",
      "time for iteration: 29.383606433868408\n",
      "493\n"
     ]
    },
    {
     "name": "stderr",
     "output_type": "stream",
     "text": [
      "WARNING: Maximum number of iterations 10000 reached. The mean may be inaccurate\n"
     ]
    },
    {
     "name": "stdout",
     "output_type": "stream",
     "text": [
      "time for iteration: 111.37177968025208\n",
      "494\n",
      "time for iteration: 27.443406105041504\n",
      "495\n",
      "time for iteration: 71.61737561225891\n",
      "496\n",
      "time for iteration: 40.59807729721069\n",
      "497\n"
     ]
    },
    {
     "name": "stderr",
     "output_type": "stream",
     "text": [
      "WARNING: Maximum number of iterations 10000 reached. The mean may be inaccurate\n"
     ]
    },
    {
     "name": "stdout",
     "output_type": "stream",
     "text": [
      "time for iteration: 56.57940149307251\n",
      "498\n"
     ]
    },
    {
     "name": "stderr",
     "output_type": "stream",
     "text": [
      "WARNING: Maximum number of iterations 10000 reached. The mean may be inaccurate\n"
     ]
    },
    {
     "name": "stdout",
     "output_type": "stream",
     "text": [
      "time for iteration: 47.21864199638367\n",
      "499\n",
      "time for iteration: 28.618774890899658\n",
      "500\n",
      "time for iteration: 34.151413440704346\n",
      "501\n"
     ]
    },
    {
     "name": "stderr",
     "output_type": "stream",
     "text": [
      "WARNING: Maximum number of iterations 10000 reached. The mean may be inaccurate\n"
     ]
    },
    {
     "name": "stdout",
     "output_type": "stream",
     "text": [
      "time for iteration: 50.04084229469299\n",
      "502\n",
      "time for iteration: 30.488351583480835\n",
      "503\n",
      "time for iteration: 87.19154715538025\n",
      "504\n",
      "time for iteration: 30.297372102737427\n",
      "505\n"
     ]
    },
    {
     "name": "stderr",
     "output_type": "stream",
     "text": [
      "WARNING: Maximum number of iterations 10000 reached. The mean may be inaccurate\n"
     ]
    },
    {
     "name": "stdout",
     "output_type": "stream",
     "text": [
      "time for iteration: 36.40448021888733\n",
      "506\n"
     ]
    },
    {
     "name": "stderr",
     "output_type": "stream",
     "text": [
      "WARNING: Maximum number of iterations 10000 reached. The mean may be inaccurate\n"
     ]
    },
    {
     "name": "stdout",
     "output_type": "stream",
     "text": [
      "time for iteration: 62.416239976882935\n",
      "507\n",
      "time for iteration: 28.38084626197815\n",
      "508\n",
      "time for iteration: 44.43324065208435\n",
      "509\n",
      "time for iteration: 29.964882373809814\n",
      "510\n",
      "time for iteration: 38.814868688583374\n",
      "511\n"
     ]
    },
    {
     "name": "stderr",
     "output_type": "stream",
     "text": [
      "WARNING: Maximum number of iterations 10000 reached. The mean may be inaccurate\n"
     ]
    },
    {
     "name": "stdout",
     "output_type": "stream",
     "text": [
      "time for iteration: 39.04952907562256\n",
      "512\n",
      "time for iteration: 28.88161563873291\n",
      "513\n"
     ]
    },
    {
     "name": "stderr",
     "output_type": "stream",
     "text": [
      "WARNING: Maximum number of iterations 10000 reached. The mean may be inaccurate\n"
     ]
    },
    {
     "name": "stdout",
     "output_type": "stream",
     "text": [
      "time for iteration: 58.281336307525635\n",
      "514\n"
     ]
    },
    {
     "name": "stderr",
     "output_type": "stream",
     "text": [
      "WARNING: Maximum number of iterations 10000 reached. The mean may be inaccurate\n"
     ]
    },
    {
     "name": "stdout",
     "output_type": "stream",
     "text": [
      "time for iteration: 42.767903566360474\n",
      "515\n"
     ]
    },
    {
     "name": "stderr",
     "output_type": "stream",
     "text": [
      "WARNING: Maximum number of iterations 10000 reached. The mean may be inaccurate\n"
     ]
    },
    {
     "name": "stdout",
     "output_type": "stream",
     "text": [
      "time for iteration: 44.9926483631134\n",
      "516\n"
     ]
    },
    {
     "name": "stderr",
     "output_type": "stream",
     "text": [
      "WARNING: Maximum number of iterations 10000 reached. The mean may be inaccurate\n"
     ]
    },
    {
     "name": "stdout",
     "output_type": "stream",
     "text": [
      "time for iteration: 45.315852642059326\n",
      "517\n",
      "time for iteration: 27.299770832061768\n",
      "518\n",
      "time for iteration: 27.21864652633667\n",
      "519\n",
      "time for iteration: 27.787333488464355\n",
      "520\n"
     ]
    },
    {
     "name": "stderr",
     "output_type": "stream",
     "text": [
      "WARNING: Maximum number of iterations 10000 reached. The mean may be inaccurate\n"
     ]
    },
    {
     "name": "stdout",
     "output_type": "stream",
     "text": [
      "time for iteration: 46.31682062149048\n",
      "521\n",
      "time for iteration: 27.509536266326904\n",
      "522\n",
      "time for iteration: 34.50927972793579\n",
      "523\n"
     ]
    },
    {
     "name": "stderr",
     "output_type": "stream",
     "text": [
      "WARNING: Maximum number of iterations 10000 reached. The mean may be inaccurate\n"
     ]
    },
    {
     "name": "stdout",
     "output_type": "stream",
     "text": [
      "time for iteration: 47.221906661987305\n",
      "524\n",
      "time for iteration: 56.11556577682495\n",
      "525\n"
     ]
    },
    {
     "name": "stderr",
     "output_type": "stream",
     "text": [
      "WARNING: Maximum number of iterations 10000 reached. The mean may be inaccurate\n"
     ]
    },
    {
     "name": "stdout",
     "output_type": "stream",
     "text": [
      "time for iteration: 66.0035662651062\n",
      "526\n",
      "time for iteration: 27.373757123947144\n",
      "527\n",
      "time for iteration: 27.572154998779297\n",
      "528\n",
      "time for iteration: 28.420716047286987\n",
      "529\n",
      "time for iteration: 27.430169820785522\n",
      "530\n",
      "time for iteration: 44.257965087890625\n",
      "531\n"
     ]
    },
    {
     "name": "stderr",
     "output_type": "stream",
     "text": [
      "WARNING: Maximum number of iterations 10000 reached. The mean may be inaccurate\n"
     ]
    },
    {
     "name": "stdout",
     "output_type": "stream",
     "text": [
      "time for iteration: 37.567405462265015\n",
      "532\n",
      "time for iteration: 27.266271352767944\n",
      "533\n",
      "time for iteration: 43.11756229400635\n",
      "534\n"
     ]
    },
    {
     "name": "stderr",
     "output_type": "stream",
     "text": [
      "WARNING: Maximum number of iterations 10000 reached. The mean may be inaccurate\n"
     ]
    },
    {
     "name": "stdout",
     "output_type": "stream",
     "text": [
      "time for iteration: 37.138580560684204\n",
      "535\n",
      "time for iteration: 41.54235219955444\n",
      "536\n",
      "time for iteration: 44.04273295402527\n",
      "537\n"
     ]
    },
    {
     "name": "stderr",
     "output_type": "stream",
     "text": [
      "WARNING: Maximum number of iterations 10000 reached. The mean may be inaccurate\n"
     ]
    },
    {
     "name": "stdout",
     "output_type": "stream",
     "text": [
      "time for iteration: 51.0284059047699\n",
      "538\n",
      "time for iteration: 27.297380685806274\n",
      "539\n",
      "time for iteration: 27.418971061706543\n",
      "540\n"
     ]
    },
    {
     "name": "stderr",
     "output_type": "stream",
     "text": [
      "WARNING: Maximum number of iterations 10000 reached. The mean may be inaccurate\n"
     ]
    },
    {
     "name": "stdout",
     "output_type": "stream",
     "text": [
      "time for iteration: 53.86040496826172\n",
      "541\n"
     ]
    },
    {
     "name": "stderr",
     "output_type": "stream",
     "text": [
      "WARNING: Maximum number of iterations 10000 reached. The mean may be inaccurate\n"
     ]
    },
    {
     "name": "stdout",
     "output_type": "stream",
     "text": [
      "time for iteration: 48.00202035903931\n",
      "542\n",
      "time for iteration: 27.43911576271057\n",
      "543\n"
     ]
    },
    {
     "name": "stderr",
     "output_type": "stream",
     "text": [
      "WARNING: Maximum number of iterations 10000 reached. The mean may be inaccurate\n"
     ]
    },
    {
     "name": "stdout",
     "output_type": "stream",
     "text": [
      "time for iteration: 48.14871287345886\n",
      "544\n",
      "time for iteration: 29.342108249664307\n",
      "545\n"
     ]
    },
    {
     "name": "stderr",
     "output_type": "stream",
     "text": [
      "WARNING: Maximum number of iterations 10000 reached. The mean may be inaccurate\n"
     ]
    },
    {
     "name": "stdout",
     "output_type": "stream",
     "text": [
      "time for iteration: 53.99595332145691\n",
      "546\n"
     ]
    },
    {
     "name": "stderr",
     "output_type": "stream",
     "text": [
      "WARNING: Maximum number of iterations 10000 reached. The mean may be inaccurate\n"
     ]
    },
    {
     "name": "stdout",
     "output_type": "stream",
     "text": [
      "time for iteration: 42.91206979751587\n",
      "547\n"
     ]
    },
    {
     "name": "stderr",
     "output_type": "stream",
     "text": [
      "WARNING: Maximum number of iterations 10000 reached. The mean may be inaccurate\n"
     ]
    },
    {
     "name": "stdout",
     "output_type": "stream",
     "text": [
      "time for iteration: 50.65074634552002\n",
      "548\n",
      "time for iteration: 28.401373863220215\n",
      "549\n",
      "time for iteration: 43.5154185295105\n",
      "550\n",
      "time for iteration: 39.65932893753052\n",
      "551\n",
      "time for iteration: 27.194047689437866\n",
      "552\n"
     ]
    },
    {
     "name": "stderr",
     "output_type": "stream",
     "text": [
      "WARNING: Maximum number of iterations 10000 reached. The mean may be inaccurate\n"
     ]
    },
    {
     "name": "stdout",
     "output_type": "stream",
     "text": [
      "time for iteration: 47.43200325965881\n",
      "553\n",
      "time for iteration: 39.054064989089966\n",
      "554\n",
      "time for iteration: 30.073509216308594\n",
      "555\n",
      "time for iteration: 28.900580167770386\n",
      "556\n",
      "time for iteration: 39.54593873023987\n",
      "557\n",
      "time for iteration: 28.404646158218384\n",
      "558\n"
     ]
    },
    {
     "name": "stderr",
     "output_type": "stream",
     "text": [
      "WARNING: Maximum number of iterations 10000 reached. The mean may be inaccurate\n"
     ]
    },
    {
     "name": "stdout",
     "output_type": "stream",
     "text": [
      "time for iteration: 36.224822998046875\n",
      "559\n",
      "time for iteration: 52.417677879333496\n",
      "560\n"
     ]
    },
    {
     "name": "stderr",
     "output_type": "stream",
     "text": [
      "WARNING: Maximum number of iterations 10000 reached. The mean may be inaccurate\n"
     ]
    },
    {
     "name": "stdout",
     "output_type": "stream",
     "text": [
      "time for iteration: 70.08527541160583\n",
      "561\n"
     ]
    },
    {
     "name": "stderr",
     "output_type": "stream",
     "text": [
      "WARNING: Maximum number of iterations 10000 reached. The mean may be inaccurate\n"
     ]
    },
    {
     "name": "stdout",
     "output_type": "stream",
     "text": [
      "time for iteration: 50.20537090301514\n",
      "562\n",
      "time for iteration: 28.925013303756714\n",
      "563\n"
     ]
    },
    {
     "name": "stderr",
     "output_type": "stream",
     "text": [
      "WARNING: Maximum number of iterations 10000 reached. The mean may be inaccurate\n"
     ]
    },
    {
     "name": "stdout",
     "output_type": "stream",
     "text": [
      "time for iteration: 43.24668502807617\n",
      "564\n"
     ]
    },
    {
     "name": "stderr",
     "output_type": "stream",
     "text": [
      "WARNING: Maximum number of iterations 10000 reached. The mean may be inaccurate\n"
     ]
    },
    {
     "name": "stdout",
     "output_type": "stream",
     "text": [
      "time for iteration: 36.61393356323242\n",
      "565\n",
      "time for iteration: 27.532426118850708\n",
      "566\n"
     ]
    },
    {
     "name": "stderr",
     "output_type": "stream",
     "text": [
      "WARNING: Maximum number of iterations 10000 reached. The mean may be inaccurate\n"
     ]
    },
    {
     "name": "stdout",
     "output_type": "stream",
     "text": [
      "time for iteration: 71.94494795799255\n",
      "567\n"
     ]
    },
    {
     "name": "stderr",
     "output_type": "stream",
     "text": [
      "WARNING: Maximum number of iterations 10000 reached. The mean may be inaccurate\n"
     ]
    },
    {
     "name": "stdout",
     "output_type": "stream",
     "text": [
      "time for iteration: 36.744600772857666\n",
      "568\n"
     ]
    },
    {
     "name": "stderr",
     "output_type": "stream",
     "text": [
      "WARNING: Maximum number of iterations 10000 reached. The mean may be inaccurate\n"
     ]
    },
    {
     "name": "stdout",
     "output_type": "stream",
     "text": [
      "time for iteration: 52.85098671913147\n",
      "569\n"
     ]
    },
    {
     "name": "stderr",
     "output_type": "stream",
     "text": [
      "WARNING: Maximum number of iterations 10000 reached. The mean may be inaccurate\n"
     ]
    },
    {
     "name": "stdout",
     "output_type": "stream",
     "text": [
      "time for iteration: 44.057732343673706\n",
      "570\n",
      "time for iteration: 27.480116367340088\n",
      "571\n",
      "time for iteration: 39.311169147491455\n",
      "572\n"
     ]
    },
    {
     "name": "stderr",
     "output_type": "stream",
     "text": [
      "WARNING: Maximum number of iterations 10000 reached. The mean may be inaccurate\n"
     ]
    },
    {
     "name": "stdout",
     "output_type": "stream",
     "text": [
      "time for iteration: 51.48726749420166\n",
      "573\n",
      "time for iteration: 29.06308341026306\n",
      "574\n",
      "time for iteration: 33.75501608848572\n",
      "575\n"
     ]
    },
    {
     "name": "stderr",
     "output_type": "stream",
     "text": [
      "WARNING: Maximum number of iterations 10000 reached. The mean may be inaccurate\n"
     ]
    },
    {
     "name": "stdout",
     "output_type": "stream",
     "text": [
      "time for iteration: 50.530035972595215\n",
      "576\n",
      "time for iteration: 83.51702547073364\n",
      "577\n",
      "time for iteration: 68.75139141082764\n",
      "578\n",
      "time for iteration: 30.726450443267822\n",
      "579\n",
      "time for iteration: 42.22073316574097\n",
      "580\n"
     ]
    },
    {
     "name": "stderr",
     "output_type": "stream",
     "text": [
      "WARNING: Maximum number of iterations 10000 reached. The mean may be inaccurate\n"
     ]
    },
    {
     "name": "stdout",
     "output_type": "stream",
     "text": [
      "time for iteration: 36.518999338150024\n",
      "581\n"
     ]
    },
    {
     "name": "stderr",
     "output_type": "stream",
     "text": [
      "WARNING: Maximum number of iterations 10000 reached. The mean may be inaccurate\n"
     ]
    },
    {
     "name": "stdout",
     "output_type": "stream",
     "text": [
      "time for iteration: 52.099616289138794\n",
      "582\n"
     ]
    },
    {
     "name": "stderr",
     "output_type": "stream",
     "text": [
      "WARNING: Maximum number of iterations 10000 reached. The mean may be inaccurate\n"
     ]
    },
    {
     "name": "stdout",
     "output_type": "stream",
     "text": [
      "time for iteration: 49.32598376274109\n",
      "583\n",
      "time for iteration: 27.21203899383545\n",
      "584\n"
     ]
    },
    {
     "name": "stderr",
     "output_type": "stream",
     "text": [
      "WARNING: Maximum number of iterations 10000 reached. The mean may be inaccurate\n"
     ]
    },
    {
     "name": "stdout",
     "output_type": "stream",
     "text": [
      "time for iteration: 49.30405807495117\n",
      "585\n",
      "time for iteration: 40.39768958091736\n",
      "586\n"
     ]
    },
    {
     "name": "stderr",
     "output_type": "stream",
     "text": [
      "WARNING: Maximum number of iterations 10000 reached. The mean may be inaccurate\n"
     ]
    },
    {
     "name": "stdout",
     "output_type": "stream",
     "text": [
      "time for iteration: 50.112075328826904\n",
      "587\n",
      "time for iteration: 29.06910729408264\n",
      "588\n"
     ]
    },
    {
     "name": "stderr",
     "output_type": "stream",
     "text": [
      "WARNING: Maximum number of iterations 10000 reached. The mean may be inaccurate\n"
     ]
    },
    {
     "name": "stdout",
     "output_type": "stream",
     "text": [
      "time for iteration: 43.75283432006836\n",
      "589\n",
      "time for iteration: 30.490135669708252\n",
      "590\n",
      "time for iteration: 28.874682426452637\n",
      "591\n",
      "time for iteration: 53.05639672279358\n",
      "592\n"
     ]
    },
    {
     "name": "stderr",
     "output_type": "stream",
     "text": [
      "WARNING: Maximum number of iterations 10000 reached. The mean may be inaccurate\n"
     ]
    },
    {
     "name": "stdout",
     "output_type": "stream",
     "text": [
      "time for iteration: 50.41487145423889\n",
      "593\n",
      "time for iteration: 29.00823187828064\n",
      "594\n",
      "time for iteration: 41.954079389572144\n",
      "595\n"
     ]
    },
    {
     "name": "stderr",
     "output_type": "stream",
     "text": [
      "WARNING: Maximum number of iterations 10000 reached. The mean may be inaccurate\n"
     ]
    },
    {
     "name": "stdout",
     "output_type": "stream",
     "text": [
      "time for iteration: 37.78130030632019\n",
      "596\n",
      "time for iteration: 35.8553786277771\n",
      "597\n"
     ]
    },
    {
     "name": "stderr",
     "output_type": "stream",
     "text": [
      "WARNING: Maximum number of iterations 10000 reached. The mean may be inaccurate\n"
     ]
    },
    {
     "name": "stdout",
     "output_type": "stream",
     "text": [
      "time for iteration: 34.91641187667847\n",
      "598\n",
      "time for iteration: 28.981719970703125\n",
      "599\n",
      "time for iteration: 64.85668230056763\n",
      "600\n",
      "time for iteration: 27.81395673751831\n",
      "601\n",
      "time for iteration: 28.662738800048828\n",
      "602\n",
      "time for iteration: 28.674538135528564\n",
      "603\n"
     ]
    },
    {
     "name": "stderr",
     "output_type": "stream",
     "text": [
      "WARNING: Maximum number of iterations 10000 reached. The mean may be inaccurate\n"
     ]
    },
    {
     "name": "stdout",
     "output_type": "stream",
     "text": [
      "time for iteration: 44.31396794319153\n",
      "604\n",
      "time for iteration: 71.86277222633362\n",
      "605\n"
     ]
    },
    {
     "name": "stderr",
     "output_type": "stream",
     "text": [
      "WARNING: Maximum number of iterations 10000 reached. The mean may be inaccurate\n"
     ]
    },
    {
     "name": "stdout",
     "output_type": "stream",
     "text": [
      "time for iteration: 45.46079969406128\n",
      "606\n",
      "time for iteration: 34.74603319168091\n",
      "607\n"
     ]
    },
    {
     "name": "stderr",
     "output_type": "stream",
     "text": [
      "WARNING: Maximum number of iterations 10000 reached. The mean may be inaccurate\n"
     ]
    },
    {
     "name": "stdout",
     "output_type": "stream",
     "text": [
      "time for iteration: 49.334919691085815\n",
      "608\n",
      "time for iteration: 29.699692964553833\n",
      "609\n",
      "time for iteration: 29.368603706359863\n",
      "610\n",
      "time for iteration: 39.962867975234985\n",
      "611\n",
      "time for iteration: 30.722384214401245\n",
      "612\n",
      "time for iteration: 27.35360050201416\n",
      "613\n",
      "time for iteration: 51.49621319770813\n",
      "614\n",
      "time for iteration: 29.149505615234375\n",
      "615\n"
     ]
    },
    {
     "name": "stderr",
     "output_type": "stream",
     "text": [
      "WARNING: Maximum number of iterations 10000 reached. The mean may be inaccurate\n"
     ]
    },
    {
     "name": "stdout",
     "output_type": "stream",
     "text": [
      "time for iteration: 51.83052682876587\n",
      "616\n"
     ]
    },
    {
     "name": "stderr",
     "output_type": "stream",
     "text": [
      "WARNING: Maximum number of iterations 10000 reached. The mean may be inaccurate\n"
     ]
    },
    {
     "name": "stdout",
     "output_type": "stream",
     "text": [
      "time for iteration: 70.8940680027008\n",
      "617\n"
     ]
    },
    {
     "name": "stderr",
     "output_type": "stream",
     "text": [
      "WARNING: Maximum number of iterations 10000 reached. The mean may be inaccurate\n"
     ]
    },
    {
     "name": "stdout",
     "output_type": "stream",
     "text": [
      "time for iteration: 53.06706428527832\n",
      "618\n",
      "time for iteration: 70.2970130443573\n",
      "619\n"
     ]
    },
    {
     "name": "stderr",
     "output_type": "stream",
     "text": [
      "WARNING: Maximum number of iterations 10000 reached. The mean may be inaccurate\n"
     ]
    },
    {
     "name": "stdout",
     "output_type": "stream",
     "text": [
      "time for iteration: 45.17680335044861\n",
      "620\n",
      "time for iteration: 27.496203899383545\n",
      "621\n",
      "time for iteration: 28.59740376472473\n",
      "622\n",
      "time for iteration: 40.44900727272034\n",
      "623\n",
      "time for iteration: 61.01128387451172\n",
      "624\n"
     ]
    },
    {
     "name": "stderr",
     "output_type": "stream",
     "text": [
      "WARNING: Maximum number of iterations 10000 reached. The mean may be inaccurate\n"
     ]
    },
    {
     "name": "stdout",
     "output_type": "stream",
     "text": [
      "time for iteration: 41.885512590408325\n",
      "625\n",
      "time for iteration: 28.125762701034546\n",
      "626\n"
     ]
    },
    {
     "name": "stderr",
     "output_type": "stream",
     "text": [
      "WARNING: Maximum number of iterations 10000 reached. The mean may be inaccurate\n"
     ]
    },
    {
     "name": "stdout",
     "output_type": "stream",
     "text": [
      "time for iteration: 50.747761487960815\n",
      "627\n",
      "time for iteration: 27.116594076156616\n",
      "628\n"
     ]
    },
    {
     "name": "stderr",
     "output_type": "stream",
     "text": [
      "WARNING: Maximum number of iterations 10000 reached. The mean may be inaccurate\n"
     ]
    },
    {
     "name": "stdout",
     "output_type": "stream",
     "text": [
      "time for iteration: 77.07079410552979\n",
      "629\n"
     ]
    },
    {
     "name": "stderr",
     "output_type": "stream",
     "text": [
      "WARNING: Maximum number of iterations 10000 reached. The mean may be inaccurate\n"
     ]
    },
    {
     "name": "stdout",
     "output_type": "stream",
     "text": [
      "time for iteration: 36.24899125099182\n",
      "630\n",
      "time for iteration: 27.16447639465332\n",
      "631\n",
      "time for iteration: 79.26231813430786\n",
      "632\n"
     ]
    },
    {
     "name": "stderr",
     "output_type": "stream",
     "text": [
      "WARNING: Maximum number of iterations 10000 reached. The mean may be inaccurate\n"
     ]
    },
    {
     "name": "stdout",
     "output_type": "stream",
     "text": [
      "time for iteration: 51.55620527267456\n",
      "633\n",
      "time for iteration: 29.811862230300903\n",
      "634\n",
      "time for iteration: 27.627773761749268\n",
      "635\n"
     ]
    },
    {
     "name": "stderr",
     "output_type": "stream",
     "text": [
      "WARNING: Maximum number of iterations 10000 reached. The mean may be inaccurate\n"
     ]
    },
    {
     "name": "stdout",
     "output_type": "stream",
     "text": [
      "time for iteration: 77.0045907497406\n",
      "636\n",
      "time for iteration: 30.24480390548706\n",
      "637\n",
      "time for iteration: 31.049368381500244\n",
      "638\n",
      "time for iteration: 28.2089262008667\n",
      "639\n",
      "time for iteration: 27.057496786117554\n",
      "640\n",
      "time for iteration: 27.1020610332489\n",
      "641\n",
      "time for iteration: 34.99769186973572\n",
      "642\n",
      "time for iteration: 39.224058628082275\n",
      "643\n",
      "time for iteration: 36.247374534606934\n",
      "644\n"
     ]
    },
    {
     "name": "stderr",
     "output_type": "stream",
     "text": [
      "WARNING: Maximum number of iterations 10000 reached. The mean may be inaccurate\n"
     ]
    },
    {
     "name": "stdout",
     "output_type": "stream",
     "text": [
      "time for iteration: 51.027676582336426\n",
      "645\n",
      "time for iteration: 28.84723138809204\n",
      "646\n"
     ]
    },
    {
     "name": "stderr",
     "output_type": "stream",
     "text": [
      "WARNING: Maximum number of iterations 10000 reached. The mean may be inaccurate\n"
     ]
    },
    {
     "name": "stdout",
     "output_type": "stream",
     "text": [
      "time for iteration: 46.13223171234131\n",
      "647\n",
      "time for iteration: 45.65464401245117\n",
      "648\n",
      "time for iteration: 27.35222578048706\n",
      "649\n"
     ]
    },
    {
     "name": "stderr",
     "output_type": "stream",
     "text": [
      "WARNING: Maximum number of iterations 10000 reached. The mean may be inaccurate\n"
     ]
    },
    {
     "name": "stdout",
     "output_type": "stream",
     "text": [
      "time for iteration: 49.861154317855835\n",
      "650\n"
     ]
    },
    {
     "name": "stderr",
     "output_type": "stream",
     "text": [
      "WARNING: Maximum number of iterations 10000 reached. The mean may be inaccurate\n"
     ]
    },
    {
     "name": "stdout",
     "output_type": "stream",
     "text": [
      "time for iteration: 37.62009620666504\n",
      "651\n"
     ]
    },
    {
     "name": "stderr",
     "output_type": "stream",
     "text": [
      "WARNING: Maximum number of iterations 10000 reached. The mean may be inaccurate\n"
     ]
    },
    {
     "name": "stdout",
     "output_type": "stream",
     "text": [
      "time for iteration: 35.024795055389404\n",
      "652\n",
      "time for iteration: 51.815317153930664\n",
      "653\n",
      "time for iteration: 27.478830337524414\n",
      "654\n",
      "time for iteration: 29.389710187911987\n",
      "655\n",
      "time for iteration: 30.053869247436523\n",
      "656\n",
      "time for iteration: 37.05542731285095\n",
      "657\n"
     ]
    },
    {
     "name": "stderr",
     "output_type": "stream",
     "text": [
      "WARNING: Maximum number of iterations 10000 reached. The mean may be inaccurate\n"
     ]
    },
    {
     "name": "stdout",
     "output_type": "stream",
     "text": [
      "time for iteration: 66.83036947250366\n",
      "658\n"
     ]
    },
    {
     "name": "stderr",
     "output_type": "stream",
     "text": [
      "WARNING: Maximum number of iterations 10000 reached. The mean may be inaccurate\n"
     ]
    },
    {
     "name": "stdout",
     "output_type": "stream",
     "text": [
      "time for iteration: 36.406744718551636\n",
      "659\n",
      "time for iteration: 27.468809127807617\n",
      "660\n"
     ]
    },
    {
     "name": "stderr",
     "output_type": "stream",
     "text": [
      "WARNING: Maximum number of iterations 10000 reached. The mean may be inaccurate\n"
     ]
    },
    {
     "name": "stdout",
     "output_type": "stream",
     "text": [
      "time for iteration: 35.921860694885254\n",
      "661\n",
      "time for iteration: 27.389513731002808\n",
      "662\n",
      "time for iteration: 30.922175884246826\n",
      "663\n",
      "time for iteration: 36.267239809036255\n",
      "664\n"
     ]
    },
    {
     "name": "stderr",
     "output_type": "stream",
     "text": [
      "WARNING: Maximum number of iterations 10000 reached. The mean may be inaccurate\n"
     ]
    },
    {
     "name": "stdout",
     "output_type": "stream",
     "text": [
      "time for iteration: 36.02467226982117\n",
      "665\n",
      "time for iteration: 38.81358194351196\n",
      "666\n"
     ]
    },
    {
     "name": "stderr",
     "output_type": "stream",
     "text": [
      "WARNING: Maximum number of iterations 10000 reached. The mean may be inaccurate\n"
     ]
    },
    {
     "name": "stdout",
     "output_type": "stream",
     "text": [
      "time for iteration: 43.28546333312988\n",
      "667\n"
     ]
    },
    {
     "name": "stderr",
     "output_type": "stream",
     "text": [
      "WARNING: Maximum number of iterations 10000 reached. The mean may be inaccurate\n"
     ]
    },
    {
     "name": "stdout",
     "output_type": "stream",
     "text": [
      "time for iteration: 35.137269020080566\n",
      "668\n",
      "time for iteration: 70.23352336883545\n",
      "669\n",
      "time for iteration: 38.92845320701599\n",
      "670\n",
      "time for iteration: 41.58966422080994\n",
      "671\n"
     ]
    },
    {
     "name": "stderr",
     "output_type": "stream",
     "text": [
      "WARNING: Maximum number of iterations 10000 reached. The mean may be inaccurate\n"
     ]
    },
    {
     "name": "stdout",
     "output_type": "stream",
     "text": [
      "time for iteration: 34.54940152168274\n",
      "672\n"
     ]
    },
    {
     "name": "stderr",
     "output_type": "stream",
     "text": [
      "WARNING: Maximum number of iterations 10000 reached. The mean may be inaccurate\n"
     ]
    },
    {
     "name": "stdout",
     "output_type": "stream",
     "text": [
      "time for iteration: 40.77679944038391\n",
      "673\n",
      "time for iteration: 43.08530139923096\n",
      "674\n",
      "time for iteration: 27.99277973175049\n",
      "675\n",
      "time for iteration: 27.284634351730347\n",
      "676\n"
     ]
    },
    {
     "name": "stderr",
     "output_type": "stream",
     "text": [
      "WARNING: Maximum number of iterations 10000 reached. The mean may be inaccurate\n"
     ]
    },
    {
     "name": "stdout",
     "output_type": "stream",
     "text": [
      "time for iteration: 51.33675241470337\n",
      "677\n",
      "time for iteration: 30.18099594116211\n",
      "678\n"
     ]
    },
    {
     "name": "stderr",
     "output_type": "stream",
     "text": [
      "WARNING: Maximum number of iterations 10000 reached. The mean may be inaccurate\n"
     ]
    },
    {
     "name": "stdout",
     "output_type": "stream",
     "text": [
      "time for iteration: 37.024943113327026\n",
      "679\n",
      "time for iteration: 30.850305557250977\n",
      "680\n"
     ]
    },
    {
     "name": "stderr",
     "output_type": "stream",
     "text": [
      "WARNING: Maximum number of iterations 10000 reached. The mean may be inaccurate\n"
     ]
    },
    {
     "name": "stdout",
     "output_type": "stream",
     "text": [
      "time for iteration: 35.70426630973816\n",
      "681\n",
      "time for iteration: 27.365479469299316\n",
      "682\n"
     ]
    },
    {
     "name": "stderr",
     "output_type": "stream",
     "text": [
      "WARNING: Maximum number of iterations 10000 reached. The mean may be inaccurate\n"
     ]
    },
    {
     "name": "stdout",
     "output_type": "stream",
     "text": [
      "time for iteration: 35.92460656166077\n",
      "683\n",
      "time for iteration: 49.300594091415405\n",
      "684\n",
      "time for iteration: 27.22209358215332\n",
      "685\n",
      "time for iteration: 29.787673234939575\n",
      "686\n"
     ]
    },
    {
     "name": "stderr",
     "output_type": "stream",
     "text": [
      "WARNING: Maximum number of iterations 10000 reached. The mean may be inaccurate\n"
     ]
    },
    {
     "name": "stdout",
     "output_type": "stream",
     "text": [
      "time for iteration: 34.99040937423706\n",
      "687\n"
     ]
    },
    {
     "name": "stderr",
     "output_type": "stream",
     "text": [
      "WARNING: Maximum number of iterations 10000 reached. The mean may be inaccurate\n"
     ]
    },
    {
     "name": "stdout",
     "output_type": "stream",
     "text": [
      "time for iteration: 36.21218466758728\n",
      "688\n"
     ]
    },
    {
     "name": "stderr",
     "output_type": "stream",
     "text": [
      "WARNING: Maximum number of iterations 10000 reached. The mean may be inaccurate\n"
     ]
    },
    {
     "name": "stdout",
     "output_type": "stream",
     "text": [
      "time for iteration: 43.90131974220276\n",
      "689\n"
     ]
    },
    {
     "name": "stderr",
     "output_type": "stream",
     "text": [
      "WARNING: Maximum number of iterations 10000 reached. The mean may be inaccurate\n"
     ]
    },
    {
     "name": "stdout",
     "output_type": "stream",
     "text": [
      "time for iteration: 47.455920696258545\n",
      "690\n",
      "time for iteration: 30.345179080963135\n",
      "691\n",
      "time for iteration: 28.51790976524353\n",
      "692\n",
      "time for iteration: 43.78278064727783\n",
      "693\n",
      "time for iteration: 29.810524940490723\n",
      "694\n"
     ]
    },
    {
     "name": "stderr",
     "output_type": "stream",
     "text": [
      "WARNING: Maximum number of iterations 10000 reached. The mean may be inaccurate\n"
     ]
    },
    {
     "name": "stdout",
     "output_type": "stream",
     "text": [
      "time for iteration: 50.90568256378174\n",
      "695\n",
      "time for iteration: 32.80102014541626\n",
      "696\n",
      "time for iteration: 36.41293168067932\n",
      "697\n"
     ]
    },
    {
     "name": "stderr",
     "output_type": "stream",
     "text": [
      "WARNING: Maximum number of iterations 10000 reached. The mean may be inaccurate\n"
     ]
    },
    {
     "name": "stdout",
     "output_type": "stream",
     "text": [
      "time for iteration: 42.679709911346436\n",
      "698\n"
     ]
    },
    {
     "name": "stderr",
     "output_type": "stream",
     "text": [
      "WARNING: Maximum number of iterations 10000 reached. The mean may be inaccurate\n"
     ]
    },
    {
     "name": "stdout",
     "output_type": "stream",
     "text": [
      "time for iteration: 34.93146729469299\n",
      "699\n",
      "time for iteration: 30.943211317062378\n",
      "700\n",
      "time for iteration: 42.04010319709778\n",
      "701\n"
     ]
    },
    {
     "name": "stderr",
     "output_type": "stream",
     "text": [
      "WARNING: Maximum number of iterations 10000 reached. The mean may be inaccurate\n"
     ]
    },
    {
     "name": "stdout",
     "output_type": "stream",
     "text": [
      "time for iteration: 48.550397634506226\n",
      "702\n",
      "time for iteration: 28.84127950668335\n",
      "703\n",
      "time for iteration: 28.32132077217102\n",
      "704\n"
     ]
    },
    {
     "name": "stderr",
     "output_type": "stream",
     "text": [
      "WARNING: Maximum number of iterations 10000 reached. The mean may be inaccurate\n"
     ]
    },
    {
     "name": "stdout",
     "output_type": "stream",
     "text": [
      "time for iteration: 36.055811405181885\n",
      "705\n",
      "time for iteration: 27.099690675735474\n",
      "706\n"
     ]
    },
    {
     "name": "stderr",
     "output_type": "stream",
     "text": [
      "WARNING: Maximum number of iterations 10000 reached. The mean may be inaccurate\n"
     ]
    },
    {
     "name": "stdout",
     "output_type": "stream",
     "text": [
      "time for iteration: 34.968963861465454\n",
      "707\n"
     ]
    },
    {
     "name": "stderr",
     "output_type": "stream",
     "text": [
      "WARNING: Maximum number of iterations 10000 reached. The mean may be inaccurate\n"
     ]
    },
    {
     "name": "stdout",
     "output_type": "stream",
     "text": [
      "time for iteration: 35.89108848571777\n",
      "708\n",
      "time for iteration: 27.238471508026123\n",
      "709\n",
      "time for iteration: 27.094220876693726\n",
      "710\n",
      "time for iteration: 28.85285782814026\n",
      "711\n"
     ]
    },
    {
     "name": "stderr",
     "output_type": "stream",
     "text": [
      "WARNING: Maximum number of iterations 10000 reached. The mean may be inaccurate\n"
     ]
    },
    {
     "name": "stdout",
     "output_type": "stream",
     "text": [
      "time for iteration: 170.65342617034912\n",
      "712\n",
      "time for iteration: 39.1528754234314\n",
      "713\n"
     ]
    },
    {
     "name": "stderr",
     "output_type": "stream",
     "text": [
      "WARNING: Maximum number of iterations 10000 reached. The mean may be inaccurate\n"
     ]
    },
    {
     "name": "stdout",
     "output_type": "stream",
     "text": [
      "time for iteration: 47.545644760131836\n",
      "714\n",
      "time for iteration: 29.06233501434326\n",
      "715\n",
      "time for iteration: 28.716607570648193\n",
      "716\n",
      "time for iteration: 27.79957151412964\n",
      "717\n"
     ]
    },
    {
     "name": "stderr",
     "output_type": "stream",
     "text": [
      "WARNING: Maximum number of iterations 10000 reached. The mean may be inaccurate\n"
     ]
    },
    {
     "name": "stdout",
     "output_type": "stream",
     "text": [
      "time for iteration: 56.64117956161499\n",
      "718\n"
     ]
    },
    {
     "name": "stderr",
     "output_type": "stream",
     "text": [
      "WARNING: Maximum number of iterations 10000 reached. The mean may be inaccurate\n"
     ]
    },
    {
     "name": "stdout",
     "output_type": "stream",
     "text": [
      "time for iteration: 48.28082513809204\n",
      "719\n",
      "time for iteration: 28.366845846176147\n",
      "720\n"
     ]
    },
    {
     "name": "stderr",
     "output_type": "stream",
     "text": [
      "WARNING: Maximum number of iterations 10000 reached. The mean may be inaccurate\n"
     ]
    },
    {
     "name": "stdout",
     "output_type": "stream",
     "text": [
      "time for iteration: 74.94427967071533\n",
      "721\n",
      "time for iteration: 30.728660345077515\n",
      "722\n",
      "time for iteration: 65.83953976631165\n",
      "723\n",
      "time for iteration: 29.405915021896362\n",
      "724\n",
      "time for iteration: 42.78744101524353\n",
      "725\n",
      "time for iteration: 59.995437145233154\n",
      "726\n",
      "time for iteration: 28.32352590560913\n",
      "727\n"
     ]
    },
    {
     "name": "stderr",
     "output_type": "stream",
     "text": [
      "WARNING: Maximum number of iterations 10000 reached. The mean may be inaccurate\n"
     ]
    },
    {
     "name": "stdout",
     "output_type": "stream",
     "text": [
      "time for iteration: 35.350478649139404\n",
      "728\n",
      "time for iteration: 28.92411780357361\n",
      "729\n",
      "time for iteration: 29.924194812774658\n",
      "730\n",
      "time for iteration: 42.357399225234985\n",
      "731\n",
      "time for iteration: 42.18553066253662\n",
      "732\n",
      "time for iteration: 37.33260679244995\n",
      "733\n"
     ]
    },
    {
     "name": "stderr",
     "output_type": "stream",
     "text": [
      "WARNING: Maximum number of iterations 10000 reached. The mean may be inaccurate\n"
     ]
    },
    {
     "name": "stdout",
     "output_type": "stream",
     "text": [
      "time for iteration: 47.26454567909241\n",
      "734\n"
     ]
    },
    {
     "name": "stderr",
     "output_type": "stream",
     "text": [
      "WARNING: Maximum number of iterations 10000 reached. The mean may be inaccurate\n"
     ]
    },
    {
     "name": "stdout",
     "output_type": "stream",
     "text": [
      "time for iteration: 35.729100465774536\n",
      "735\n"
     ]
    },
    {
     "name": "stderr",
     "output_type": "stream",
     "text": [
      "WARNING: Maximum number of iterations 10000 reached. The mean may be inaccurate\n"
     ]
    },
    {
     "name": "stdout",
     "output_type": "stream",
     "text": [
      "time for iteration: 34.6135094165802\n",
      "736\n",
      "time for iteration: 29.89696741104126\n",
      "737\n",
      "time for iteration: 27.165024042129517\n",
      "738\n"
     ]
    },
    {
     "name": "stderr",
     "output_type": "stream",
     "text": [
      "WARNING: Maximum number of iterations 10000 reached. The mean may be inaccurate\n"
     ]
    },
    {
     "name": "stdout",
     "output_type": "stream",
     "text": [
      "time for iteration: 68.20672369003296\n",
      "739\n",
      "time for iteration: 28.27867555618286\n",
      "740\n",
      "time for iteration: 27.477160453796387\n",
      "741\n",
      "time for iteration: 28.245632648468018\n",
      "742\n",
      "time for iteration: 29.911354064941406\n",
      "743\n",
      "time for iteration: 27.560007333755493\n",
      "744\n",
      "time for iteration: 27.062317848205566\n",
      "745\n",
      "time for iteration: 41.61282563209534\n",
      "746\n"
     ]
    },
    {
     "name": "stderr",
     "output_type": "stream",
     "text": [
      "WARNING: Maximum number of iterations 10000 reached. The mean may be inaccurate\n"
     ]
    },
    {
     "name": "stdout",
     "output_type": "stream",
     "text": [
      "time for iteration: 64.49673914909363\n",
      "747\n"
     ]
    },
    {
     "name": "stderr",
     "output_type": "stream",
     "text": [
      "WARNING: Maximum number of iterations 10000 reached. The mean may be inaccurate\n"
     ]
    },
    {
     "name": "stdout",
     "output_type": "stream",
     "text": [
      "time for iteration: 35.60950231552124\n",
      "748\n"
     ]
    },
    {
     "name": "stderr",
     "output_type": "stream",
     "text": [
      "WARNING: Maximum number of iterations 10000 reached. The mean may be inaccurate\n"
     ]
    },
    {
     "name": "stdout",
     "output_type": "stream",
     "text": [
      "time for iteration: 50.58438968658447\n",
      "749\n",
      "time for iteration: 44.33410120010376\n",
      "750\n"
     ]
    },
    {
     "name": "stderr",
     "output_type": "stream",
     "text": [
      "WARNING: Maximum number of iterations 10000 reached. The mean may be inaccurate\n"
     ]
    },
    {
     "name": "stdout",
     "output_type": "stream",
     "text": [
      "time for iteration: 34.24828004837036\n",
      "751\n"
     ]
    },
    {
     "name": "stderr",
     "output_type": "stream",
     "text": [
      "WARNING: Maximum number of iterations 10000 reached. The mean may be inaccurate\n"
     ]
    },
    {
     "name": "stdout",
     "output_type": "stream",
     "text": [
      "time for iteration: 50.094277143478394\n",
      "752\n",
      "time for iteration: 29.686079740524292\n",
      "753\n",
      "time for iteration: 98.29975032806396\n",
      "754\n"
     ]
    },
    {
     "name": "stderr",
     "output_type": "stream",
     "text": [
      "WARNING: Maximum number of iterations 10000 reached. The mean may be inaccurate\n"
     ]
    },
    {
     "name": "stdout",
     "output_type": "stream",
     "text": [
      "time for iteration: 66.69279384613037\n",
      "755\n"
     ]
    },
    {
     "name": "stderr",
     "output_type": "stream",
     "text": [
      "WARNING: Maximum number of iterations 10000 reached. The mean may be inaccurate\n"
     ]
    },
    {
     "name": "stdout",
     "output_type": "stream",
     "text": [
      "time for iteration: 43.18458390235901\n",
      "756\n",
      "time for iteration: 28.12970781326294\n",
      "757\n",
      "time for iteration: 29.7673921585083\n",
      "758\n",
      "time for iteration: 57.18761587142944\n",
      "759\n",
      "time for iteration: 27.491037130355835\n",
      "760\n",
      "time for iteration: 35.649065017700195\n",
      "761\n"
     ]
    },
    {
     "name": "stderr",
     "output_type": "stream",
     "text": [
      "WARNING: Maximum number of iterations 10000 reached. The mean may be inaccurate\n"
     ]
    },
    {
     "name": "stdout",
     "output_type": "stream",
     "text": [
      "time for iteration: 42.331647872924805\n",
      "762\n",
      "time for iteration: 38.80511689186096\n",
      "763\n"
     ]
    },
    {
     "name": "stderr",
     "output_type": "stream",
     "text": [
      "WARNING: Maximum number of iterations 10000 reached. The mean may be inaccurate\n"
     ]
    },
    {
     "name": "stdout",
     "output_type": "stream",
     "text": [
      "time for iteration: 45.672659158706665\n",
      "764\n",
      "time for iteration: 40.74488019943237\n",
      "765\n"
     ]
    },
    {
     "name": "stderr",
     "output_type": "stream",
     "text": [
      "WARNING: Maximum number of iterations 10000 reached. The mean may be inaccurate\n"
     ]
    },
    {
     "name": "stdout",
     "output_type": "stream",
     "text": [
      "time for iteration: 52.19683885574341\n",
      "766\n"
     ]
    },
    {
     "name": "stderr",
     "output_type": "stream",
     "text": [
      "WARNING: Maximum number of iterations 10000 reached. The mean may be inaccurate\n"
     ]
    },
    {
     "name": "stdout",
     "output_type": "stream",
     "text": [
      "time for iteration: 52.2757294178009\n",
      "767\n"
     ]
    },
    {
     "name": "stderr",
     "output_type": "stream",
     "text": [
      "WARNING: Maximum number of iterations 10000 reached. The mean may be inaccurate\n"
     ]
    },
    {
     "name": "stdout",
     "output_type": "stream",
     "text": [
      "time for iteration: 37.31362175941467\n",
      "768\n"
     ]
    },
    {
     "name": "stderr",
     "output_type": "stream",
     "text": [
      "WARNING: Maximum number of iterations 10000 reached. The mean may be inaccurate\n"
     ]
    },
    {
     "name": "stdout",
     "output_type": "stream",
     "text": [
      "time for iteration: 42.55561089515686\n",
      "769\n",
      "time for iteration: 29.04378890991211\n",
      "770\n"
     ]
    },
    {
     "name": "stderr",
     "output_type": "stream",
     "text": [
      "WARNING: Maximum number of iterations 10000 reached. The mean may be inaccurate\n"
     ]
    },
    {
     "name": "stdout",
     "output_type": "stream",
     "text": [
      "time for iteration: 44.875550746917725\n",
      "771\n",
      "time for iteration: 39.70157194137573\n",
      "772\n"
     ]
    },
    {
     "name": "stderr",
     "output_type": "stream",
     "text": [
      "WARNING: Maximum number of iterations 10000 reached. The mean may be inaccurate\n"
     ]
    },
    {
     "name": "stdout",
     "output_type": "stream",
     "text": [
      "time for iteration: 82.689199924469\n",
      "773\n"
     ]
    },
    {
     "name": "stderr",
     "output_type": "stream",
     "text": [
      "WARNING: Maximum number of iterations 10000 reached. The mean may be inaccurate\n"
     ]
    },
    {
     "name": "stdout",
     "output_type": "stream",
     "text": [
      "time for iteration: 35.928515672683716\n",
      "774\n",
      "time for iteration: 60.78502440452576\n",
      "775\n",
      "time for iteration: 30.062057971954346\n",
      "776\n"
     ]
    },
    {
     "name": "stderr",
     "output_type": "stream",
     "text": [
      "WARNING: Maximum number of iterations 10000 reached. The mean may be inaccurate\n"
     ]
    },
    {
     "name": "stdout",
     "output_type": "stream",
     "text": [
      "time for iteration: 41.17087960243225\n",
      "777\n",
      "time for iteration: 28.9070041179657\n",
      "778\n",
      "time for iteration: 30.95535182952881\n",
      "779\n"
     ]
    },
    {
     "name": "stderr",
     "output_type": "stream",
     "text": [
      "WARNING: Maximum number of iterations 10000 reached. The mean may be inaccurate\n"
     ]
    },
    {
     "name": "stdout",
     "output_type": "stream",
     "text": [
      "time for iteration: 35.63487768173218\n",
      "780\n",
      "time for iteration: 44.99366116523743\n",
      "781\n"
     ]
    },
    {
     "name": "stderr",
     "output_type": "stream",
     "text": [
      "WARNING: Maximum number of iterations 10000 reached. The mean may be inaccurate\n"
     ]
    },
    {
     "name": "stdout",
     "output_type": "stream",
     "text": [
      "time for iteration: 46.90902590751648\n",
      "782\n",
      "time for iteration: 51.250518560409546\n",
      "783\n",
      "time for iteration: 27.17843508720398\n",
      "784\n",
      "time for iteration: 35.08003282546997\n",
      "785\n",
      "time for iteration: 30.298295497894287\n",
      "786\n",
      "time for iteration: 43.58196449279785\n",
      "787\n",
      "time for iteration: 28.78487277030945\n",
      "788\n",
      "time for iteration: 53.25728964805603\n",
      "789\n",
      "time for iteration: 27.284326314926147\n",
      "790\n",
      "time for iteration: 27.045387268066406\n",
      "791\n"
     ]
    },
    {
     "name": "stderr",
     "output_type": "stream",
     "text": [
      "WARNING: Maximum number of iterations 10000 reached. The mean may be inaccurate\n"
     ]
    },
    {
     "name": "stdout",
     "output_type": "stream",
     "text": [
      "time for iteration: 87.3986485004425\n",
      "792\n",
      "time for iteration: 34.49109768867493\n",
      "793\n"
     ]
    },
    {
     "name": "stderr",
     "output_type": "stream",
     "text": [
      "WARNING: Maximum number of iterations 10000 reached. The mean may be inaccurate\n"
     ]
    },
    {
     "name": "stdout",
     "output_type": "stream",
     "text": [
      "time for iteration: 56.78419780731201\n",
      "794\n",
      "time for iteration: 28.969199895858765\n",
      "795\n",
      "time for iteration: 42.036792278289795\n",
      "796\n",
      "time for iteration: 27.413442373275757\n",
      "797\n",
      "time for iteration: 27.495153188705444\n",
      "798\n",
      "time for iteration: 30.048369646072388\n",
      "799\n"
     ]
    },
    {
     "name": "stderr",
     "output_type": "stream",
     "text": [
      "WARNING: Maximum number of iterations 10000 reached. The mean may be inaccurate\n"
     ]
    },
    {
     "name": "stdout",
     "output_type": "stream",
     "text": [
      "time for iteration: 62.68499779701233\n",
      "800\n"
     ]
    },
    {
     "name": "stderr",
     "output_type": "stream",
     "text": [
      "WARNING: Maximum number of iterations 10000 reached. The mean may be inaccurate\n"
     ]
    },
    {
     "name": "stdout",
     "output_type": "stream",
     "text": [
      "time for iteration: 76.35352778434753\n",
      "801\n"
     ]
    },
    {
     "name": "stderr",
     "output_type": "stream",
     "text": [
      "WARNING: Maximum number of iterations 10000 reached. The mean may be inaccurate\n"
     ]
    },
    {
     "name": "stdout",
     "output_type": "stream",
     "text": [
      "time for iteration: 35.7378032207489\n",
      "802\n",
      "time for iteration: 35.51297378540039\n",
      "803\n"
     ]
    },
    {
     "name": "stderr",
     "output_type": "stream",
     "text": [
      "WARNING: Maximum number of iterations 10000 reached. The mean may be inaccurate\n"
     ]
    },
    {
     "name": "stdout",
     "output_type": "stream",
     "text": [
      "time for iteration: 48.293298959732056\n",
      "804\n"
     ]
    },
    {
     "name": "stderr",
     "output_type": "stream",
     "text": [
      "WARNING: Maximum number of iterations 10000 reached. The mean may be inaccurate\n"
     ]
    },
    {
     "name": "stdout",
     "output_type": "stream",
     "text": [
      "time for iteration: 47.88718891143799\n",
      "805\n",
      "time for iteration: 28.813847064971924\n",
      "806\n",
      "time for iteration: 44.477550983428955\n",
      "807\n",
      "time for iteration: 30.258647918701172\n",
      "808\n"
     ]
    },
    {
     "name": "stderr",
     "output_type": "stream",
     "text": [
      "WARNING: Maximum number of iterations 10000 reached. The mean may be inaccurate\n"
     ]
    },
    {
     "name": "stdout",
     "output_type": "stream",
     "text": [
      "time for iteration: 56.42703413963318\n",
      "809\n"
     ]
    },
    {
     "name": "stderr",
     "output_type": "stream",
     "text": [
      "WARNING: Maximum number of iterations 10000 reached. The mean may be inaccurate\n"
     ]
    },
    {
     "name": "stdout",
     "output_type": "stream",
     "text": [
      "time for iteration: 50.14773654937744\n",
      "810\n",
      "time for iteration: 36.86823296546936\n",
      "811\n",
      "time for iteration: 36.28684973716736\n",
      "812\n"
     ]
    },
    {
     "name": "stderr",
     "output_type": "stream",
     "text": [
      "WARNING: Maximum number of iterations 10000 reached. The mean may be inaccurate\n"
     ]
    },
    {
     "name": "stdout",
     "output_type": "stream",
     "text": [
      "time for iteration: 50.82091474533081\n",
      "813\n"
     ]
    },
    {
     "name": "stderr",
     "output_type": "stream",
     "text": [
      "WARNING: Maximum number of iterations 10000 reached. The mean may be inaccurate\n"
     ]
    },
    {
     "name": "stdout",
     "output_type": "stream",
     "text": [
      "time for iteration: 48.70838212966919\n",
      "814\n",
      "time for iteration: 27.26802945137024\n",
      "815\n",
      "time for iteration: 30.52190661430359\n",
      "816\n",
      "time for iteration: 43.82738161087036\n",
      "817\n"
     ]
    },
    {
     "name": "stderr",
     "output_type": "stream",
     "text": [
      "WARNING: Maximum number of iterations 10000 reached. The mean may be inaccurate\n"
     ]
    },
    {
     "name": "stdout",
     "output_type": "stream",
     "text": [
      "time for iteration: 49.234426498413086\n",
      "818\n",
      "time for iteration: 54.09539461135864\n",
      "819\n",
      "time for iteration: 31.230767488479614\n",
      "820\n"
     ]
    },
    {
     "name": "stderr",
     "output_type": "stream",
     "text": [
      "WARNING: Maximum number of iterations 10000 reached. The mean may be inaccurate\n"
     ]
    },
    {
     "name": "stdout",
     "output_type": "stream",
     "text": [
      "time for iteration: 59.00910925865173\n",
      "821\n"
     ]
    },
    {
     "name": "stderr",
     "output_type": "stream",
     "text": [
      "WARNING: Maximum number of iterations 10000 reached. The mean may be inaccurate\n"
     ]
    },
    {
     "name": "stdout",
     "output_type": "stream",
     "text": [
      "time for iteration: 46.89287734031677\n",
      "822\n",
      "time for iteration: 38.886845111846924\n",
      "823\n",
      "time for iteration: 49.374672412872314\n",
      "824\n",
      "time for iteration: 34.59895038604736\n",
      "825\n"
     ]
    },
    {
     "name": "stderr",
     "output_type": "stream",
     "text": [
      "WARNING: Maximum number of iterations 10000 reached. The mean may be inaccurate\n"
     ]
    },
    {
     "name": "stdout",
     "output_type": "stream",
     "text": [
      "time for iteration: 50.047568798065186\n",
      "826\n",
      "time for iteration: 55.99396538734436\n",
      "827\n",
      "time for iteration: 38.090039014816284\n",
      "828\n",
      "time for iteration: 28.39598798751831\n",
      "829\n",
      "time for iteration: 27.264134168624878\n",
      "830\n",
      "time for iteration: 27.472028017044067\n",
      "831\n",
      "time for iteration: 29.027377605438232\n",
      "832\n",
      "time for iteration: 29.265125036239624\n",
      "833\n",
      "time for iteration: 36.35932278633118\n",
      "834\n"
     ]
    },
    {
     "name": "stderr",
     "output_type": "stream",
     "text": [
      "WARNING: Maximum number of iterations 10000 reached. The mean may be inaccurate\n"
     ]
    },
    {
     "name": "stdout",
     "output_type": "stream",
     "text": [
      "time for iteration: 35.36949968338013\n",
      "835\n"
     ]
    },
    {
     "name": "stderr",
     "output_type": "stream",
     "text": [
      "WARNING: Maximum number of iterations 10000 reached. The mean may be inaccurate\n"
     ]
    },
    {
     "name": "stdout",
     "output_type": "stream",
     "text": [
      "time for iteration: 48.27095556259155\n",
      "836\n",
      "time for iteration: 36.05990552902222\n",
      "837\n"
     ]
    },
    {
     "name": "stderr",
     "output_type": "stream",
     "text": [
      "WARNING: Maximum number of iterations 10000 reached. The mean may be inaccurate\n"
     ]
    },
    {
     "name": "stdout",
     "output_type": "stream",
     "text": [
      "time for iteration: 35.39826560020447\n",
      "838\n"
     ]
    },
    {
     "name": "stderr",
     "output_type": "stream",
     "text": [
      "WARNING: Maximum number of iterations 10000 reached. The mean may be inaccurate\n"
     ]
    },
    {
     "name": "stdout",
     "output_type": "stream",
     "text": [
      "time for iteration: 37.0677695274353\n",
      "839\n",
      "time for iteration: 46.34558463096619\n",
      "840\n"
     ]
    },
    {
     "name": "stderr",
     "output_type": "stream",
     "text": [
      "WARNING: Maximum number of iterations 10000 reached. The mean may be inaccurate\n"
     ]
    },
    {
     "name": "stdout",
     "output_type": "stream",
     "text": [
      "time for iteration: 50.215226888656616\n",
      "841\n"
     ]
    },
    {
     "name": "stderr",
     "output_type": "stream",
     "text": [
      "WARNING: Maximum number of iterations 10000 reached. The mean may be inaccurate\n"
     ]
    },
    {
     "name": "stdout",
     "output_type": "stream",
     "text": [
      "time for iteration: 62.39603590965271\n",
      "842\n",
      "time for iteration: 30.459737539291382\n",
      "843\n"
     ]
    },
    {
     "name": "stderr",
     "output_type": "stream",
     "text": [
      "WARNING: Maximum number of iterations 10000 reached. The mean may be inaccurate\n"
     ]
    },
    {
     "name": "stdout",
     "output_type": "stream",
     "text": [
      "time for iteration: 53.81734085083008\n",
      "844\n"
     ]
    },
    {
     "name": "stderr",
     "output_type": "stream",
     "text": [
      "WARNING: Maximum number of iterations 10000 reached. The mean may be inaccurate\n"
     ]
    },
    {
     "name": "stdout",
     "output_type": "stream",
     "text": [
      "time for iteration: 52.12130284309387\n",
      "845\n"
     ]
    },
    {
     "name": "stderr",
     "output_type": "stream",
     "text": [
      "WARNING: Maximum number of iterations 10000 reached. The mean may be inaccurate\n"
     ]
    },
    {
     "name": "stdout",
     "output_type": "stream",
     "text": [
      "time for iteration: 55.352861166000366\n",
      "846\n"
     ]
    },
    {
     "name": "stderr",
     "output_type": "stream",
     "text": [
      "WARNING: Maximum number of iterations 10000 reached. The mean may be inaccurate\n"
     ]
    },
    {
     "name": "stdout",
     "output_type": "stream",
     "text": [
      "time for iteration: 42.20595455169678\n",
      "847\n",
      "time for iteration: 44.618916511535645\n",
      "848\n",
      "time for iteration: 45.33838415145874\n",
      "849\n",
      "time for iteration: 27.273202419281006\n",
      "850\n",
      "time for iteration: 30.7813458442688\n",
      "851\n",
      "time for iteration: 28.704684257507324\n",
      "852\n",
      "time for iteration: 27.4760799407959\n",
      "853\n"
     ]
    },
    {
     "name": "stderr",
     "output_type": "stream",
     "text": [
      "WARNING: Maximum number of iterations 10000 reached. The mean may be inaccurate\n"
     ]
    },
    {
     "name": "stdout",
     "output_type": "stream",
     "text": [
      "time for iteration: 102.11032581329346\n",
      "854\n",
      "time for iteration: 28.883962154388428\n",
      "855\n",
      "time for iteration: 27.386026620864868\n",
      "856\n"
     ]
    },
    {
     "name": "stderr",
     "output_type": "stream",
     "text": [
      "WARNING: Maximum number of iterations 10000 reached. The mean may be inaccurate\n"
     ]
    },
    {
     "name": "stdout",
     "output_type": "stream",
     "text": [
      "time for iteration: 57.20391249656677\n",
      "857\n"
     ]
    },
    {
     "name": "stderr",
     "output_type": "stream",
     "text": [
      "WARNING: Maximum number of iterations 10000 reached. The mean may be inaccurate\n"
     ]
    },
    {
     "name": "stdout",
     "output_type": "stream",
     "text": [
      "time for iteration: 34.776679277420044\n",
      "858\n"
     ]
    },
    {
     "name": "stderr",
     "output_type": "stream",
     "text": [
      "WARNING: Maximum number of iterations 10000 reached. The mean may be inaccurate\n"
     ]
    },
    {
     "name": "stdout",
     "output_type": "stream",
     "text": [
      "time for iteration: 50.56828689575195\n",
      "859\n",
      "time for iteration: 57.27290153503418\n",
      "860\n",
      "time for iteration: 27.847980499267578\n",
      "861\n"
     ]
    },
    {
     "name": "stderr",
     "output_type": "stream",
     "text": [
      "WARNING: Maximum number of iterations 10000 reached. The mean may be inaccurate\n"
     ]
    },
    {
     "name": "stdout",
     "output_type": "stream",
     "text": [
      "time for iteration: 52.421748638153076\n",
      "862\n",
      "time for iteration: 43.95967435836792\n",
      "863\n",
      "time for iteration: 43.09035539627075\n",
      "864\n",
      "time for iteration: 36.24982953071594\n",
      "865\n",
      "time for iteration: 28.533912897109985\n",
      "866\n",
      "time for iteration: 27.500084400177002\n",
      "867\n",
      "time for iteration: 27.667809009552002\n",
      "868\n",
      "time for iteration: 29.18661332130432\n",
      "869\n"
     ]
    },
    {
     "name": "stderr",
     "output_type": "stream",
     "text": [
      "WARNING: Maximum number of iterations 10000 reached. The mean may be inaccurate\n"
     ]
    },
    {
     "name": "stdout",
     "output_type": "stream",
     "text": [
      "time for iteration: 75.41756248474121\n",
      "870\n",
      "time for iteration: 37.017147064208984\n",
      "871\n",
      "time for iteration: 80.38042187690735\n",
      "872\n"
     ]
    },
    {
     "name": "stderr",
     "output_type": "stream",
     "text": [
      "WARNING: Maximum number of iterations 10000 reached. The mean may be inaccurate\n"
     ]
    },
    {
     "name": "stdout",
     "output_type": "stream",
     "text": [
      "time for iteration: 66.32800841331482\n",
      "873\n"
     ]
    },
    {
     "name": "stderr",
     "output_type": "stream",
     "text": [
      "WARNING: Maximum number of iterations 10000 reached. The mean may be inaccurate\n"
     ]
    },
    {
     "name": "stdout",
     "output_type": "stream",
     "text": [
      "time for iteration: 67.89679741859436\n",
      "874\n",
      "time for iteration: 28.71921467781067\n",
      "875\n",
      "time for iteration: 42.68075394630432\n",
      "876\n",
      "time for iteration: 33.05506157875061\n",
      "877\n",
      "time for iteration: 27.412654399871826\n",
      "878\n"
     ]
    },
    {
     "name": "stderr",
     "output_type": "stream",
     "text": [
      "WARNING: Maximum number of iterations 10000 reached. The mean may be inaccurate\n"
     ]
    },
    {
     "name": "stdout",
     "output_type": "stream",
     "text": [
      "time for iteration: 34.775205850601196\n",
      "879\n",
      "time for iteration: 40.516385316848755\n",
      "880\n"
     ]
    },
    {
     "name": "stderr",
     "output_type": "stream",
     "text": [
      "WARNING: Maximum number of iterations 10000 reached. The mean may be inaccurate\n"
     ]
    },
    {
     "name": "stdout",
     "output_type": "stream",
     "text": [
      "time for iteration: 36.769113302230835\n",
      "881\n"
     ]
    },
    {
     "name": "stderr",
     "output_type": "stream",
     "text": [
      "WARNING: Maximum number of iterations 10000 reached. The mean may be inaccurate\n"
     ]
    },
    {
     "name": "stdout",
     "output_type": "stream",
     "text": [
      "time for iteration: 56.882789611816406\n",
      "882\n",
      "time for iteration: 57.95096230506897\n",
      "883\n",
      "time for iteration: 45.58711767196655\n",
      "884\n"
     ]
    },
    {
     "name": "stderr",
     "output_type": "stream",
     "text": [
      "WARNING: Maximum number of iterations 10000 reached. The mean may be inaccurate\n"
     ]
    },
    {
     "name": "stdout",
     "output_type": "stream",
     "text": [
      "time for iteration: 43.92941403388977\n",
      "885\n",
      "time for iteration: 27.74378538131714\n",
      "886\n",
      "time for iteration: 40.917633295059204\n",
      "887\n"
     ]
    },
    {
     "name": "stderr",
     "output_type": "stream",
     "text": [
      "WARNING: Maximum number of iterations 10000 reached. The mean may be inaccurate\n"
     ]
    },
    {
     "name": "stdout",
     "output_type": "stream",
     "text": [
      "time for iteration: 35.80215287208557\n",
      "888\n"
     ]
    },
    {
     "name": "stderr",
     "output_type": "stream",
     "text": [
      "WARNING: Maximum number of iterations 10000 reached. The mean may be inaccurate\n"
     ]
    },
    {
     "name": "stdout",
     "output_type": "stream",
     "text": [
      "time for iteration: 36.72929334640503\n",
      "889\n",
      "time for iteration: 33.12990427017212\n",
      "890\n",
      "time for iteration: 34.04392409324646\n",
      "891\n",
      "time for iteration: 29.0356867313385\n",
      "892\n",
      "time for iteration: 34.95338702201843\n",
      "893\n",
      "time for iteration: 30.810568809509277\n",
      "894\n"
     ]
    },
    {
     "name": "stderr",
     "output_type": "stream",
     "text": [
      "WARNING: Maximum number of iterations 10000 reached. The mean may be inaccurate\n"
     ]
    },
    {
     "name": "stdout",
     "output_type": "stream",
     "text": [
      "time for iteration: 38.71285128593445\n",
      "895\n"
     ]
    },
    {
     "name": "stderr",
     "output_type": "stream",
     "text": [
      "WARNING: Maximum number of iterations 10000 reached. The mean may be inaccurate\n"
     ]
    },
    {
     "name": "stdout",
     "output_type": "stream",
     "text": [
      "time for iteration: 36.45615530014038\n",
      "896\n",
      "time for iteration: 27.03956961631775\n",
      "897\n"
     ]
    },
    {
     "name": "stderr",
     "output_type": "stream",
     "text": [
      "WARNING: Maximum number of iterations 10000 reached. The mean may be inaccurate\n"
     ]
    },
    {
     "name": "stdout",
     "output_type": "stream",
     "text": [
      "time for iteration: 43.3219690322876\n",
      "898\n",
      "time for iteration: 27.979212999343872\n",
      "899\n"
     ]
    },
    {
     "name": "stderr",
     "output_type": "stream",
     "text": [
      "WARNING: Maximum number of iterations 10000 reached. The mean may be inaccurate\n"
     ]
    },
    {
     "name": "stdout",
     "output_type": "stream",
     "text": [
      "time for iteration: 54.1062331199646\n",
      "900\n",
      "time for iteration: 26.949296712875366\n",
      "901\n"
     ]
    },
    {
     "name": "stderr",
     "output_type": "stream",
     "text": [
      "WARNING: Maximum number of iterations 10000 reached. The mean may be inaccurate\n"
     ]
    },
    {
     "name": "stdout",
     "output_type": "stream",
     "text": [
      "time for iteration: 43.85632252693176\n",
      "902\n",
      "time for iteration: 27.226751804351807\n",
      "903\n",
      "time for iteration: 27.151054620742798\n",
      "904\n",
      "time for iteration: 35.40824770927429\n",
      "905\n",
      "time for iteration: 41.91905903816223\n",
      "906\n",
      "time for iteration: 28.273996591567993\n",
      "907\n"
     ]
    },
    {
     "name": "stderr",
     "output_type": "stream",
     "text": [
      "WARNING: Maximum number of iterations 10000 reached. The mean may be inaccurate\n"
     ]
    },
    {
     "name": "stdout",
     "output_type": "stream",
     "text": [
      "time for iteration: 45.97434163093567\n",
      "908\n",
      "time for iteration: 57.694621562957764\n",
      "909\n",
      "time for iteration: 28.401823043823242\n",
      "910\n",
      "time for iteration: 114.89959120750427\n",
      "911\n",
      "time for iteration: 27.28290319442749\n",
      "912\n",
      "time for iteration: 27.539966344833374\n",
      "913\n"
     ]
    },
    {
     "name": "stderr",
     "output_type": "stream",
     "text": [
      "WARNING: Maximum number of iterations 10000 reached. The mean may be inaccurate\n"
     ]
    },
    {
     "name": "stdout",
     "output_type": "stream",
     "text": [
      "time for iteration: 49.15653872489929\n",
      "914\n"
     ]
    },
    {
     "name": "stderr",
     "output_type": "stream",
     "text": [
      "WARNING: Maximum number of iterations 10000 reached. The mean may be inaccurate\n"
     ]
    },
    {
     "name": "stdout",
     "output_type": "stream",
     "text": [
      "time for iteration: 42.26700258255005\n",
      "915\n",
      "time for iteration: 28.772596836090088\n",
      "916\n",
      "time for iteration: 40.86597943305969\n",
      "917\n",
      "time for iteration: 27.366622924804688\n",
      "918\n",
      "time for iteration: 34.07604789733887\n",
      "919\n"
     ]
    },
    {
     "name": "stderr",
     "output_type": "stream",
     "text": [
      "WARNING: Maximum number of iterations 10000 reached. The mean may be inaccurate\n"
     ]
    },
    {
     "name": "stdout",
     "output_type": "stream",
     "text": [
      "time for iteration: 49.24269127845764\n",
      "920\n"
     ]
    },
    {
     "name": "stderr",
     "output_type": "stream",
     "text": [
      "WARNING: Maximum number of iterations 10000 reached. The mean may be inaccurate\n"
     ]
    },
    {
     "name": "stdout",
     "output_type": "stream",
     "text": [
      "time for iteration: 35.62469029426575\n",
      "921\n"
     ]
    },
    {
     "name": "stderr",
     "output_type": "stream",
     "text": [
      "WARNING: Maximum number of iterations 10000 reached. The mean may be inaccurate\n"
     ]
    },
    {
     "name": "stdout",
     "output_type": "stream",
     "text": [
      "time for iteration: 43.97797656059265\n",
      "922\n",
      "time for iteration: 38.549994707107544\n",
      "923\n",
      "time for iteration: 27.39894676208496\n",
      "924\n"
     ]
    },
    {
     "name": "stderr",
     "output_type": "stream",
     "text": [
      "WARNING: Maximum number of iterations 10000 reached. The mean may be inaccurate\n"
     ]
    },
    {
     "name": "stdout",
     "output_type": "stream",
     "text": [
      "time for iteration: 61.31961178779602\n",
      "925\n"
     ]
    },
    {
     "name": "stderr",
     "output_type": "stream",
     "text": [
      "WARNING: Maximum number of iterations 10000 reached. The mean may be inaccurate\n"
     ]
    },
    {
     "name": "stdout",
     "output_type": "stream",
     "text": [
      "time for iteration: 35.56176257133484\n",
      "926\n",
      "time for iteration: 28.647867918014526\n",
      "927\n",
      "time for iteration: 47.56627368927002\n",
      "928\n",
      "time for iteration: 40.041818380355835\n",
      "929\n",
      "time for iteration: 69.85932850837708\n",
      "930\n",
      "time for iteration: 29.537243366241455\n",
      "931\n"
     ]
    },
    {
     "name": "stderr",
     "output_type": "stream",
     "text": [
      "WARNING: Maximum number of iterations 10000 reached. The mean may be inaccurate\n"
     ]
    },
    {
     "name": "stdout",
     "output_type": "stream",
     "text": [
      "time for iteration: 41.2151894569397\n",
      "932\n"
     ]
    },
    {
     "name": "stderr",
     "output_type": "stream",
     "text": [
      "WARNING: Maximum number of iterations 10000 reached. The mean may be inaccurate\n"
     ]
    },
    {
     "name": "stdout",
     "output_type": "stream",
     "text": [
      "time for iteration: 56.639105796813965\n",
      "933\n",
      "time for iteration: 44.72192740440369\n",
      "934\n",
      "time for iteration: 28.406943559646606\n",
      "935\n"
     ]
    },
    {
     "name": "stderr",
     "output_type": "stream",
     "text": [
      "WARNING: Maximum number of iterations 10000 reached. The mean may be inaccurate\n"
     ]
    },
    {
     "name": "stdout",
     "output_type": "stream",
     "text": [
      "time for iteration: 64.6365647315979\n",
      "936\n"
     ]
    },
    {
     "name": "stderr",
     "output_type": "stream",
     "text": [
      "WARNING: Maximum number of iterations 10000 reached. The mean may be inaccurate\n"
     ]
    },
    {
     "name": "stdout",
     "output_type": "stream",
     "text": [
      "time for iteration: 75.0570080280304\n",
      "937\n",
      "time for iteration: 28.466063022613525\n",
      "938\n",
      "time for iteration: 28.27488398551941\n",
      "939\n"
     ]
    },
    {
     "name": "stderr",
     "output_type": "stream",
     "text": [
      "WARNING: Maximum number of iterations 10000 reached. The mean may be inaccurate\n"
     ]
    },
    {
     "name": "stdout",
     "output_type": "stream",
     "text": [
      "time for iteration: 50.5445613861084\n",
      "940\n",
      "time for iteration: 28.156076908111572\n",
      "941\n",
      "time for iteration: 63.17076873779297\n",
      "942\n"
     ]
    },
    {
     "name": "stderr",
     "output_type": "stream",
     "text": [
      "WARNING: Maximum number of iterations 10000 reached. The mean may be inaccurate\n"
     ]
    },
    {
     "name": "stdout",
     "output_type": "stream",
     "text": [
      "time for iteration: 41.69170546531677\n",
      "943\n"
     ]
    },
    {
     "name": "stderr",
     "output_type": "stream",
     "text": [
      "WARNING: Maximum number of iterations 10000 reached. The mean may be inaccurate\n"
     ]
    },
    {
     "name": "stdout",
     "output_type": "stream",
     "text": [
      "time for iteration: 34.293747663497925\n",
      "944\n"
     ]
    },
    {
     "name": "stderr",
     "output_type": "stream",
     "text": [
      "WARNING: Maximum number of iterations 10000 reached. The mean may be inaccurate\n"
     ]
    },
    {
     "name": "stdout",
     "output_type": "stream",
     "text": [
      "time for iteration: 66.39758682250977\n",
      "945\n",
      "time for iteration: 28.379772186279297\n",
      "946\n",
      "time for iteration: 27.19840669631958\n",
      "947\n",
      "time for iteration: 30.57091760635376\n",
      "948\n"
     ]
    },
    {
     "name": "stderr",
     "output_type": "stream",
     "text": [
      "WARNING: Maximum number of iterations 10000 reached. The mean may be inaccurate\n"
     ]
    },
    {
     "name": "stdout",
     "output_type": "stream",
     "text": [
      "time for iteration: 34.19406580924988\n",
      "949\n"
     ]
    },
    {
     "name": "stderr",
     "output_type": "stream",
     "text": [
      "WARNING: Maximum number of iterations 10000 reached. The mean may be inaccurate\n"
     ]
    },
    {
     "name": "stdout",
     "output_type": "stream",
     "text": [
      "time for iteration: 57.705323219299316\n",
      "950\n",
      "time for iteration: 29.057804107666016\n",
      "951\n",
      "time for iteration: 28.715521574020386\n",
      "952\n"
     ]
    },
    {
     "name": "stderr",
     "output_type": "stream",
     "text": [
      "WARNING: Maximum number of iterations 10000 reached. The mean may be inaccurate\n"
     ]
    },
    {
     "name": "stdout",
     "output_type": "stream",
     "text": [
      "time for iteration: 50.59872031211853\n",
      "953\n",
      "time for iteration: 26.964276552200317\n",
      "954\n"
     ]
    },
    {
     "name": "stderr",
     "output_type": "stream",
     "text": [
      "WARNING: Maximum number of iterations 10000 reached. The mean may be inaccurate\n"
     ]
    },
    {
     "name": "stdout",
     "output_type": "stream",
     "text": [
      "time for iteration: 52.21576690673828\n",
      "955\n",
      "time for iteration: 28.21127200126648\n",
      "956\n",
      "time for iteration: 26.917907238006592\n",
      "957\n",
      "time for iteration: 28.156994581222534\n",
      "958\n",
      "time for iteration: 28.946727991104126\n",
      "959\n",
      "time for iteration: 34.28198170661926\n",
      "960\n",
      "time for iteration: 27.018998861312866\n",
      "961\n"
     ]
    },
    {
     "name": "stderr",
     "output_type": "stream",
     "text": [
      "WARNING: Maximum number of iterations 10000 reached. The mean may be inaccurate\n"
     ]
    },
    {
     "name": "stdout",
     "output_type": "stream",
     "text": [
      "time for iteration: 49.340924978256226\n",
      "962\n",
      "time for iteration: 27.5649197101593\n",
      "963\n",
      "time for iteration: 28.057775735855103\n",
      "964\n",
      "time for iteration: 27.10379910469055\n",
      "965\n",
      "time for iteration: 94.43989706039429\n",
      "966\n",
      "time for iteration: 39.50233817100525\n",
      "967\n"
     ]
    },
    {
     "name": "stderr",
     "output_type": "stream",
     "text": [
      "WARNING: Maximum number of iterations 10000 reached. The mean may be inaccurate\n"
     ]
    },
    {
     "name": "stdout",
     "output_type": "stream",
     "text": [
      "time for iteration: 49.91053509712219\n",
      "968\n"
     ]
    },
    {
     "name": "stderr",
     "output_type": "stream",
     "text": [
      "WARNING: Maximum number of iterations 10000 reached. The mean may be inaccurate\n"
     ]
    },
    {
     "name": "stdout",
     "output_type": "stream",
     "text": [
      "time for iteration: 42.868611574172974\n",
      "969\n",
      "time for iteration: 26.7619948387146\n",
      "970\n",
      "time for iteration: 28.30576205253601\n",
      "971\n",
      "time for iteration: 26.81816554069519\n",
      "972\n",
      "time for iteration: 50.542492151260376\n",
      "973\n"
     ]
    },
    {
     "name": "stderr",
     "output_type": "stream",
     "text": [
      "WARNING: Maximum number of iterations 10000 reached. The mean may be inaccurate\n"
     ]
    },
    {
     "name": "stdout",
     "output_type": "stream",
     "text": [
      "time for iteration: 36.29021906852722\n",
      "974\n",
      "time for iteration: 27.22524070739746\n",
      "975\n"
     ]
    },
    {
     "name": "stderr",
     "output_type": "stream",
     "text": [
      "WARNING: Maximum number of iterations 10000 reached. The mean may be inaccurate\n"
     ]
    },
    {
     "name": "stdout",
     "output_type": "stream",
     "text": [
      "time for iteration: 46.09303402900696\n",
      "976\n",
      "time for iteration: 41.63997554779053\n",
      "977\n",
      "time for iteration: 28.19026827812195\n",
      "978\n"
     ]
    },
    {
     "name": "stderr",
     "output_type": "stream",
     "text": [
      "WARNING: Maximum number of iterations 10000 reached. The mean may be inaccurate\n"
     ]
    },
    {
     "name": "stdout",
     "output_type": "stream",
     "text": [
      "time for iteration: 40.349027156829834\n",
      "979\n",
      "time for iteration: 39.58688974380493\n",
      "980\n",
      "time for iteration: 50.53299260139465\n",
      "981\n",
      "time for iteration: 38.36619329452515\n",
      "982\n",
      "time for iteration: 82.31508111953735\n",
      "983\n"
     ]
    },
    {
     "name": "stderr",
     "output_type": "stream",
     "text": [
      "WARNING: Maximum number of iterations 10000 reached. The mean may be inaccurate\n"
     ]
    },
    {
     "name": "stdout",
     "output_type": "stream",
     "text": [
      "time for iteration: 35.54561948776245\n",
      "984\n",
      "time for iteration: 47.54093813896179\n",
      "985\n"
     ]
    },
    {
     "name": "stderr",
     "output_type": "stream",
     "text": [
      "WARNING: Maximum number of iterations 10000 reached. The mean may be inaccurate\n"
     ]
    },
    {
     "name": "stdout",
     "output_type": "stream",
     "text": [
      "time for iteration: 43.436344385147095\n",
      "986\n",
      "time for iteration: 30.196613311767578\n",
      "987\n",
      "time for iteration: 50.42181158065796\n",
      "988\n",
      "time for iteration: 27.766241550445557\n",
      "989\n",
      "time for iteration: 67.48505711555481\n",
      "990\n",
      "time for iteration: 29.134456157684326\n",
      "991\n",
      "time for iteration: 64.1041488647461\n",
      "992\n",
      "time for iteration: 40.45392894744873\n",
      "993\n"
     ]
    },
    {
     "name": "stderr",
     "output_type": "stream",
     "text": [
      "WARNING: Maximum number of iterations 10000 reached. The mean may be inaccurate\n"
     ]
    },
    {
     "name": "stdout",
     "output_type": "stream",
     "text": [
      "time for iteration: 37.198224782943726\n",
      "994\n"
     ]
    },
    {
     "name": "stderr",
     "output_type": "stream",
     "text": [
      "WARNING: Maximum number of iterations 10000 reached. The mean may be inaccurate\n"
     ]
    },
    {
     "name": "stdout",
     "output_type": "stream",
     "text": [
      "time for iteration: 35.6851851940155\n",
      "995\n",
      "time for iteration: 28.86010718345642\n",
      "996\n",
      "time for iteration: 28.33121156692505\n",
      "997\n"
     ]
    },
    {
     "name": "stderr",
     "output_type": "stream",
     "text": [
      "WARNING: Maximum number of iterations 10000 reached. The mean may be inaccurate\n"
     ]
    },
    {
     "name": "stdout",
     "output_type": "stream",
     "text": [
      "time for iteration: 50.88006329536438\n",
      "998\n",
      "time for iteration: 28.914239645004272\n",
      "999\n",
      "time for iteration: 30.77562928199768\n"
     ]
    }
   ],
   "source": [
    "list_rss = []\n",
    "list_fs = []\n",
    "for i in range(1000):\n",
    "    print(i)\n",
    "    start_time = time.time()\n",
    "    I = np.eye(dim)\n",
    "    start = I[dim - 1,:].flatten()\n",
    "    points = I[dim - 1,:].reshape(1,-1)\n",
    "    for j in range(99):\n",
    "        end = random_walk(start)\n",
    "        points = np.concatenate((points, end.reshape(1,-1)), axis=0)\n",
    "        start = end\n",
    "    \n",
    "    jpoints = jnp.asarray(points)\n",
    "    \n",
    "    intercept_init, coef1_init, coef2_init = np.random.normal(size=(3,) + (dim,))\n",
    "    intercept_init = jnp.asarray(intercept_init)\n",
    "    coef1_init = jnp.asarray(coef1_init)\n",
    "    coef2_init = jnp.asarray(coef2_init)\n",
    "    intercept_hat = intercept_init / jnp.linalg.norm(intercept_init)\n",
    "    coef1_hat = jto_tangent(coef1_init, intercept_hat)\n",
    "    coef2_hat = jto_tangent(coef2_init, intercept_hat)\n",
    "    initial_guess = jnp.hstack([intercept_hat.flatten(), coef1_hat.flatten(), coef2_hat.flatten()])\n",
    "\n",
    "    objective_with_grad = lambda param: loss(jpoints, param)\n",
    "\n",
    "    result = minimize(objective_with_grad, initial_guess, method=\"BFGS\", tol=1e-5)\n",
    "\n",
    "    ans = np.array(result.x)\n",
    "    intercept_fin, coef1_fin, coef2_fin = np.split(result.x, 3)\n",
    "    intercept_fin = np.reshape(intercept_fin, space.shape)\n",
    "    coef1_fin = np.reshape(coef1_fin, space.shape)\n",
    "    coef2_fin = np.reshape(coef2_fin, space.shape)\n",
    "\n",
    "    intercept_ = space.projection(intercept_fin)\n",
    "    coef1_ = space.to_tangent(coef1_fin, intercept_)\n",
    "    coef2_ = space.to_tangent(coef2_fin, intercept_)\n",
    "\n",
    "    sphere_vec = proj_to_2sphere(points, coef1_, coef2_, intercept_)\n",
    "    rss = np.sum(space.metric.squared_dist(points, sphere_vec))\n",
    "\n",
    "    point1 = space.projection(coef1_)\n",
    "    point2 = space.projection(coef2_)\n",
    "    basis = np.vstack((intercept_, point1, point2)).T\n",
    "    Q, R = np.linalg.qr(basis)\n",
    "\n",
    "    sphere_data = sphere_vec @ Q\n",
    "\n",
    "    sphere = Hypersphere(dim=2)\n",
    "    sphere_mean = FrechetMean(sphere)\n",
    "    sphere_mean.set(max_iter=10000)\n",
    "    sphere_mean.fit(sphere_data)\n",
    "    sphere_mean_estimate = sphere_mean.estimate_ \n",
    "\n",
    "    sphere_variance = np.sum(sphere.metric.squared_dist(sphere_data, sphere_mean_estimate))\n",
    "    mixed_variance = rss + sphere_variance\n",
    "    fitting_score = 1 - rss / mixed_variance\n",
    "\n",
    "    list_rss.append(rss)\n",
    "    list_fs.append(fitting_score)\n",
    "    end_time = time.time()\n",
    "    print('time for iteration:', end_time-start_time)"
   ]
  },
  {
   "cell_type": "code",
   "execution_count": null,
   "id": "eb50bca0-6bff-491a-a85b-bd03a345f491",
   "metadata": {
    "tags": []
   },
   "outputs": [],
   "source": [
    "rss_array = np.array(list_rss)\n",
    "fs_array = np.array(list_fs)\n",
    "np.savetxt(\"rss.csv\", rss_array)\n",
    "np.savetxt(\"fitting_score.csv\", fs_array)"
   ]
  },
  {
   "cell_type": "code",
   "execution_count": null,
   "id": "e207f24f-9b6e-448c-8864-3119d5ed70f2",
   "metadata": {},
   "outputs": [],
   "source": []
  }
 ],
 "metadata": {
  "environment": {
   "kernel": "python3",
   "name": "tf2-cpu.2-11.m125",
   "type": "gcloud",
   "uri": "us-docker.pkg.dev/deeplearning-platform-release/gcr.io/tf2-cpu.2-11:m125"
  },
  "kernelspec": {
   "display_name": "Python 3 (Local)",
   "language": "python",
   "name": "python3"
  },
  "language_info": {
   "codemirror_mode": {
    "name": "ipython",
    "version": 3
   },
   "file_extension": ".py",
   "mimetype": "text/x-python",
   "name": "python",
   "nbconvert_exporter": "python",
   "pygments_lexer": "ipython3",
   "version": "3.10.15"
  }
 },
 "nbformat": 4,
 "nbformat_minor": 5
}
