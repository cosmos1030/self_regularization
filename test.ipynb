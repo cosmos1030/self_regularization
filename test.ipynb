{
 "cells": [
  {
   "cell_type": "code",
   "execution_count": 2,
   "id": "0d0ff917-0063-4baa-9ebe-7bdeaf698d36",
   "metadata": {
    "execution": {
     "iopub.execute_input": "2025-03-14T09:08:41.141046Z",
     "iopub.status.busy": "2025-03-14T09:08:41.140190Z",
     "iopub.status.idle": "2025-03-14T09:08:41.149800Z",
     "shell.execute_reply": "2025-03-14T09:08:41.147916Z",
     "shell.execute_reply.started": "2025-03-14T09:08:41.141018Z"
    }
   },
   "outputs": [
    {
     "name": "stdout",
     "output_type": "stream",
     "text": [
      "<class 'numpy.ndarray'>\n"
     ]
    }
   ],
   "source": [
    "import pickle\n",
    "\n",
    "with open(\"iterates.pk\", \"rb\") as f:\n",
    "    data = pickle.load(f)\n",
    "\n",
    "print(type(data))  # 데이터 유형 확인\n"
   ]
  },
  {
   "cell_type": "code",
   "execution_count": 4,
   "id": "8e9992bb-6416-4da9-a2d2-c57d315d479b",
   "metadata": {
    "execution": {
     "iopub.execute_input": "2025-03-14T09:09:06.003790Z",
     "iopub.status.busy": "2025-03-14T09:09:06.003373Z",
     "iopub.status.idle": "2025-03-14T09:09:06.010176Z",
     "shell.execute_reply": "2025-03-14T09:09:06.009032Z",
     "shell.execute_reply.started": "2025-03-14T09:09:06.003726Z"
    }
   },
   "outputs": [
    {
     "name": "stdout",
     "output_type": "stream",
     "text": [
      "(6000, 9)\n"
     ]
    }
   ],
   "source": [
    "print(data.shape)"
   ]
  }
 ],
 "metadata": {
  "kernelspec": {
   "display_name": "Python 3 (ipykernel)",
   "language": "python",
   "name": "python3"
  },
  "language_info": {
   "codemirror_mode": {
    "name": "ipython",
    "version": 3
   },
   "file_extension": ".py",
   "mimetype": "text/x-python",
   "name": "python",
   "nbconvert_exporter": "python",
   "pygments_lexer": "ipython3",
   "version": "3.11.7"
  }
 },
 "nbformat": 4,
 "nbformat_minor": 5
}
